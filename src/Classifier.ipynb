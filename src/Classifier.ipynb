{
 "cells": [
  {
   "cell_type": "code",
   "execution_count": 1,
   "metadata": {},
   "outputs": [
    {
     "name": "stdout",
     "output_type": "stream",
     "text": [
      "/sw/centos/anaconda3/2019.10/bin/python\n"
     ]
    }
   ],
   "source": [
    "!which python"
   ]
  },
  {
   "cell_type": "code",
   "execution_count": 33,
   "metadata": {},
   "outputs": [
    {
     "name": "stdout",
     "output_type": "stream",
     "text": [
      "Defaulting to user installation because normal site-packages is not writeable\n",
      "Requirement already satisfied: xgboost in /u/pw7nc/.local/lib/python3.7/site-packages (1.4.1)\n",
      "Requirement already satisfied: numpy in /u/pw7nc/.local/lib/python3.7/site-packages (from xgboost) (1.20.1)\n",
      "Requirement already satisfied: scipy in /net/sw/centos-7.4/anaconda3/2019.10/lib/python3.7/site-packages (from xgboost) (1.3.1)\n",
      "\u001b[33mWARNING: You are using pip version 20.0.2; however, version 21.1.1 is available.\n",
      "You should consider upgrading via the '/sw/centos/anaconda3/2019.10/bin/python3 -m pip install --upgrade pip' command.\u001b[0m\n",
      "Defaulting to user installation because normal site-packages is not writeable\n",
      "Requirement already satisfied: lightgbm in /u/pw7nc/.local/lib/python3.7/site-packages (3.2.1)\n",
      "Requirement already satisfied: scikit-learn!=0.22.0 in /u/pw7nc/.local/lib/python3.7/site-packages (from lightgbm) (0.24.1)\n",
      "Requirement already satisfied: numpy in /u/pw7nc/.local/lib/python3.7/site-packages (from lightgbm) (1.20.1)\n",
      "Requirement already satisfied: scipy in /net/sw/centos-7.4/anaconda3/2019.10/lib/python3.7/site-packages (from lightgbm) (1.3.1)\n",
      "Requirement already satisfied: wheel in /net/sw/centos-7.4/anaconda3/2019.10/lib/python3.7/site-packages (from lightgbm) (0.33.6)\n",
      "Requirement already satisfied: joblib>=0.11 in /net/sw/centos-7.4/anaconda3/2019.10/lib/python3.7/site-packages (from scikit-learn!=0.22.0->lightgbm) (0.13.2)\n",
      "Requirement already satisfied: threadpoolctl>=2.0.0 in /u/pw7nc/.local/lib/python3.7/site-packages (from scikit-learn!=0.22.0->lightgbm) (2.1.0)\n",
      "\u001b[33mWARNING: You are using pip version 20.0.2; however, version 21.1.1 is available.\n",
      "You should consider upgrading via the '/sw/centos/anaconda3/2019.10/bin/python3 -m pip install --upgrade pip' command.\u001b[0m\n"
     ]
    }
   ],
   "source": [
    "!pip install xgboost\n",
    "!pip install lightgbm"
   ]
  },
  {
   "cell_type": "code",
   "execution_count": 34,
   "metadata": {},
   "outputs": [],
   "source": [
    "%config IPCompleter.greedy=True\n",
    "import pandas as pd\n",
    "import seaborn as sns\n",
    "import numpy as np\n",
    "\n",
    "import matplotlib as matplot\n",
    "import matplotlib.pyplot as plt\n",
    "%matplotlib inline\n",
    "\n",
    "from IPython.core.interactiveshell import InteractiveShell\n",
    "InteractiveShell.ast_node_interactivity = \"all\"\n",
    "\n",
    "import warnings\n",
    "warnings.filterwarnings(\"ignore\")\n",
    "\n",
    "# from keras import Sequential\n",
    "# from keras.models import Model, load_model\n",
    "# from keras.layers import *\n",
    "# from keras.callbacks import ModelCheckpoint\n",
    "# from keras import regularizers\n",
    "\n",
    "from sklearn.metrics import *\n",
    "from sklearn.tree import DecisionTreeClassifier\n",
    "from sklearn.ensemble import RandomForestClassifier, ExtraTreesClassifier, VotingClassifier\n",
    "from sklearn.model_selection import train_test_split\n",
    "from sklearn.preprocessing import LabelEncoder,normalize\n",
    "from sklearn.naive_bayes import GaussianNB\n",
    "from sklearn.svm import SVC\n",
    "from sklearn.gaussian_process import GaussianProcessClassifier\n",
    "from sklearn.gaussian_process.kernels import RBF\n",
    "from sklearn.neighbors import KNeighborsClassifier\n",
    "from sklearn import linear_model\n",
    "\n",
    "\n",
    "import xgboost, lightgbm\n",
    "# from mlxtend.classifier import EnsembleVoteClassifier\n"
   ]
  },
  {
   "cell_type": "markdown",
   "metadata": {},
   "source": [
    "# Preprocessing"
   ]
  },
  {
   "cell_type": "code",
   "execution_count": 35,
   "metadata": {},
   "outputs": [],
   "source": [
    "train = pd.read_csv('UNSW-NB15_4_train.csv')\n",
    "test = pd.read_csv('UNSW-NB15_4_test.csv')\n",
    "combined_data = pd.concat([train, test])"
   ]
  },
  {
   "cell_type": "code",
   "execution_count": 36,
   "metadata": {},
   "outputs": [
    {
     "data": {
      "text/html": "<div>\n<style scoped>\n    .dataframe tbody tr th:only-of-type {\n        vertical-align: middle;\n    }\n\n    .dataframe tbody tr th {\n        vertical-align: top;\n    }\n\n    .dataframe thead th {\n        text-align: right;\n    }\n</style>\n<table border=\"1\" class=\"dataframe\">\n  <thead>\n    <tr style=\"text-align: right;\">\n      <th></th>\n      <th>srcip</th>\n      <th>sport</th>\n      <th>dstip</th>\n      <th>dsport</th>\n      <th>proto</th>\n      <th>state</th>\n      <th>dur</th>\n      <th>sbytes</th>\n      <th>dbytes</th>\n      <th>sttl</th>\n      <th>...</th>\n      <th>ct_srv_dst</th>\n      <th>ct_dst_ltm</th>\n      <th>ct_src_ ltm</th>\n      <th>ct_src_dport_ltm</th>\n      <th>ct_dst_sport_ltm</th>\n      <th>ct_dst_src_ltm</th>\n      <th>attack_cat</th>\n      <th>Label</th>\n      <th>src_ip_with_port</th>\n      <th>trg_ip_with_port</th>\n    </tr>\n  </thead>\n  <tbody>\n    <tr>\n      <th>0</th>\n      <td>149.171.126.10</td>\n      <td>47439</td>\n      <td>175.45.176.0</td>\n      <td>53</td>\n      <td>udp</td>\n      <td>INT</td>\n      <td>0.000007</td>\n      <td>264</td>\n      <td>0</td>\n      <td>60</td>\n      <td>...</td>\n      <td>43</td>\n      <td>37</td>\n      <td>37</td>\n      <td>37</td>\n      <td>19</td>\n      <td>43</td>\n      <td>NaN</td>\n      <td>0</td>\n      <td>149.171.126.10:47439</td>\n      <td>175.45.176.0:53</td>\n    </tr>\n    <tr>\n      <th>1</th>\n      <td>59.166.0.9</td>\n      <td>15662</td>\n      <td>149.171.126.4</td>\n      <td>13946</td>\n      <td>tcp</td>\n      <td>FIN</td>\n      <td>0.053957</td>\n      <td>2646</td>\n      <td>25684</td>\n      <td>31</td>\n      <td>...</td>\n      <td>6</td>\n      <td>6</td>\n      <td>2</td>\n      <td>1</td>\n      <td>1</td>\n      <td>1</td>\n      <td>NaN</td>\n      <td>0</td>\n      <td>59.166.0.9:15662</td>\n      <td>149.171.126.4:13946</td>\n    </tr>\n    <tr>\n      <th>2</th>\n      <td>59.166.0.8</td>\n      <td>5516</td>\n      <td>149.171.126.2</td>\n      <td>53</td>\n      <td>udp</td>\n      <td>CON</td>\n      <td>0.001023</td>\n      <td>146</td>\n      <td>178</td>\n      <td>31</td>\n      <td>...</td>\n      <td>2</td>\n      <td>1</td>\n      <td>8</td>\n      <td>1</td>\n      <td>1</td>\n      <td>2</td>\n      <td>NaN</td>\n      <td>0</td>\n      <td>59.166.0.8:5516</td>\n      <td>149.171.126.2:53</td>\n    </tr>\n    <tr>\n      <th>3</th>\n      <td>59.166.0.3</td>\n      <td>23879</td>\n      <td>149.171.126.6</td>\n      <td>22905</td>\n      <td>udp</td>\n      <td>CON</td>\n      <td>0.305048</td>\n      <td>520</td>\n      <td>304</td>\n      <td>31</td>\n      <td>...</td>\n      <td>9</td>\n      <td>4</td>\n      <td>5</td>\n      <td>1</td>\n      <td>1</td>\n      <td>4</td>\n      <td>NaN</td>\n      <td>0</td>\n      <td>59.166.0.3:23879</td>\n      <td>149.171.126.6:22905</td>\n    </tr>\n    <tr>\n      <th>4</th>\n      <td>175.45.176.0</td>\n      <td>1043</td>\n      <td>149.171.126.10</td>\n      <td>53</td>\n      <td>udp</td>\n      <td>INT</td>\n      <td>0.000009</td>\n      <td>114</td>\n      <td>0</td>\n      <td>254</td>\n      <td>...</td>\n      <td>14</td>\n      <td>14</td>\n      <td>14</td>\n      <td>14</td>\n      <td>9</td>\n      <td>14</td>\n      <td>Generic</td>\n      <td>1</td>\n      <td>175.45.176.0:1043</td>\n      <td>149.171.126.10:53</td>\n    </tr>\n    <tr>\n      <th>...</th>\n      <td>...</td>\n      <td>...</td>\n      <td>...</td>\n      <td>...</td>\n      <td>...</td>\n      <td>...</td>\n      <td>...</td>\n      <td>...</td>\n      <td>...</td>\n      <td>...</td>\n      <td>...</td>\n      <td>...</td>\n      <td>...</td>\n      <td>...</td>\n      <td>...</td>\n      <td>...</td>\n      <td>...</td>\n      <td>...</td>\n      <td>...</td>\n      <td>...</td>\n      <td>...</td>\n    </tr>\n    <tr>\n      <th>88004</th>\n      <td>175.45.176.1</td>\n      <td>47439</td>\n      <td>149.171.126.14</td>\n      <td>53</td>\n      <td>udp</td>\n      <td>INT</td>\n      <td>0.000009</td>\n      <td>114</td>\n      <td>0</td>\n      <td>254</td>\n      <td>...</td>\n      <td>30</td>\n      <td>18</td>\n      <td>18</td>\n      <td>18</td>\n      <td>18</td>\n      <td>30</td>\n      <td>Generic</td>\n      <td>1</td>\n      <td>175.45.176.1:47439</td>\n      <td>149.171.126.14:53</td>\n    </tr>\n    <tr>\n      <th>88005</th>\n      <td>59.166.0.4</td>\n      <td>33468</td>\n      <td>149.171.126.1</td>\n      <td>31029</td>\n      <td>tcp</td>\n      <td>FIN</td>\n      <td>0.027027</td>\n      <td>2542</td>\n      <td>22128</td>\n      <td>31</td>\n      <td>...</td>\n      <td>8</td>\n      <td>3</td>\n      <td>2</td>\n      <td>1</td>\n      <td>1</td>\n      <td>1</td>\n      <td>NaN</td>\n      <td>0</td>\n      <td>59.166.0.4:33468</td>\n      <td>149.171.126.1:31029</td>\n    </tr>\n    <tr>\n      <th>88006</th>\n      <td>59.166.0.1</td>\n      <td>58776</td>\n      <td>149.171.126.7</td>\n      <td>22</td>\n      <td>tcp</td>\n      <td>FIN</td>\n      <td>10.215708</td>\n      <td>36536</td>\n      <td>77060</td>\n      <td>31</td>\n      <td>...</td>\n      <td>1</td>\n      <td>6</td>\n      <td>2</td>\n      <td>1</td>\n      <td>1</td>\n      <td>2</td>\n      <td>NaN</td>\n      <td>0</td>\n      <td>59.166.0.1:58776</td>\n      <td>149.171.126.7:22</td>\n    </tr>\n    <tr>\n      <th>88007</th>\n      <td>149.171.126.14</td>\n      <td>47439</td>\n      <td>175.45.176.1</td>\n      <td>53</td>\n      <td>udp</td>\n      <td>INT</td>\n      <td>0.000003</td>\n      <td>264</td>\n      <td>0</td>\n      <td>60</td>\n      <td>...</td>\n      <td>31</td>\n      <td>19</td>\n      <td>19</td>\n      <td>19</td>\n      <td>19</td>\n      <td>31</td>\n      <td>NaN</td>\n      <td>0</td>\n      <td>149.171.126.14:47439</td>\n      <td>175.45.176.1:53</td>\n    </tr>\n    <tr>\n      <th>88008</th>\n      <td>149.171.126.10</td>\n      <td>1043</td>\n      <td>175.45.176.0</td>\n      <td>53</td>\n      <td>udp</td>\n      <td>INT</td>\n      <td>0.000010</td>\n      <td>264</td>\n      <td>0</td>\n      <td>60</td>\n      <td>...</td>\n      <td>41</td>\n      <td>23</td>\n      <td>23</td>\n      <td>23</td>\n      <td>12</td>\n      <td>41</td>\n      <td>NaN</td>\n      <td>0</td>\n      <td>149.171.126.10:1043</td>\n      <td>175.45.176.0:53</td>\n    </tr>\n  </tbody>\n</table>\n<p>440044 rows × 51 columns</p>\n</div>",
      "text/plain": "                srcip  sport           dstip dsport proto state        dur  \\\n0      149.171.126.10  47439    175.45.176.0     53   udp   INT   0.000007   \n1          59.166.0.9  15662   149.171.126.4  13946   tcp   FIN   0.053957   \n2          59.166.0.8   5516   149.171.126.2     53   udp   CON   0.001023   \n3          59.166.0.3  23879   149.171.126.6  22905   udp   CON   0.305048   \n4        175.45.176.0   1043  149.171.126.10     53   udp   INT   0.000009   \n...               ...    ...             ...    ...   ...   ...        ...   \n88004    175.45.176.1  47439  149.171.126.14     53   udp   INT   0.000009   \n88005      59.166.0.4  33468   149.171.126.1  31029   tcp   FIN   0.027027   \n88006      59.166.0.1  58776   149.171.126.7     22   tcp   FIN  10.215708   \n88007  149.171.126.14  47439    175.45.176.1     53   udp   INT   0.000003   \n88008  149.171.126.10   1043    175.45.176.0     53   udp   INT   0.000010   \n\n       sbytes  dbytes  sttl  ...  ct_srv_dst  ct_dst_ltm  ct_src_ ltm  \\\n0         264       0    60  ...          43          37           37   \n1        2646   25684    31  ...           6           6            2   \n2         146     178    31  ...           2           1            8   \n3         520     304    31  ...           9           4            5   \n4         114       0   254  ...          14          14           14   \n...       ...     ...   ...  ...         ...         ...          ...   \n88004     114       0   254  ...          30          18           18   \n88005    2542   22128    31  ...           8           3            2   \n88006   36536   77060    31  ...           1           6            2   \n88007     264       0    60  ...          31          19           19   \n88008     264       0    60  ...          41          23           23   \n\n      ct_src_dport_ltm  ct_dst_sport_ltm  ct_dst_src_ltm  attack_cat  Label  \\\n0                   37                19              43         NaN      0   \n1                    1                 1               1         NaN      0   \n2                    1                 1               2         NaN      0   \n3                    1                 1               4         NaN      0   \n4                   14                 9              14     Generic      1   \n...                ...               ...             ...         ...    ...   \n88004               18                18              30     Generic      1   \n88005                1                 1               1         NaN      0   \n88006                1                 1               2         NaN      0   \n88007               19                19              31         NaN      0   \n88008               23                12              41         NaN      0   \n\n           src_ip_with_port     trg_ip_with_port  \n0      149.171.126.10:47439      175.45.176.0:53  \n1          59.166.0.9:15662  149.171.126.4:13946  \n2           59.166.0.8:5516     149.171.126.2:53  \n3          59.166.0.3:23879  149.171.126.6:22905  \n4         175.45.176.0:1043    149.171.126.10:53  \n...                     ...                  ...  \n88004    175.45.176.1:47439    149.171.126.14:53  \n88005      59.166.0.4:33468  149.171.126.1:31029  \n88006      59.166.0.1:58776     149.171.126.7:22  \n88007  149.171.126.14:47439      175.45.176.1:53  \n88008   149.171.126.10:1043      175.45.176.0:53  \n\n[440044 rows x 51 columns]"
     },
     "execution_count": 36,
     "metadata": {},
     "output_type": "execute_result"
    }
   ],
   "source": [
    "combined_data"
   ]
  },
  {
   "cell_type": "code",
   "execution_count": 37,
   "metadata": {},
   "outputs": [
    {
     "name": "stdout",
     "output_type": "stream",
     "text": [
      "Counter({0: 351150, 1: 88894})\n"
     ]
    }
   ],
   "source": [
    "from collections import Counter\n",
    "label_counter = Counter(list(combined_data['Label']))\n",
    "print(label_counter)"
   ]
  },
  {
   "cell_type": "code",
   "execution_count": 38,
   "metadata": {},
   "outputs": [
    {
     "name": "stdout",
     "output_type": "stream",
     "text": [
      "Counter({nan: 280919, 'Generic': 49475, 'Exploits': 9178, ' Fuzzers ': 4293, 'DoS': 3946, ' Reconnaissance ': 2818, 'Backdoor': 534, 'Analysis': 533, ' Shellcode ': 299, 'Worms': 40})\n"
     ]
    }
   ],
   "source": [
    "label_counter = Counter(list(train['attack_cat']))\n",
    "print(label_counter)"
   ]
  },
  {
   "cell_type": "code",
   "execution_count": 39,
   "metadata": {},
   "outputs": [],
   "source": [
    "# remove field: 'attack_cat', 'Stime', 'Ltime', 'ct_ftp_cmd'\n",
    "train = train.drop(['attack_cat', 'Stime', 'Ltime', 'ct_ftp_cmd'], axis=1)\n",
    "test = test.drop(['attack_cat', 'Stime', 'Ltime', 'ct_ftp_cmd'], axis=1)"
   ]
  },
  {
   "cell_type": "code",
   "execution_count": 40,
   "metadata": {},
   "outputs": [],
   "source": [
    "# remove ip address field: 'srcip', 'sport', 'dstip', 'dsport'\n",
    "train = train.drop(['srcip', 'sport', 'dstip', 'dsport'], axis=1)\n",
    "test = test.drop(['srcip', 'sport', 'dstip', 'dsport'], axis=1)"
   ]
  },
  {
   "cell_type": "code",
   "execution_count": 41,
   "metadata": {},
   "outputs": [
    {
     "data": {
      "text/html": "<div>\n<style scoped>\n    .dataframe tbody tr th:only-of-type {\n        vertical-align: middle;\n    }\n\n    .dataframe tbody tr th {\n        vertical-align: top;\n    }\n\n    .dataframe thead th {\n        text-align: right;\n    }\n</style>\n<table border=\"1\" class=\"dataframe\">\n  <thead>\n    <tr style=\"text-align: right;\">\n      <th></th>\n      <th>proto</th>\n      <th>state</th>\n      <th>dur</th>\n      <th>sbytes</th>\n      <th>dbytes</th>\n      <th>sttl</th>\n      <th>dttl</th>\n      <th>sloss</th>\n      <th>dloss</th>\n      <th>service</th>\n      <th>...</th>\n      <th>ct_srv_src</th>\n      <th>ct_srv_dst</th>\n      <th>ct_dst_ltm</th>\n      <th>ct_src_ ltm</th>\n      <th>ct_src_dport_ltm</th>\n      <th>ct_dst_sport_ltm</th>\n      <th>ct_dst_src_ltm</th>\n      <th>Label</th>\n      <th>src_ip_with_port</th>\n      <th>trg_ip_with_port</th>\n    </tr>\n  </thead>\n  <tbody>\n    <tr>\n      <th>0</th>\n      <td>udp</td>\n      <td>INT</td>\n      <td>0.000007</td>\n      <td>264</td>\n      <td>0</td>\n      <td>60</td>\n      <td>0</td>\n      <td>0</td>\n      <td>0</td>\n      <td>dns</td>\n      <td>...</td>\n      <td>43</td>\n      <td>43</td>\n      <td>37</td>\n      <td>37</td>\n      <td>37</td>\n      <td>19</td>\n      <td>43</td>\n      <td>0</td>\n      <td>149.171.126.10:47439</td>\n      <td>175.45.176.0:53</td>\n    </tr>\n    <tr>\n      <th>1</th>\n      <td>tcp</td>\n      <td>FIN</td>\n      <td>0.053957</td>\n      <td>2646</td>\n      <td>25684</td>\n      <td>31</td>\n      <td>29</td>\n      <td>7</td>\n      <td>15</td>\n      <td>-</td>\n      <td>...</td>\n      <td>2</td>\n      <td>6</td>\n      <td>6</td>\n      <td>2</td>\n      <td>1</td>\n      <td>1</td>\n      <td>1</td>\n      <td>0</td>\n      <td>59.166.0.9:15662</td>\n      <td>149.171.126.4:13946</td>\n    </tr>\n    <tr>\n      <th>2</th>\n      <td>udp</td>\n      <td>CON</td>\n      <td>0.001023</td>\n      <td>146</td>\n      <td>178</td>\n      <td>31</td>\n      <td>29</td>\n      <td>0</td>\n      <td>0</td>\n      <td>dns</td>\n      <td>...</td>\n      <td>5</td>\n      <td>2</td>\n      <td>1</td>\n      <td>8</td>\n      <td>1</td>\n      <td>1</td>\n      <td>2</td>\n      <td>0</td>\n      <td>59.166.0.8:5516</td>\n      <td>149.171.126.2:53</td>\n    </tr>\n    <tr>\n      <th>3</th>\n      <td>udp</td>\n      <td>CON</td>\n      <td>0.305048</td>\n      <td>520</td>\n      <td>304</td>\n      <td>31</td>\n      <td>29</td>\n      <td>0</td>\n      <td>0</td>\n      <td>-</td>\n      <td>...</td>\n      <td>5</td>\n      <td>9</td>\n      <td>4</td>\n      <td>5</td>\n      <td>1</td>\n      <td>1</td>\n      <td>4</td>\n      <td>0</td>\n      <td>59.166.0.3:23879</td>\n      <td>149.171.126.6:22905</td>\n    </tr>\n    <tr>\n      <th>4</th>\n      <td>udp</td>\n      <td>INT</td>\n      <td>0.000009</td>\n      <td>114</td>\n      <td>0</td>\n      <td>254</td>\n      <td>0</td>\n      <td>0</td>\n      <td>0</td>\n      <td>dns</td>\n      <td>...</td>\n      <td>14</td>\n      <td>14</td>\n      <td>14</td>\n      <td>14</td>\n      <td>14</td>\n      <td>9</td>\n      <td>14</td>\n      <td>1</td>\n      <td>175.45.176.0:1043</td>\n      <td>149.171.126.10:53</td>\n    </tr>\n  </tbody>\n</table>\n<p>5 rows × 43 columns</p>\n</div>",
      "text/plain": "  proto state       dur  sbytes  dbytes  sttl  dttl  sloss  dloss service  \\\n0   udp   INT  0.000007     264       0    60     0      0      0     dns   \n1   tcp   FIN  0.053957    2646   25684    31    29      7     15       -   \n2   udp   CON  0.001023     146     178    31    29      0      0     dns   \n3   udp   CON  0.305048     520     304    31    29      0      0       -   \n4   udp   INT  0.000009     114       0   254     0      0      0     dns   \n\n   ...  ct_srv_src  ct_srv_dst  ct_dst_ltm  ct_src_ ltm  ct_src_dport_ltm  \\\n0  ...          43          43          37           37                37   \n1  ...           2           6           6            2                 1   \n2  ...           5           2           1            8                 1   \n3  ...           5           9           4            5                 1   \n4  ...          14          14          14           14                14   \n\n   ct_dst_sport_ltm  ct_dst_src_ltm  Label      src_ip_with_port  \\\n0                19              43      0  149.171.126.10:47439   \n1                 1               1      0      59.166.0.9:15662   \n2                 1               2      0       59.166.0.8:5516   \n3                 1               4      0      59.166.0.3:23879   \n4                 9              14      1     175.45.176.0:1043   \n\n      trg_ip_with_port  \n0      175.45.176.0:53  \n1  149.171.126.4:13946  \n2     149.171.126.2:53  \n3  149.171.126.6:22905  \n4    149.171.126.10:53  \n\n[5 rows x 43 columns]"
     },
     "execution_count": 41,
     "metadata": {},
     "output_type": "execute_result"
    }
   ],
   "source": [
    "train.head()"
   ]
  },
  {
   "cell_type": "code",
   "execution_count": 42,
   "metadata": {},
   "outputs": [],
   "source": [
    "# The remaining nominal field are: 'proto', 'state', 'service'\n",
    "le = LabelEncoder()\n",
    "train['proto'] = le.fit_transform(train['proto'])\n",
    "test['proto'] = le.transform(test['proto'])\n",
    "train['service'] = le.fit_transform(train['service'])\n",
    "test['service'] = le.transform(test['service'])\n",
    "train['state'] = le.fit_transform(train['state'])\n",
    "test['state'] = le.transform(test['state'])"
   ]
  },
  {
   "cell_type": "code",
   "execution_count": 43,
   "metadata": {},
   "outputs": [
    {
     "data": {
      "text/html": "<div>\n<style scoped>\n    .dataframe tbody tr th:only-of-type {\n        vertical-align: middle;\n    }\n\n    .dataframe tbody tr th {\n        vertical-align: top;\n    }\n\n    .dataframe thead th {\n        text-align: right;\n    }\n</style>\n<table border=\"1\" class=\"dataframe\">\n  <thead>\n    <tr style=\"text-align: right;\">\n      <th></th>\n      <th>proto</th>\n      <th>state</th>\n      <th>dur</th>\n      <th>sbytes</th>\n      <th>dbytes</th>\n      <th>sttl</th>\n      <th>dttl</th>\n      <th>sloss</th>\n      <th>dloss</th>\n      <th>service</th>\n      <th>...</th>\n      <th>ct_srv_src</th>\n      <th>ct_srv_dst</th>\n      <th>ct_dst_ltm</th>\n      <th>ct_src_ ltm</th>\n      <th>ct_src_dport_ltm</th>\n      <th>ct_dst_sport_ltm</th>\n      <th>ct_dst_src_ltm</th>\n      <th>Label</th>\n      <th>src_ip_with_port</th>\n      <th>trg_ip_with_port</th>\n    </tr>\n  </thead>\n  <tbody>\n    <tr>\n      <th>0</th>\n      <td>119</td>\n      <td>5</td>\n      <td>0.000007</td>\n      <td>264</td>\n      <td>0</td>\n      <td>60</td>\n      <td>0</td>\n      <td>0</td>\n      <td>0</td>\n      <td>2</td>\n      <td>...</td>\n      <td>43</td>\n      <td>43</td>\n      <td>37</td>\n      <td>37</td>\n      <td>37</td>\n      <td>19</td>\n      <td>43</td>\n      <td>0</td>\n      <td>149.171.126.10:47439</td>\n      <td>175.45.176.0:53</td>\n    </tr>\n    <tr>\n      <th>1</th>\n      <td>113</td>\n      <td>4</td>\n      <td>0.053957</td>\n      <td>2646</td>\n      <td>25684</td>\n      <td>31</td>\n      <td>29</td>\n      <td>7</td>\n      <td>15</td>\n      <td>0</td>\n      <td>...</td>\n      <td>2</td>\n      <td>6</td>\n      <td>6</td>\n      <td>2</td>\n      <td>1</td>\n      <td>1</td>\n      <td>1</td>\n      <td>0</td>\n      <td>59.166.0.9:15662</td>\n      <td>149.171.126.4:13946</td>\n    </tr>\n    <tr>\n      <th>2</th>\n      <td>119</td>\n      <td>1</td>\n      <td>0.001023</td>\n      <td>146</td>\n      <td>178</td>\n      <td>31</td>\n      <td>29</td>\n      <td>0</td>\n      <td>0</td>\n      <td>2</td>\n      <td>...</td>\n      <td>5</td>\n      <td>2</td>\n      <td>1</td>\n      <td>8</td>\n      <td>1</td>\n      <td>1</td>\n      <td>2</td>\n      <td>0</td>\n      <td>59.166.0.8:5516</td>\n      <td>149.171.126.2:53</td>\n    </tr>\n    <tr>\n      <th>3</th>\n      <td>119</td>\n      <td>1</td>\n      <td>0.305048</td>\n      <td>520</td>\n      <td>304</td>\n      <td>31</td>\n      <td>29</td>\n      <td>0</td>\n      <td>0</td>\n      <td>0</td>\n      <td>...</td>\n      <td>5</td>\n      <td>9</td>\n      <td>4</td>\n      <td>5</td>\n      <td>1</td>\n      <td>1</td>\n      <td>4</td>\n      <td>0</td>\n      <td>59.166.0.3:23879</td>\n      <td>149.171.126.6:22905</td>\n    </tr>\n    <tr>\n      <th>4</th>\n      <td>119</td>\n      <td>5</td>\n      <td>0.000009</td>\n      <td>114</td>\n      <td>0</td>\n      <td>254</td>\n      <td>0</td>\n      <td>0</td>\n      <td>0</td>\n      <td>2</td>\n      <td>...</td>\n      <td>14</td>\n      <td>14</td>\n      <td>14</td>\n      <td>14</td>\n      <td>14</td>\n      <td>9</td>\n      <td>14</td>\n      <td>1</td>\n      <td>175.45.176.0:1043</td>\n      <td>149.171.126.10:53</td>\n    </tr>\n  </tbody>\n</table>\n<p>5 rows × 43 columns</p>\n</div>",
      "text/plain": "   proto  state       dur  sbytes  dbytes  sttl  dttl  sloss  dloss  service  \\\n0    119      5  0.000007     264       0    60     0      0      0        2   \n1    113      4  0.053957    2646   25684    31    29      7     15        0   \n2    119      1  0.001023     146     178    31    29      0      0        2   \n3    119      1  0.305048     520     304    31    29      0      0        0   \n4    119      5  0.000009     114       0   254     0      0      0        2   \n\n   ...  ct_srv_src  ct_srv_dst  ct_dst_ltm  ct_src_ ltm  ct_src_dport_ltm  \\\n0  ...          43          43          37           37                37   \n1  ...           2           6           6            2                 1   \n2  ...           5           2           1            8                 1   \n3  ...           5           9           4            5                 1   \n4  ...          14          14          14           14                14   \n\n   ct_dst_sport_ltm  ct_dst_src_ltm  Label      src_ip_with_port  \\\n0                19              43      0  149.171.126.10:47439   \n1                 1               1      0      59.166.0.9:15662   \n2                 1               2      0       59.166.0.8:5516   \n3                 1               4      0      59.166.0.3:23879   \n4                 9              14      1     175.45.176.0:1043   \n\n      trg_ip_with_port  \n0      175.45.176.0:53  \n1  149.171.126.4:13946  \n2     149.171.126.2:53  \n3  149.171.126.6:22905  \n4    149.171.126.10:53  \n\n[5 rows x 43 columns]"
     },
     "execution_count": 43,
     "metadata": {},
     "output_type": "execute_result"
    }
   ],
   "source": [
    "train.head()"
   ]
  },
  {
   "cell_type": "code",
   "execution_count": 44,
   "metadata": {},
   "outputs": [
    {
     "data": {
      "text/html": "<div>\n<style scoped>\n    .dataframe tbody tr th:only-of-type {\n        vertical-align: middle;\n    }\n\n    .dataframe tbody tr th {\n        vertical-align: top;\n    }\n\n    .dataframe thead th {\n        text-align: right;\n    }\n</style>\n<table border=\"1\" class=\"dataframe\">\n  <thead>\n    <tr style=\"text-align: right;\">\n      <th></th>\n      <th>proto</th>\n      <th>state</th>\n      <th>dur</th>\n      <th>sbytes</th>\n      <th>dbytes</th>\n      <th>sttl</th>\n      <th>dttl</th>\n      <th>sloss</th>\n      <th>dloss</th>\n      <th>service</th>\n      <th>...</th>\n      <th>ct_srv_src</th>\n      <th>ct_srv_dst</th>\n      <th>ct_dst_ltm</th>\n      <th>ct_src_ ltm</th>\n      <th>ct_src_dport_ltm</th>\n      <th>ct_dst_sport_ltm</th>\n      <th>ct_dst_src_ltm</th>\n      <th>Label</th>\n      <th>src_ip_with_port</th>\n      <th>trg_ip_with_port</th>\n    </tr>\n  </thead>\n  <tbody>\n    <tr>\n      <th>0</th>\n      <td>119</td>\n      <td>5</td>\n      <td>0.000009</td>\n      <td>114</td>\n      <td>0</td>\n      <td>254</td>\n      <td>0</td>\n      <td>0</td>\n      <td>0</td>\n      <td>2</td>\n      <td>...</td>\n      <td>12</td>\n      <td>12</td>\n      <td>12</td>\n      <td>12</td>\n      <td>12</td>\n      <td>12</td>\n      <td>12</td>\n      <td>1</td>\n      <td>175.45.176.0:47439</td>\n      <td>149.171.126.10:53</td>\n    </tr>\n    <tr>\n      <th>1</th>\n      <td>119</td>\n      <td>1</td>\n      <td>0.001063</td>\n      <td>130</td>\n      <td>162</td>\n      <td>31</td>\n      <td>29</td>\n      <td>0</td>\n      <td>0</td>\n      <td>2</td>\n      <td>...</td>\n      <td>1</td>\n      <td>3</td>\n      <td>2</td>\n      <td>4</td>\n      <td>1</td>\n      <td>1</td>\n      <td>2</td>\n      <td>0</td>\n      <td>59.166.0.5:64199</td>\n      <td>149.171.126.1:53</td>\n    </tr>\n    <tr>\n      <th>2</th>\n      <td>113</td>\n      <td>4</td>\n      <td>0.004815</td>\n      <td>1470</td>\n      <td>1728</td>\n      <td>31</td>\n      <td>29</td>\n      <td>5</td>\n      <td>4</td>\n      <td>0</td>\n      <td>...</td>\n      <td>7</td>\n      <td>2</td>\n      <td>1</td>\n      <td>1</td>\n      <td>1</td>\n      <td>1</td>\n      <td>1</td>\n      <td>0</td>\n      <td>59.166.0.6:62877</td>\n      <td>149.171.126.1:5190</td>\n    </tr>\n    <tr>\n      <th>3</th>\n      <td>119</td>\n      <td>5</td>\n      <td>0.000009</td>\n      <td>264</td>\n      <td>0</td>\n      <td>60</td>\n      <td>0</td>\n      <td>0</td>\n      <td>0</td>\n      <td>2</td>\n      <td>...</td>\n      <td>23</td>\n      <td>23</td>\n      <td>19</td>\n      <td>19</td>\n      <td>19</td>\n      <td>19</td>\n      <td>23</td>\n      <td>0</td>\n      <td>149.171.126.10:47439</td>\n      <td>175.45.176.0:53</td>\n    </tr>\n    <tr>\n      <th>4</th>\n      <td>119</td>\n      <td>1</td>\n      <td>0.004537</td>\n      <td>568</td>\n      <td>320</td>\n      <td>31</td>\n      <td>29</td>\n      <td>0</td>\n      <td>0</td>\n      <td>0</td>\n      <td>...</td>\n      <td>3</td>\n      <td>5</td>\n      <td>4</td>\n      <td>2</td>\n      <td>1</td>\n      <td>1</td>\n      <td>3</td>\n      <td>0</td>\n      <td>59.166.0.7:43618</td>\n      <td>149.171.126.8:111</td>\n    </tr>\n  </tbody>\n</table>\n<p>5 rows × 43 columns</p>\n</div>",
      "text/plain": "   proto  state       dur  sbytes  dbytes  sttl  dttl  sloss  dloss  service  \\\n0    119      5  0.000009     114       0   254     0      0      0        2   \n1    119      1  0.001063     130     162    31    29      0      0        2   \n2    113      4  0.004815    1470    1728    31    29      5      4        0   \n3    119      5  0.000009     264       0    60     0      0      0        2   \n4    119      1  0.004537     568     320    31    29      0      0        0   \n\n   ...  ct_srv_src  ct_srv_dst  ct_dst_ltm  ct_src_ ltm  ct_src_dport_ltm  \\\n0  ...          12          12          12           12                12   \n1  ...           1           3           2            4                 1   \n2  ...           7           2           1            1                 1   \n3  ...          23          23          19           19                19   \n4  ...           3           5           4            2                 1   \n\n   ct_dst_sport_ltm  ct_dst_src_ltm  Label      src_ip_with_port  \\\n0                12              12      1    175.45.176.0:47439   \n1                 1               2      0      59.166.0.5:64199   \n2                 1               1      0      59.166.0.6:62877   \n3                19              23      0  149.171.126.10:47439   \n4                 1               3      0      59.166.0.7:43618   \n\n     trg_ip_with_port  \n0   149.171.126.10:53  \n1    149.171.126.1:53  \n2  149.171.126.1:5190  \n3     175.45.176.0:53  \n4   149.171.126.8:111  \n\n[5 rows x 43 columns]"
     },
     "execution_count": 44,
     "metadata": {},
     "output_type": "execute_result"
    }
   ],
   "source": [
    "test.head()"
   ]
  },
  {
   "cell_type": "markdown",
   "metadata": {},
   "source": [
    "## Load ip2id mapping"
   ]
  },
  {
   "cell_type": "code",
   "execution_count": 45,
   "metadata": {},
   "outputs": [],
   "source": [
    "import pickle\n",
    "with open('vocab/dataset4_ip2id.pickle', 'rb') as handle:\n",
    "    ip2id = pickle.load(handle)\n",
    "with open('vocab/dataset4_id2ip.pickle', 'rb') as handle:\n",
    "    id2ip = pickle.load(handle)\n"
   ]
  },
  {
   "cell_type": "code",
   "execution_count": 46,
   "metadata": {},
   "outputs": [],
   "source": [
    "assert len(ip2id) == len(id2ip)"
   ]
  },
  {
   "cell_type": "markdown",
   "metadata": {},
   "source": [
    "## Load node feature score from result of oddBall"
   ]
  },
  {
   "cell_type": "code",
   "execution_count": 16,
   "metadata": {},
   "outputs": [
    {
     "name": "stdout",
     "output_type": "stream",
     "text": [
      "Load 327626 node's cliquestar out score\n"
     ]
    }
   ],
   "source": [
    "# format: {node_id: out_score}\n",
    "node_out_score_cliquestar = dict()\n",
    "with open('./oddball/code/result_1.txt', 'r') as f:\n",
    "    for line in f:\n",
    "        node_id = int(line.split()[0])\n",
    "        out_score = float(line.split()[1])\n",
    "        node_out_score_cliquestar[node_id] = out_score\n",
    "print(\"Load {} node's cliquestar out score\".format(len(node_out_score_cliquestar)))"
   ]
  },
  {
   "cell_type": "code",
   "execution_count": 47,
   "metadata": {},
   "outputs": [
    {
     "name": "stdout",
     "output_type": "stream",
     "text": [
      "Load 327626 node's HeavyVicinity out score\n"
     ]
    }
   ],
   "source": [
    "# format: {node_id: out_score}\n",
    "node_out_score_heavyvicinity = dict()\n",
    "with open('./oddball/code/result_2.txt', 'r') as f:\n",
    "    for line in f:\n",
    "        node_id = int(line.split()[0])\n",
    "        out_score = float(line.split()[1])\n",
    "        node_out_score_heavyvicinity[node_id] = out_score\n",
    "print(\"Load {} node's HeavyVicinity out score\".format(len(node_out_score_heavyvicinity)))"
   ]
  },
  {
   "cell_type": "code",
   "execution_count": 48,
   "metadata": {},
   "outputs": [
    {
     "name": "stdout",
     "output_type": "stream",
     "text": [
      "Load 327626 node's DominantPair out score\n"
     ]
    }
   ],
   "source": [
    "# format: {node_id: out_score}\n",
    "node_out_score_dominantPair = dict()\n",
    "with open('./oddball/code/result_3.txt', 'r') as f:\n",
    "    for line in f:\n",
    "        node_id = int(line.split()[0])\n",
    "        out_score = float(line.split()[1])\n",
    "        node_out_score_dominantPair[node_id] = out_score\n",
    "print(\"Load {} node's DominantPair out score\".format(len(node_out_score_dominantPair)))"
   ]
  },
  {
   "cell_type": "markdown",
   "metadata": {},
   "source": [
    "## Load node feature score"
   ]
  },
  {
   "cell_type": "code",
   "execution_count": 49,
   "metadata": {},
   "outputs": [],
   "source": [
    "# add a new column with default value\n",
    "train['src_score_cs'] = 0.0\n",
    "test['src_score_cs'] = 0.0\n",
    "train['src_score_hv'] = 0.0\n",
    "test['src_score_hv'] = 0.0\n",
    "train['src_score_dp'] = 0.0\n",
    "test['src_score_dp'] = 0.0"
   ]
  },
  {
   "cell_type": "code",
   "execution_count": 50,
   "metadata": {},
   "outputs": [
    {
     "name": "stdout",
     "output_type": "stream",
     "text": [
      "Processed 100000 lines\n",
      "Processed 200000 lines\n",
      "Processed 300000 lines\n",
      "Totally 352035 lines.\n"
     ]
    }
   ],
   "source": [
    "# update the score iteratively for each row\n",
    "for idx in train.index:\n",
    "    current_src_node_ip = train.at[idx, 'src_ip_with_port']\n",
    "    current_trg_node_ip = train.at[idx, 'trg_ip_with_port']\n",
    "    train.at[idx, 'src_score_cs'] = node_out_score_cliquestar[ip2id[current_src_node_ip]]\n",
    "    train.at[idx, 'src_score_hv'] = node_out_score_heavyvicinity[ip2id[current_src_node_ip]]\n",
    "    train.at[idx, 'src_score_dp'] = node_out_score_dominantPair[ip2id[current_src_node_ip]]\n",
    "    if (idx+1) % 100000 == 0:\n",
    "        print(\"Processed {} lines\".format(idx+1))\n",
    "print(\"Totally {} lines.\".format(idx+1))"
   ]
  },
  {
   "cell_type": "code",
   "execution_count": 51,
   "metadata": {},
   "outputs": [
    {
     "data": {
      "text/html": "<div>\n<style scoped>\n    .dataframe tbody tr th:only-of-type {\n        vertical-align: middle;\n    }\n\n    .dataframe tbody tr th {\n        vertical-align: top;\n    }\n\n    .dataframe thead th {\n        text-align: right;\n    }\n</style>\n<table border=\"1\" class=\"dataframe\">\n  <thead>\n    <tr style=\"text-align: right;\">\n      <th></th>\n      <th>proto</th>\n      <th>state</th>\n      <th>dur</th>\n      <th>sbytes</th>\n      <th>dbytes</th>\n      <th>sttl</th>\n      <th>dttl</th>\n      <th>sloss</th>\n      <th>dloss</th>\n      <th>service</th>\n      <th>...</th>\n      <th>ct_src_ ltm</th>\n      <th>ct_src_dport_ltm</th>\n      <th>ct_dst_sport_ltm</th>\n      <th>ct_dst_src_ltm</th>\n      <th>Label</th>\n      <th>src_ip_with_port</th>\n      <th>trg_ip_with_port</th>\n      <th>src_score_cs</th>\n      <th>src_score_hv</th>\n      <th>src_score_dp</th>\n    </tr>\n  </thead>\n  <tbody>\n    <tr>\n      <th>0</th>\n      <td>119</td>\n      <td>5</td>\n      <td>0.000007</td>\n      <td>264</td>\n      <td>0</td>\n      <td>60</td>\n      <td>0</td>\n      <td>0</td>\n      <td>0</td>\n      <td>2</td>\n      <td>...</td>\n      <td>37</td>\n      <td>37</td>\n      <td>19</td>\n      <td>43</td>\n      <td>0</td>\n      <td>149.171.126.10:47439</td>\n      <td>175.45.176.0:53</td>\n      <td>3.814511e-07</td>\n      <td>148645.711848</td>\n      <td>711.946633</td>\n    </tr>\n    <tr>\n      <th>1</th>\n      <td>113</td>\n      <td>4</td>\n      <td>0.053957</td>\n      <td>2646</td>\n      <td>25684</td>\n      <td>31</td>\n      <td>29</td>\n      <td>7</td>\n      <td>15</td>\n      <td>0</td>\n      <td>...</td>\n      <td>2</td>\n      <td>1</td>\n      <td>1</td>\n      <td>1</td>\n      <td>0</td>\n      <td>59.166.0.9:15662</td>\n      <td>149.171.126.4:13946</td>\n      <td>3.814511e-07</td>\n      <td>0.009156</td>\n      <td>0.002316</td>\n    </tr>\n    <tr>\n      <th>2</th>\n      <td>119</td>\n      <td>1</td>\n      <td>0.001023</td>\n      <td>146</td>\n      <td>178</td>\n      <td>31</td>\n      <td>29</td>\n      <td>0</td>\n      <td>0</td>\n      <td>2</td>\n      <td>...</td>\n      <td>8</td>\n      <td>1</td>\n      <td>1</td>\n      <td>2</td>\n      <td>0</td>\n      <td>59.166.0.8:5516</td>\n      <td>149.171.126.2:53</td>\n      <td>3.814511e-07</td>\n      <td>0.009156</td>\n      <td>0.002316</td>\n    </tr>\n    <tr>\n      <th>3</th>\n      <td>119</td>\n      <td>1</td>\n      <td>0.305048</td>\n      <td>520</td>\n      <td>304</td>\n      <td>31</td>\n      <td>29</td>\n      <td>0</td>\n      <td>0</td>\n      <td>0</td>\n      <td>...</td>\n      <td>5</td>\n      <td>1</td>\n      <td>1</td>\n      <td>4</td>\n      <td>0</td>\n      <td>59.166.0.3:23879</td>\n      <td>149.171.126.6:22905</td>\n      <td>3.814511e-07</td>\n      <td>0.009156</td>\n      <td>0.002316</td>\n    </tr>\n    <tr>\n      <th>4</th>\n      <td>119</td>\n      <td>5</td>\n      <td>0.000009</td>\n      <td>114</td>\n      <td>0</td>\n      <td>254</td>\n      <td>0</td>\n      <td>0</td>\n      <td>0</td>\n      <td>2</td>\n      <td>...</td>\n      <td>14</td>\n      <td>14</td>\n      <td>9</td>\n      <td>14</td>\n      <td>1</td>\n      <td>175.45.176.0:1043</td>\n      <td>149.171.126.10:53</td>\n      <td>3.814511e-07</td>\n      <td>131998.841329</td>\n      <td>671.010962</td>\n    </tr>\n    <tr>\n      <th>...</th>\n      <td>...</td>\n      <td>...</td>\n      <td>...</td>\n      <td>...</td>\n      <td>...</td>\n      <td>...</td>\n      <td>...</td>\n      <td>...</td>\n      <td>...</td>\n      <td>...</td>\n      <td>...</td>\n      <td>...</td>\n      <td>...</td>\n      <td>...</td>\n      <td>...</td>\n      <td>...</td>\n      <td>...</td>\n      <td>...</td>\n      <td>...</td>\n      <td>...</td>\n      <td>...</td>\n    </tr>\n    <tr>\n      <th>352030</th>\n      <td>119</td>\n      <td>5</td>\n      <td>0.000004</td>\n      <td>264</td>\n      <td>0</td>\n      <td>60</td>\n      <td>0</td>\n      <td>0</td>\n      <td>0</td>\n      <td>2</td>\n      <td>...</td>\n      <td>19</td>\n      <td>19</td>\n      <td>19</td>\n      <td>25</td>\n      <td>0</td>\n      <td>149.171.126.14:47439</td>\n      <td>175.45.176.1:53</td>\n      <td>3.814511e-07</td>\n      <td>180806.410499</td>\n      <td>784.862459</td>\n    </tr>\n    <tr>\n      <th>352031</th>\n      <td>113</td>\n      <td>4</td>\n      <td>0.019771</td>\n      <td>1540</td>\n      <td>1644</td>\n      <td>31</td>\n      <td>29</td>\n      <td>4</td>\n      <td>4</td>\n      <td>0</td>\n      <td>...</td>\n      <td>8</td>\n      <td>6</td>\n      <td>1</td>\n      <td>6</td>\n      <td>0</td>\n      <td>59.166.0.5:45669</td>\n      <td>149.171.126.2:6881</td>\n      <td>4.104405e-05</td>\n      <td>0.042633</td>\n      <td>0.103402</td>\n    </tr>\n    <tr>\n      <th>352032</th>\n      <td>113</td>\n      <td>4</td>\n      <td>0.053166</td>\n      <td>2974</td>\n      <td>34222</td>\n      <td>31</td>\n      <td>29</td>\n      <td>7</td>\n      <td>18</td>\n      <td>0</td>\n      <td>...</td>\n      <td>3</td>\n      <td>1</td>\n      <td>1</td>\n      <td>2</td>\n      <td>0</td>\n      <td>59.166.0.5:61025</td>\n      <td>149.171.126.8:23273</td>\n      <td>3.814511e-07</td>\n      <td>0.009156</td>\n      <td>0.002316</td>\n    </tr>\n    <tr>\n      <th>352033</th>\n      <td>113</td>\n      <td>4</td>\n      <td>1.239816</td>\n      <td>572</td>\n      <td>768</td>\n      <td>254</td>\n      <td>252</td>\n      <td>3</td>\n      <td>4</td>\n      <td>3</td>\n      <td>...</td>\n      <td>1</td>\n      <td>1</td>\n      <td>1</td>\n      <td>1</td>\n      <td>1</td>\n      <td>175.45.176.3:28789</td>\n      <td>149.171.126.13:21</td>\n      <td>3.814511e-07</td>\n      <td>0.009156</td>\n      <td>0.002316</td>\n    </tr>\n    <tr>\n      <th>352034</th>\n      <td>113</td>\n      <td>4</td>\n      <td>0.003912</td>\n      <td>1052</td>\n      <td>824</td>\n      <td>31</td>\n      <td>29</td>\n      <td>2</td>\n      <td>2</td>\n      <td>5</td>\n      <td>...</td>\n      <td>9</td>\n      <td>2</td>\n      <td>1</td>\n      <td>3</td>\n      <td>0</td>\n      <td>59.166.0.1:20392</td>\n      <td>149.171.126.0:80</td>\n      <td>3.814511e-07</td>\n      <td>0.009156</td>\n      <td>0.002316</td>\n    </tr>\n  </tbody>\n</table>\n<p>352035 rows × 46 columns</p>\n</div>",
      "text/plain": "        proto  state       dur  sbytes  dbytes  sttl  dttl  sloss  dloss  \\\n0         119      5  0.000007     264       0    60     0      0      0   \n1         113      4  0.053957    2646   25684    31    29      7     15   \n2         119      1  0.001023     146     178    31    29      0      0   \n3         119      1  0.305048     520     304    31    29      0      0   \n4         119      5  0.000009     114       0   254     0      0      0   \n...       ...    ...       ...     ...     ...   ...   ...    ...    ...   \n352030    119      5  0.000004     264       0    60     0      0      0   \n352031    113      4  0.019771    1540    1644    31    29      4      4   \n352032    113      4  0.053166    2974   34222    31    29      7     18   \n352033    113      4  1.239816     572     768   254   252      3      4   \n352034    113      4  0.003912    1052     824    31    29      2      2   \n\n        service  ...  ct_src_ ltm  ct_src_dport_ltm  ct_dst_sport_ltm  \\\n0             2  ...           37                37                19   \n1             0  ...            2                 1                 1   \n2             2  ...            8                 1                 1   \n3             0  ...            5                 1                 1   \n4             2  ...           14                14                 9   \n...         ...  ...          ...               ...               ...   \n352030        2  ...           19                19                19   \n352031        0  ...            8                 6                 1   \n352032        0  ...            3                 1                 1   \n352033        3  ...            1                 1                 1   \n352034        5  ...            9                 2                 1   \n\n        ct_dst_src_ltm  Label      src_ip_with_port     trg_ip_with_port  \\\n0                   43      0  149.171.126.10:47439      175.45.176.0:53   \n1                    1      0      59.166.0.9:15662  149.171.126.4:13946   \n2                    2      0       59.166.0.8:5516     149.171.126.2:53   \n3                    4      0      59.166.0.3:23879  149.171.126.6:22905   \n4                   14      1     175.45.176.0:1043    149.171.126.10:53   \n...                ...    ...                   ...                  ...   \n352030              25      0  149.171.126.14:47439      175.45.176.1:53   \n352031               6      0      59.166.0.5:45669   149.171.126.2:6881   \n352032               2      0      59.166.0.5:61025  149.171.126.8:23273   \n352033               1      1    175.45.176.3:28789    149.171.126.13:21   \n352034               3      0      59.166.0.1:20392     149.171.126.0:80   \n\n        src_score_cs   src_score_hv  src_score_dp  \n0       3.814511e-07  148645.711848    711.946633  \n1       3.814511e-07       0.009156      0.002316  \n2       3.814511e-07       0.009156      0.002316  \n3       3.814511e-07       0.009156      0.002316  \n4       3.814511e-07  131998.841329    671.010962  \n...              ...            ...           ...  \n352030  3.814511e-07  180806.410499    784.862459  \n352031  4.104405e-05       0.042633      0.103402  \n352032  3.814511e-07       0.009156      0.002316  \n352033  3.814511e-07       0.009156      0.002316  \n352034  3.814511e-07       0.009156      0.002316  \n\n[352035 rows x 46 columns]"
     },
     "execution_count": 51,
     "metadata": {},
     "output_type": "execute_result"
    }
   ],
   "source": [
    "train"
   ]
  },
  {
   "cell_type": "code",
   "execution_count": 52,
   "metadata": {},
   "outputs": [
    {
     "name": "stdout",
     "output_type": "stream",
     "text": [
      "Totally 88009 lines.\n"
     ]
    }
   ],
   "source": [
    "# update the score iteratively for each row\n",
    "for idx in test.index:\n",
    "    current_src_node_ip = test.at[idx, 'src_ip_with_port']\n",
    "    current_trg_node_ip = test.at[idx, 'trg_ip_with_port']\n",
    "    test.at[idx, 'src_score_cs'] = node_out_score_cliquestar[ip2id[current_src_node_ip]]\n",
    "    test.at[idx, 'src_score_hv'] = node_out_score_heavyvicinity[ip2id[current_src_node_ip]]\n",
    "    test.at[idx, 'src_score_dp'] = node_out_score_dominantPair[ip2id[current_src_node_ip]]\n",
    "    if (idx+1) % 100000 == 0:\n",
    "        print(\"Processed {} lines\".format(idx+1))\n",
    "print(\"Totally {} lines.\".format(idx+1))"
   ]
  },
  {
   "cell_type": "code",
   "execution_count": 53,
   "metadata": {},
   "outputs": [
    {
     "data": {
      "text/html": "<div>\n<style scoped>\n    .dataframe tbody tr th:only-of-type {\n        vertical-align: middle;\n    }\n\n    .dataframe tbody tr th {\n        vertical-align: top;\n    }\n\n    .dataframe thead th {\n        text-align: right;\n    }\n</style>\n<table border=\"1\" class=\"dataframe\">\n  <thead>\n    <tr style=\"text-align: right;\">\n      <th></th>\n      <th>proto</th>\n      <th>state</th>\n      <th>dur</th>\n      <th>sbytes</th>\n      <th>dbytes</th>\n      <th>sttl</th>\n      <th>dttl</th>\n      <th>sloss</th>\n      <th>dloss</th>\n      <th>service</th>\n      <th>...</th>\n      <th>ct_src_ ltm</th>\n      <th>ct_src_dport_ltm</th>\n      <th>ct_dst_sport_ltm</th>\n      <th>ct_dst_src_ltm</th>\n      <th>Label</th>\n      <th>src_ip_with_port</th>\n      <th>trg_ip_with_port</th>\n      <th>src_score_cs</th>\n      <th>src_score_hv</th>\n      <th>src_score_dp</th>\n    </tr>\n  </thead>\n  <tbody>\n    <tr>\n      <th>0</th>\n      <td>119</td>\n      <td>5</td>\n      <td>0.000009</td>\n      <td>114</td>\n      <td>0</td>\n      <td>254</td>\n      <td>0</td>\n      <td>0</td>\n      <td>0</td>\n      <td>2</td>\n      <td>...</td>\n      <td>12</td>\n      <td>12</td>\n      <td>12</td>\n      <td>12</td>\n      <td>1</td>\n      <td>175.45.176.0:47439</td>\n      <td>149.171.126.10:53</td>\n      <td>3.814511e-07</td>\n      <td>123611.255313</td>\n      <td>649.383522</td>\n    </tr>\n    <tr>\n      <th>1</th>\n      <td>119</td>\n      <td>1</td>\n      <td>0.001063</td>\n      <td>130</td>\n      <td>162</td>\n      <td>31</td>\n      <td>29</td>\n      <td>0</td>\n      <td>0</td>\n      <td>2</td>\n      <td>...</td>\n      <td>4</td>\n      <td>1</td>\n      <td>1</td>\n      <td>2</td>\n      <td>0</td>\n      <td>59.166.0.5:64199</td>\n      <td>149.171.126.1:53</td>\n      <td>3.814511e-07</td>\n      <td>0.009156</td>\n      <td>0.002316</td>\n    </tr>\n    <tr>\n      <th>2</th>\n      <td>113</td>\n      <td>4</td>\n      <td>0.004815</td>\n      <td>1470</td>\n      <td>1728</td>\n      <td>31</td>\n      <td>29</td>\n      <td>5</td>\n      <td>4</td>\n      <td>0</td>\n      <td>...</td>\n      <td>1</td>\n      <td>1</td>\n      <td>1</td>\n      <td>1</td>\n      <td>0</td>\n      <td>59.166.0.6:62877</td>\n      <td>149.171.126.1:5190</td>\n      <td>3.814511e-07</td>\n      <td>0.009156</td>\n      <td>0.002316</td>\n    </tr>\n    <tr>\n      <th>3</th>\n      <td>119</td>\n      <td>5</td>\n      <td>0.000009</td>\n      <td>264</td>\n      <td>0</td>\n      <td>60</td>\n      <td>0</td>\n      <td>0</td>\n      <td>0</td>\n      <td>2</td>\n      <td>...</td>\n      <td>19</td>\n      <td>19</td>\n      <td>19</td>\n      <td>23</td>\n      <td>0</td>\n      <td>149.171.126.10:47439</td>\n      <td>175.45.176.0:53</td>\n      <td>3.814511e-07</td>\n      <td>148645.711848</td>\n      <td>711.946633</td>\n    </tr>\n    <tr>\n      <th>4</th>\n      <td>119</td>\n      <td>1</td>\n      <td>0.004537</td>\n      <td>568</td>\n      <td>320</td>\n      <td>31</td>\n      <td>29</td>\n      <td>0</td>\n      <td>0</td>\n      <td>0</td>\n      <td>...</td>\n      <td>2</td>\n      <td>1</td>\n      <td>1</td>\n      <td>3</td>\n      <td>0</td>\n      <td>59.166.0.7:43618</td>\n      <td>149.171.126.8:111</td>\n      <td>3.814511e-07</td>\n      <td>0.009156</td>\n      <td>0.002316</td>\n    </tr>\n    <tr>\n      <th>...</th>\n      <td>...</td>\n      <td>...</td>\n      <td>...</td>\n      <td>...</td>\n      <td>...</td>\n      <td>...</td>\n      <td>...</td>\n      <td>...</td>\n      <td>...</td>\n      <td>...</td>\n      <td>...</td>\n      <td>...</td>\n      <td>...</td>\n      <td>...</td>\n      <td>...</td>\n      <td>...</td>\n      <td>...</td>\n      <td>...</td>\n      <td>...</td>\n      <td>...</td>\n      <td>...</td>\n    </tr>\n    <tr>\n      <th>88004</th>\n      <td>119</td>\n      <td>5</td>\n      <td>0.000009</td>\n      <td>114</td>\n      <td>0</td>\n      <td>254</td>\n      <td>0</td>\n      <td>0</td>\n      <td>0</td>\n      <td>2</td>\n      <td>...</td>\n      <td>18</td>\n      <td>18</td>\n      <td>18</td>\n      <td>30</td>\n      <td>1</td>\n      <td>175.45.176.1:47439</td>\n      <td>149.171.126.14:53</td>\n      <td>1.698245e-05</td>\n      <td>84999.148651</td>\n      <td>762.341680</td>\n    </tr>\n    <tr>\n      <th>88005</th>\n      <td>113</td>\n      <td>4</td>\n      <td>0.027027</td>\n      <td>2542</td>\n      <td>22128</td>\n      <td>31</td>\n      <td>29</td>\n      <td>7</td>\n      <td>14</td>\n      <td>0</td>\n      <td>...</td>\n      <td>2</td>\n      <td>1</td>\n      <td>1</td>\n      <td>1</td>\n      <td>0</td>\n      <td>59.166.0.4:33468</td>\n      <td>149.171.126.1:31029</td>\n      <td>3.814511e-07</td>\n      <td>0.009156</td>\n      <td>0.002316</td>\n    </tr>\n    <tr>\n      <th>88006</th>\n      <td>113</td>\n      <td>4</td>\n      <td>10.215708</td>\n      <td>36536</td>\n      <td>77060</td>\n      <td>31</td>\n      <td>29</td>\n      <td>77</td>\n      <td>177</td>\n      <td>11</td>\n      <td>...</td>\n      <td>2</td>\n      <td>1</td>\n      <td>1</td>\n      <td>2</td>\n      <td>0</td>\n      <td>59.166.0.1:58776</td>\n      <td>149.171.126.7:22</td>\n      <td>1.698245e-05</td>\n      <td>0.024779</td>\n      <td>0.051548</td>\n    </tr>\n    <tr>\n      <th>88007</th>\n      <td>119</td>\n      <td>5</td>\n      <td>0.000003</td>\n      <td>264</td>\n      <td>0</td>\n      <td>60</td>\n      <td>0</td>\n      <td>0</td>\n      <td>0</td>\n      <td>2</td>\n      <td>...</td>\n      <td>19</td>\n      <td>19</td>\n      <td>19</td>\n      <td>31</td>\n      <td>0</td>\n      <td>149.171.126.14:47439</td>\n      <td>175.45.176.1:53</td>\n      <td>3.814511e-07</td>\n      <td>180806.410499</td>\n      <td>784.862459</td>\n    </tr>\n    <tr>\n      <th>88008</th>\n      <td>119</td>\n      <td>5</td>\n      <td>0.000010</td>\n      <td>264</td>\n      <td>0</td>\n      <td>60</td>\n      <td>0</td>\n      <td>0</td>\n      <td>0</td>\n      <td>2</td>\n      <td>...</td>\n      <td>23</td>\n      <td>23</td>\n      <td>12</td>\n      <td>41</td>\n      <td>0</td>\n      <td>149.171.126.10:1043</td>\n      <td>175.45.176.0:53</td>\n      <td>3.814511e-07</td>\n      <td>140978.766148</td>\n      <td>693.400972</td>\n    </tr>\n  </tbody>\n</table>\n<p>88009 rows × 46 columns</p>\n</div>",
      "text/plain": "       proto  state        dur  sbytes  dbytes  sttl  dttl  sloss  dloss  \\\n0        119      5   0.000009     114       0   254     0      0      0   \n1        119      1   0.001063     130     162    31    29      0      0   \n2        113      4   0.004815    1470    1728    31    29      5      4   \n3        119      5   0.000009     264       0    60     0      0      0   \n4        119      1   0.004537     568     320    31    29      0      0   \n...      ...    ...        ...     ...     ...   ...   ...    ...    ...   \n88004    119      5   0.000009     114       0   254     0      0      0   \n88005    113      4   0.027027    2542   22128    31    29      7     14   \n88006    113      4  10.215708   36536   77060    31    29     77    177   \n88007    119      5   0.000003     264       0    60     0      0      0   \n88008    119      5   0.000010     264       0    60     0      0      0   \n\n       service  ...  ct_src_ ltm  ct_src_dport_ltm  ct_dst_sport_ltm  \\\n0            2  ...           12                12                12   \n1            2  ...            4                 1                 1   \n2            0  ...            1                 1                 1   \n3            2  ...           19                19                19   \n4            0  ...            2                 1                 1   \n...        ...  ...          ...               ...               ...   \n88004        2  ...           18                18                18   \n88005        0  ...            2                 1                 1   \n88006       11  ...            2                 1                 1   \n88007        2  ...           19                19                19   \n88008        2  ...           23                23                12   \n\n       ct_dst_src_ltm  Label      src_ip_with_port     trg_ip_with_port  \\\n0                  12      1    175.45.176.0:47439    149.171.126.10:53   \n1                   2      0      59.166.0.5:64199     149.171.126.1:53   \n2                   1      0      59.166.0.6:62877   149.171.126.1:5190   \n3                  23      0  149.171.126.10:47439      175.45.176.0:53   \n4                   3      0      59.166.0.7:43618    149.171.126.8:111   \n...               ...    ...                   ...                  ...   \n88004              30      1    175.45.176.1:47439    149.171.126.14:53   \n88005               1      0      59.166.0.4:33468  149.171.126.1:31029   \n88006               2      0      59.166.0.1:58776     149.171.126.7:22   \n88007              31      0  149.171.126.14:47439      175.45.176.1:53   \n88008              41      0   149.171.126.10:1043      175.45.176.0:53   \n\n       src_score_cs   src_score_hv  src_score_dp  \n0      3.814511e-07  123611.255313    649.383522  \n1      3.814511e-07       0.009156      0.002316  \n2      3.814511e-07       0.009156      0.002316  \n3      3.814511e-07  148645.711848    711.946633  \n4      3.814511e-07       0.009156      0.002316  \n...             ...            ...           ...  \n88004  1.698245e-05   84999.148651    762.341680  \n88005  3.814511e-07       0.009156      0.002316  \n88006  1.698245e-05       0.024779      0.051548  \n88007  3.814511e-07  180806.410499    784.862459  \n88008  3.814511e-07  140978.766148    693.400972  \n\n[88009 rows x 46 columns]"
     },
     "execution_count": 53,
     "metadata": {},
     "output_type": "execute_result"
    }
   ],
   "source": [
    "test"
   ]
  },
  {
   "cell_type": "code",
   "execution_count": 54,
   "metadata": {},
   "outputs": [],
   "source": [
    "X_train_withoutgraph = train.drop(['src_ip_with_port','trg_ip_with_port', 'Label', 'src_score_cs', 'src_score_hv', 'src_score_dp'], axis=1).fillna(0)\n",
    "y_train_withoutgraph = train.loc[:,['Label']]\n",
    "X_test_withoutgraph = test.drop(['src_ip_with_port','trg_ip_with_port', 'Label', 'src_score_cs', 'src_score_hv', 'src_score_dp'], axis=1).fillna(0)\n",
    "y_test_withoutgraph = test.loc[:,['Label']]\n",
    "# CliqueStar\n",
    "X_train_CS = train.drop(['src_ip_with_port','trg_ip_with_port', 'Label', 'src_score_hv', 'src_score_dp'], axis=1).fillna(0)\n",
    "y_train_CS = train.loc[:,['Label']]\n",
    "X_test_CS = test.drop(['src_ip_with_port','trg_ip_with_port', 'Label', 'src_score_hv', 'src_score_dp'], axis=1).fillna(0)\n",
    "y_test_CS = test.loc[:,['Label']]\n",
    "# HeavyVicinity\n",
    "X_train_HV = train.drop(['src_ip_with_port','trg_ip_with_port', 'Label', 'src_score_cs', 'src_score_dp'], axis=1).fillna(0)\n",
    "y_train_HV = train.loc[:,['Label']]\n",
    "X_test_HV = test.drop(['src_ip_with_port','trg_ip_with_port', 'Label', 'src_score_cs', 'src_score_dp'], axis=1).fillna(0)\n",
    "y_test_HV = test.loc[:,['Label']]\n",
    "# DominantPair\n",
    "X_train_DP = train.drop(['src_ip_with_port','trg_ip_with_port', 'Label', 'src_score_cs', 'src_score_hv'], axis=1).fillna(0)\n",
    "y_train_DP = train.loc[:,['Label']]\n",
    "X_test_DP = test.drop(['src_ip_with_port','trg_ip_with_port', 'Label', 'src_score_cs', 'src_score_hv'], axis=1).fillna(0)\n",
    "y_test_DP = test.loc[:,['Label']]\n",
    "# All\n",
    "X_train_All = train.drop(['src_ip_with_port','trg_ip_with_port', 'Label'], axis=1).fillna(0)\n",
    "y_train_All = train.loc[:,['Label']]\n",
    "X_test_All = test.drop(['src_ip_with_port','trg_ip_with_port', 'Label'], axis=1).fillna(0)\n",
    "y_test_All = test.loc[:,['Label']]"
   ]
  },
  {
   "cell_type": "code",
   "execution_count": 55,
   "metadata": {},
   "outputs": [
    {
     "data": {
      "text/html": "<div>\n<style scoped>\n    .dataframe tbody tr th:only-of-type {\n        vertical-align: middle;\n    }\n\n    .dataframe tbody tr th {\n        vertical-align: top;\n    }\n\n    .dataframe thead th {\n        text-align: right;\n    }\n</style>\n<table border=\"1\" class=\"dataframe\">\n  <thead>\n    <tr style=\"text-align: right;\">\n      <th></th>\n      <th>proto</th>\n      <th>state</th>\n      <th>dur</th>\n      <th>sbytes</th>\n      <th>dbytes</th>\n      <th>sttl</th>\n      <th>dttl</th>\n      <th>sloss</th>\n      <th>dloss</th>\n      <th>service</th>\n      <th>...</th>\n      <th>ct_state_ttl</th>\n      <th>ct_flw_http_mthd</th>\n      <th>is_ftp_login</th>\n      <th>ct_srv_src</th>\n      <th>ct_srv_dst</th>\n      <th>ct_dst_ltm</th>\n      <th>ct_src_ ltm</th>\n      <th>ct_src_dport_ltm</th>\n      <th>ct_dst_sport_ltm</th>\n      <th>ct_dst_src_ltm</th>\n    </tr>\n  </thead>\n  <tbody>\n    <tr>\n      <th>0</th>\n      <td>119</td>\n      <td>5</td>\n      <td>0.000007</td>\n      <td>264</td>\n      <td>0</td>\n      <td>60</td>\n      <td>0</td>\n      <td>0</td>\n      <td>0</td>\n      <td>2</td>\n      <td>...</td>\n      <td>0</td>\n      <td>0.0</td>\n      <td>0.0</td>\n      <td>43</td>\n      <td>43</td>\n      <td>37</td>\n      <td>37</td>\n      <td>37</td>\n      <td>19</td>\n      <td>43</td>\n    </tr>\n    <tr>\n      <th>1</th>\n      <td>113</td>\n      <td>4</td>\n      <td>0.053957</td>\n      <td>2646</td>\n      <td>25684</td>\n      <td>31</td>\n      <td>29</td>\n      <td>7</td>\n      <td>15</td>\n      <td>0</td>\n      <td>...</td>\n      <td>0</td>\n      <td>0.0</td>\n      <td>0.0</td>\n      <td>2</td>\n      <td>6</td>\n      <td>6</td>\n      <td>2</td>\n      <td>1</td>\n      <td>1</td>\n      <td>1</td>\n    </tr>\n    <tr>\n      <th>2</th>\n      <td>119</td>\n      <td>1</td>\n      <td>0.001023</td>\n      <td>146</td>\n      <td>178</td>\n      <td>31</td>\n      <td>29</td>\n      <td>0</td>\n      <td>0</td>\n      <td>2</td>\n      <td>...</td>\n      <td>0</td>\n      <td>0.0</td>\n      <td>0.0</td>\n      <td>5</td>\n      <td>2</td>\n      <td>1</td>\n      <td>8</td>\n      <td>1</td>\n      <td>1</td>\n      <td>2</td>\n    </tr>\n    <tr>\n      <th>3</th>\n      <td>119</td>\n      <td>1</td>\n      <td>0.305048</td>\n      <td>520</td>\n      <td>304</td>\n      <td>31</td>\n      <td>29</td>\n      <td>0</td>\n      <td>0</td>\n      <td>0</td>\n      <td>...</td>\n      <td>0</td>\n      <td>0.0</td>\n      <td>0.0</td>\n      <td>5</td>\n      <td>9</td>\n      <td>4</td>\n      <td>5</td>\n      <td>1</td>\n      <td>1</td>\n      <td>4</td>\n    </tr>\n    <tr>\n      <th>4</th>\n      <td>119</td>\n      <td>5</td>\n      <td>0.000009</td>\n      <td>114</td>\n      <td>0</td>\n      <td>254</td>\n      <td>0</td>\n      <td>0</td>\n      <td>0</td>\n      <td>2</td>\n      <td>...</td>\n      <td>2</td>\n      <td>0.0</td>\n      <td>0.0</td>\n      <td>14</td>\n      <td>14</td>\n      <td>14</td>\n      <td>14</td>\n      <td>14</td>\n      <td>9</td>\n      <td>14</td>\n    </tr>\n    <tr>\n      <th>...</th>\n      <td>...</td>\n      <td>...</td>\n      <td>...</td>\n      <td>...</td>\n      <td>...</td>\n      <td>...</td>\n      <td>...</td>\n      <td>...</td>\n      <td>...</td>\n      <td>...</td>\n      <td>...</td>\n      <td>...</td>\n      <td>...</td>\n      <td>...</td>\n      <td>...</td>\n      <td>...</td>\n      <td>...</td>\n      <td>...</td>\n      <td>...</td>\n      <td>...</td>\n      <td>...</td>\n    </tr>\n    <tr>\n      <th>352030</th>\n      <td>119</td>\n      <td>5</td>\n      <td>0.000004</td>\n      <td>264</td>\n      <td>0</td>\n      <td>60</td>\n      <td>0</td>\n      <td>0</td>\n      <td>0</td>\n      <td>2</td>\n      <td>...</td>\n      <td>0</td>\n      <td>0.0</td>\n      <td>0.0</td>\n      <td>25</td>\n      <td>25</td>\n      <td>19</td>\n      <td>19</td>\n      <td>19</td>\n      <td>19</td>\n      <td>25</td>\n    </tr>\n    <tr>\n      <th>352031</th>\n      <td>113</td>\n      <td>4</td>\n      <td>0.019771</td>\n      <td>1540</td>\n      <td>1644</td>\n      <td>31</td>\n      <td>29</td>\n      <td>4</td>\n      <td>4</td>\n      <td>0</td>\n      <td>...</td>\n      <td>0</td>\n      <td>0.0</td>\n      <td>0.0</td>\n      <td>14</td>\n      <td>19</td>\n      <td>13</td>\n      <td>8</td>\n      <td>6</td>\n      <td>1</td>\n      <td>6</td>\n    </tr>\n    <tr>\n      <th>352032</th>\n      <td>113</td>\n      <td>4</td>\n      <td>0.053166</td>\n      <td>2974</td>\n      <td>34222</td>\n      <td>31</td>\n      <td>29</td>\n      <td>7</td>\n      <td>18</td>\n      <td>0</td>\n      <td>...</td>\n      <td>0</td>\n      <td>0.0</td>\n      <td>0.0</td>\n      <td>9</td>\n      <td>3</td>\n      <td>3</td>\n      <td>3</td>\n      <td>1</td>\n      <td>1</td>\n      <td>2</td>\n    </tr>\n    <tr>\n      <th>352033</th>\n      <td>113</td>\n      <td>4</td>\n      <td>1.239816</td>\n      <td>572</td>\n      <td>768</td>\n      <td>254</td>\n      <td>252</td>\n      <td>3</td>\n      <td>4</td>\n      <td>3</td>\n      <td>...</td>\n      <td>1</td>\n      <td>0.0</td>\n      <td>0.0</td>\n      <td>1</td>\n      <td>1</td>\n      <td>1</td>\n      <td>1</td>\n      <td>1</td>\n      <td>1</td>\n      <td>1</td>\n    </tr>\n    <tr>\n      <th>352034</th>\n      <td>113</td>\n      <td>4</td>\n      <td>0.003912</td>\n      <td>1052</td>\n      <td>824</td>\n      <td>31</td>\n      <td>29</td>\n      <td>2</td>\n      <td>2</td>\n      <td>5</td>\n      <td>...</td>\n      <td>0</td>\n      <td>1.0</td>\n      <td>0.0</td>\n      <td>2</td>\n      <td>1</td>\n      <td>8</td>\n      <td>9</td>\n      <td>2</td>\n      <td>1</td>\n      <td>3</td>\n    </tr>\n  </tbody>\n</table>\n<p>352035 rows × 40 columns</p>\n</div>",
      "text/plain": "        proto  state       dur  sbytes  dbytes  sttl  dttl  sloss  dloss  \\\n0         119      5  0.000007     264       0    60     0      0      0   \n1         113      4  0.053957    2646   25684    31    29      7     15   \n2         119      1  0.001023     146     178    31    29      0      0   \n3         119      1  0.305048     520     304    31    29      0      0   \n4         119      5  0.000009     114       0   254     0      0      0   \n...       ...    ...       ...     ...     ...   ...   ...    ...    ...   \n352030    119      5  0.000004     264       0    60     0      0      0   \n352031    113      4  0.019771    1540    1644    31    29      4      4   \n352032    113      4  0.053166    2974   34222    31    29      7     18   \n352033    113      4  1.239816     572     768   254   252      3      4   \n352034    113      4  0.003912    1052     824    31    29      2      2   \n\n        service  ...  ct_state_ttl  ct_flw_http_mthd  is_ftp_login  \\\n0             2  ...             0               0.0           0.0   \n1             0  ...             0               0.0           0.0   \n2             2  ...             0               0.0           0.0   \n3             0  ...             0               0.0           0.0   \n4             2  ...             2               0.0           0.0   \n...         ...  ...           ...               ...           ...   \n352030        2  ...             0               0.0           0.0   \n352031        0  ...             0               0.0           0.0   \n352032        0  ...             0               0.0           0.0   \n352033        3  ...             1               0.0           0.0   \n352034        5  ...             0               1.0           0.0   \n\n        ct_srv_src  ct_srv_dst  ct_dst_ltm  ct_src_ ltm  ct_src_dport_ltm  \\\n0               43          43          37           37                37   \n1                2           6           6            2                 1   \n2                5           2           1            8                 1   \n3                5           9           4            5                 1   \n4               14          14          14           14                14   \n...            ...         ...         ...          ...               ...   \n352030          25          25          19           19                19   \n352031          14          19          13            8                 6   \n352032           9           3           3            3                 1   \n352033           1           1           1            1                 1   \n352034           2           1           8            9                 2   \n\n        ct_dst_sport_ltm  ct_dst_src_ltm  \n0                     19              43  \n1                      1               1  \n2                      1               2  \n3                      1               4  \n4                      9              14  \n...                  ...             ...  \n352030                19              25  \n352031                 1               6  \n352032                 1               2  \n352033                 1               1  \n352034                 1               3  \n\n[352035 rows x 40 columns]"
     },
     "execution_count": 55,
     "metadata": {},
     "output_type": "execute_result"
    }
   ],
   "source": [
    "X_train_withoutgraph"
   ]
  },
  {
   "cell_type": "code",
   "execution_count": 56,
   "metadata": {},
   "outputs": [
    {
     "data": {
      "text/html": "<div>\n<style scoped>\n    .dataframe tbody tr th:only-of-type {\n        vertical-align: middle;\n    }\n\n    .dataframe tbody tr th {\n        vertical-align: top;\n    }\n\n    .dataframe thead th {\n        text-align: right;\n    }\n</style>\n<table border=\"1\" class=\"dataframe\">\n  <thead>\n    <tr style=\"text-align: right;\">\n      <th></th>\n      <th>proto</th>\n      <th>state</th>\n      <th>dur</th>\n      <th>sbytes</th>\n      <th>dbytes</th>\n      <th>sttl</th>\n      <th>dttl</th>\n      <th>sloss</th>\n      <th>dloss</th>\n      <th>service</th>\n      <th>...</th>\n      <th>ct_flw_http_mthd</th>\n      <th>is_ftp_login</th>\n      <th>ct_srv_src</th>\n      <th>ct_srv_dst</th>\n      <th>ct_dst_ltm</th>\n      <th>ct_src_ ltm</th>\n      <th>ct_src_dport_ltm</th>\n      <th>ct_dst_sport_ltm</th>\n      <th>ct_dst_src_ltm</th>\n      <th>src_score_cs</th>\n    </tr>\n  </thead>\n  <tbody>\n    <tr>\n      <th>0</th>\n      <td>119</td>\n      <td>5</td>\n      <td>0.000007</td>\n      <td>264</td>\n      <td>0</td>\n      <td>60</td>\n      <td>0</td>\n      <td>0</td>\n      <td>0</td>\n      <td>2</td>\n      <td>...</td>\n      <td>0.0</td>\n      <td>0.0</td>\n      <td>43</td>\n      <td>43</td>\n      <td>37</td>\n      <td>37</td>\n      <td>37</td>\n      <td>19</td>\n      <td>43</td>\n      <td>3.814511e-07</td>\n    </tr>\n    <tr>\n      <th>1</th>\n      <td>113</td>\n      <td>4</td>\n      <td>0.053957</td>\n      <td>2646</td>\n      <td>25684</td>\n      <td>31</td>\n      <td>29</td>\n      <td>7</td>\n      <td>15</td>\n      <td>0</td>\n      <td>...</td>\n      <td>0.0</td>\n      <td>0.0</td>\n      <td>2</td>\n      <td>6</td>\n      <td>6</td>\n      <td>2</td>\n      <td>1</td>\n      <td>1</td>\n      <td>1</td>\n      <td>3.814511e-07</td>\n    </tr>\n    <tr>\n      <th>2</th>\n      <td>119</td>\n      <td>1</td>\n      <td>0.001023</td>\n      <td>146</td>\n      <td>178</td>\n      <td>31</td>\n      <td>29</td>\n      <td>0</td>\n      <td>0</td>\n      <td>2</td>\n      <td>...</td>\n      <td>0.0</td>\n      <td>0.0</td>\n      <td>5</td>\n      <td>2</td>\n      <td>1</td>\n      <td>8</td>\n      <td>1</td>\n      <td>1</td>\n      <td>2</td>\n      <td>3.814511e-07</td>\n    </tr>\n    <tr>\n      <th>3</th>\n      <td>119</td>\n      <td>1</td>\n      <td>0.305048</td>\n      <td>520</td>\n      <td>304</td>\n      <td>31</td>\n      <td>29</td>\n      <td>0</td>\n      <td>0</td>\n      <td>0</td>\n      <td>...</td>\n      <td>0.0</td>\n      <td>0.0</td>\n      <td>5</td>\n      <td>9</td>\n      <td>4</td>\n      <td>5</td>\n      <td>1</td>\n      <td>1</td>\n      <td>4</td>\n      <td>3.814511e-07</td>\n    </tr>\n    <tr>\n      <th>4</th>\n      <td>119</td>\n      <td>5</td>\n      <td>0.000009</td>\n      <td>114</td>\n      <td>0</td>\n      <td>254</td>\n      <td>0</td>\n      <td>0</td>\n      <td>0</td>\n      <td>2</td>\n      <td>...</td>\n      <td>0.0</td>\n      <td>0.0</td>\n      <td>14</td>\n      <td>14</td>\n      <td>14</td>\n      <td>14</td>\n      <td>14</td>\n      <td>9</td>\n      <td>14</td>\n      <td>3.814511e-07</td>\n    </tr>\n    <tr>\n      <th>...</th>\n      <td>...</td>\n      <td>...</td>\n      <td>...</td>\n      <td>...</td>\n      <td>...</td>\n      <td>...</td>\n      <td>...</td>\n      <td>...</td>\n      <td>...</td>\n      <td>...</td>\n      <td>...</td>\n      <td>...</td>\n      <td>...</td>\n      <td>...</td>\n      <td>...</td>\n      <td>...</td>\n      <td>...</td>\n      <td>...</td>\n      <td>...</td>\n      <td>...</td>\n      <td>...</td>\n    </tr>\n    <tr>\n      <th>352030</th>\n      <td>119</td>\n      <td>5</td>\n      <td>0.000004</td>\n      <td>264</td>\n      <td>0</td>\n      <td>60</td>\n      <td>0</td>\n      <td>0</td>\n      <td>0</td>\n      <td>2</td>\n      <td>...</td>\n      <td>0.0</td>\n      <td>0.0</td>\n      <td>25</td>\n      <td>25</td>\n      <td>19</td>\n      <td>19</td>\n      <td>19</td>\n      <td>19</td>\n      <td>25</td>\n      <td>3.814511e-07</td>\n    </tr>\n    <tr>\n      <th>352031</th>\n      <td>113</td>\n      <td>4</td>\n      <td>0.019771</td>\n      <td>1540</td>\n      <td>1644</td>\n      <td>31</td>\n      <td>29</td>\n      <td>4</td>\n      <td>4</td>\n      <td>0</td>\n      <td>...</td>\n      <td>0.0</td>\n      <td>0.0</td>\n      <td>14</td>\n      <td>19</td>\n      <td>13</td>\n      <td>8</td>\n      <td>6</td>\n      <td>1</td>\n      <td>6</td>\n      <td>4.104405e-05</td>\n    </tr>\n    <tr>\n      <th>352032</th>\n      <td>113</td>\n      <td>4</td>\n      <td>0.053166</td>\n      <td>2974</td>\n      <td>34222</td>\n      <td>31</td>\n      <td>29</td>\n      <td>7</td>\n      <td>18</td>\n      <td>0</td>\n      <td>...</td>\n      <td>0.0</td>\n      <td>0.0</td>\n      <td>9</td>\n      <td>3</td>\n      <td>3</td>\n      <td>3</td>\n      <td>1</td>\n      <td>1</td>\n      <td>2</td>\n      <td>3.814511e-07</td>\n    </tr>\n    <tr>\n      <th>352033</th>\n      <td>113</td>\n      <td>4</td>\n      <td>1.239816</td>\n      <td>572</td>\n      <td>768</td>\n      <td>254</td>\n      <td>252</td>\n      <td>3</td>\n      <td>4</td>\n      <td>3</td>\n      <td>...</td>\n      <td>0.0</td>\n      <td>0.0</td>\n      <td>1</td>\n      <td>1</td>\n      <td>1</td>\n      <td>1</td>\n      <td>1</td>\n      <td>1</td>\n      <td>1</td>\n      <td>3.814511e-07</td>\n    </tr>\n    <tr>\n      <th>352034</th>\n      <td>113</td>\n      <td>4</td>\n      <td>0.003912</td>\n      <td>1052</td>\n      <td>824</td>\n      <td>31</td>\n      <td>29</td>\n      <td>2</td>\n      <td>2</td>\n      <td>5</td>\n      <td>...</td>\n      <td>1.0</td>\n      <td>0.0</td>\n      <td>2</td>\n      <td>1</td>\n      <td>8</td>\n      <td>9</td>\n      <td>2</td>\n      <td>1</td>\n      <td>3</td>\n      <td>3.814511e-07</td>\n    </tr>\n  </tbody>\n</table>\n<p>352035 rows × 41 columns</p>\n</div>",
      "text/plain": "        proto  state       dur  sbytes  dbytes  sttl  dttl  sloss  dloss  \\\n0         119      5  0.000007     264       0    60     0      0      0   \n1         113      4  0.053957    2646   25684    31    29      7     15   \n2         119      1  0.001023     146     178    31    29      0      0   \n3         119      1  0.305048     520     304    31    29      0      0   \n4         119      5  0.000009     114       0   254     0      0      0   \n...       ...    ...       ...     ...     ...   ...   ...    ...    ...   \n352030    119      5  0.000004     264       0    60     0      0      0   \n352031    113      4  0.019771    1540    1644    31    29      4      4   \n352032    113      4  0.053166    2974   34222    31    29      7     18   \n352033    113      4  1.239816     572     768   254   252      3      4   \n352034    113      4  0.003912    1052     824    31    29      2      2   \n\n        service  ...  ct_flw_http_mthd  is_ftp_login  ct_srv_src  ct_srv_dst  \\\n0             2  ...               0.0           0.0          43          43   \n1             0  ...               0.0           0.0           2           6   \n2             2  ...               0.0           0.0           5           2   \n3             0  ...               0.0           0.0           5           9   \n4             2  ...               0.0           0.0          14          14   \n...         ...  ...               ...           ...         ...         ...   \n352030        2  ...               0.0           0.0          25          25   \n352031        0  ...               0.0           0.0          14          19   \n352032        0  ...               0.0           0.0           9           3   \n352033        3  ...               0.0           0.0           1           1   \n352034        5  ...               1.0           0.0           2           1   \n\n        ct_dst_ltm  ct_src_ ltm  ct_src_dport_ltm  ct_dst_sport_ltm  \\\n0               37           37                37                19   \n1                6            2                 1                 1   \n2                1            8                 1                 1   \n3                4            5                 1                 1   \n4               14           14                14                 9   \n...            ...          ...               ...               ...   \n352030          19           19                19                19   \n352031          13            8                 6                 1   \n352032           3            3                 1                 1   \n352033           1            1                 1                 1   \n352034           8            9                 2                 1   \n\n        ct_dst_src_ltm  src_score_cs  \n0                   43  3.814511e-07  \n1                    1  3.814511e-07  \n2                    2  3.814511e-07  \n3                    4  3.814511e-07  \n4                   14  3.814511e-07  \n...                ...           ...  \n352030              25  3.814511e-07  \n352031               6  4.104405e-05  \n352032               2  3.814511e-07  \n352033               1  3.814511e-07  \n352034               3  3.814511e-07  \n\n[352035 rows x 41 columns]"
     },
     "execution_count": 56,
     "metadata": {},
     "output_type": "execute_result"
    }
   ],
   "source": [
    "X_train_CS"
   ]
  },
  {
   "cell_type": "code",
   "execution_count": 57,
   "metadata": {},
   "outputs": [
    {
     "data": {
      "text/html": "<div>\n<style scoped>\n    .dataframe tbody tr th:only-of-type {\n        vertical-align: middle;\n    }\n\n    .dataframe tbody tr th {\n        vertical-align: top;\n    }\n\n    .dataframe thead th {\n        text-align: right;\n    }\n</style>\n<table border=\"1\" class=\"dataframe\">\n  <thead>\n    <tr style=\"text-align: right;\">\n      <th></th>\n      <th>proto</th>\n      <th>state</th>\n      <th>dur</th>\n      <th>sbytes</th>\n      <th>dbytes</th>\n      <th>sttl</th>\n      <th>dttl</th>\n      <th>sloss</th>\n      <th>dloss</th>\n      <th>service</th>\n      <th>...</th>\n      <th>ct_flw_http_mthd</th>\n      <th>is_ftp_login</th>\n      <th>ct_srv_src</th>\n      <th>ct_srv_dst</th>\n      <th>ct_dst_ltm</th>\n      <th>ct_src_ ltm</th>\n      <th>ct_src_dport_ltm</th>\n      <th>ct_dst_sport_ltm</th>\n      <th>ct_dst_src_ltm</th>\n      <th>src_score_hv</th>\n    </tr>\n  </thead>\n  <tbody>\n    <tr>\n      <th>0</th>\n      <td>119</td>\n      <td>5</td>\n      <td>0.000007</td>\n      <td>264</td>\n      <td>0</td>\n      <td>60</td>\n      <td>0</td>\n      <td>0</td>\n      <td>0</td>\n      <td>2</td>\n      <td>...</td>\n      <td>0.0</td>\n      <td>0.0</td>\n      <td>43</td>\n      <td>43</td>\n      <td>37</td>\n      <td>37</td>\n      <td>37</td>\n      <td>19</td>\n      <td>43</td>\n      <td>148645.711848</td>\n    </tr>\n    <tr>\n      <th>1</th>\n      <td>113</td>\n      <td>4</td>\n      <td>0.053957</td>\n      <td>2646</td>\n      <td>25684</td>\n      <td>31</td>\n      <td>29</td>\n      <td>7</td>\n      <td>15</td>\n      <td>0</td>\n      <td>...</td>\n      <td>0.0</td>\n      <td>0.0</td>\n      <td>2</td>\n      <td>6</td>\n      <td>6</td>\n      <td>2</td>\n      <td>1</td>\n      <td>1</td>\n      <td>1</td>\n      <td>0.009156</td>\n    </tr>\n    <tr>\n      <th>2</th>\n      <td>119</td>\n      <td>1</td>\n      <td>0.001023</td>\n      <td>146</td>\n      <td>178</td>\n      <td>31</td>\n      <td>29</td>\n      <td>0</td>\n      <td>0</td>\n      <td>2</td>\n      <td>...</td>\n      <td>0.0</td>\n      <td>0.0</td>\n      <td>5</td>\n      <td>2</td>\n      <td>1</td>\n      <td>8</td>\n      <td>1</td>\n      <td>1</td>\n      <td>2</td>\n      <td>0.009156</td>\n    </tr>\n    <tr>\n      <th>3</th>\n      <td>119</td>\n      <td>1</td>\n      <td>0.305048</td>\n      <td>520</td>\n      <td>304</td>\n      <td>31</td>\n      <td>29</td>\n      <td>0</td>\n      <td>0</td>\n      <td>0</td>\n      <td>...</td>\n      <td>0.0</td>\n      <td>0.0</td>\n      <td>5</td>\n      <td>9</td>\n      <td>4</td>\n      <td>5</td>\n      <td>1</td>\n      <td>1</td>\n      <td>4</td>\n      <td>0.009156</td>\n    </tr>\n    <tr>\n      <th>4</th>\n      <td>119</td>\n      <td>5</td>\n      <td>0.000009</td>\n      <td>114</td>\n      <td>0</td>\n      <td>254</td>\n      <td>0</td>\n      <td>0</td>\n      <td>0</td>\n      <td>2</td>\n      <td>...</td>\n      <td>0.0</td>\n      <td>0.0</td>\n      <td>14</td>\n      <td>14</td>\n      <td>14</td>\n      <td>14</td>\n      <td>14</td>\n      <td>9</td>\n      <td>14</td>\n      <td>131998.841329</td>\n    </tr>\n    <tr>\n      <th>...</th>\n      <td>...</td>\n      <td>...</td>\n      <td>...</td>\n      <td>...</td>\n      <td>...</td>\n      <td>...</td>\n      <td>...</td>\n      <td>...</td>\n      <td>...</td>\n      <td>...</td>\n      <td>...</td>\n      <td>...</td>\n      <td>...</td>\n      <td>...</td>\n      <td>...</td>\n      <td>...</td>\n      <td>...</td>\n      <td>...</td>\n      <td>...</td>\n      <td>...</td>\n      <td>...</td>\n    </tr>\n    <tr>\n      <th>352030</th>\n      <td>119</td>\n      <td>5</td>\n      <td>0.000004</td>\n      <td>264</td>\n      <td>0</td>\n      <td>60</td>\n      <td>0</td>\n      <td>0</td>\n      <td>0</td>\n      <td>2</td>\n      <td>...</td>\n      <td>0.0</td>\n      <td>0.0</td>\n      <td>25</td>\n      <td>25</td>\n      <td>19</td>\n      <td>19</td>\n      <td>19</td>\n      <td>19</td>\n      <td>25</td>\n      <td>180806.410499</td>\n    </tr>\n    <tr>\n      <th>352031</th>\n      <td>113</td>\n      <td>4</td>\n      <td>0.019771</td>\n      <td>1540</td>\n      <td>1644</td>\n      <td>31</td>\n      <td>29</td>\n      <td>4</td>\n      <td>4</td>\n      <td>0</td>\n      <td>...</td>\n      <td>0.0</td>\n      <td>0.0</td>\n      <td>14</td>\n      <td>19</td>\n      <td>13</td>\n      <td>8</td>\n      <td>6</td>\n      <td>1</td>\n      <td>6</td>\n      <td>0.042633</td>\n    </tr>\n    <tr>\n      <th>352032</th>\n      <td>113</td>\n      <td>4</td>\n      <td>0.053166</td>\n      <td>2974</td>\n      <td>34222</td>\n      <td>31</td>\n      <td>29</td>\n      <td>7</td>\n      <td>18</td>\n      <td>0</td>\n      <td>...</td>\n      <td>0.0</td>\n      <td>0.0</td>\n      <td>9</td>\n      <td>3</td>\n      <td>3</td>\n      <td>3</td>\n      <td>1</td>\n      <td>1</td>\n      <td>2</td>\n      <td>0.009156</td>\n    </tr>\n    <tr>\n      <th>352033</th>\n      <td>113</td>\n      <td>4</td>\n      <td>1.239816</td>\n      <td>572</td>\n      <td>768</td>\n      <td>254</td>\n      <td>252</td>\n      <td>3</td>\n      <td>4</td>\n      <td>3</td>\n      <td>...</td>\n      <td>0.0</td>\n      <td>0.0</td>\n      <td>1</td>\n      <td>1</td>\n      <td>1</td>\n      <td>1</td>\n      <td>1</td>\n      <td>1</td>\n      <td>1</td>\n      <td>0.009156</td>\n    </tr>\n    <tr>\n      <th>352034</th>\n      <td>113</td>\n      <td>4</td>\n      <td>0.003912</td>\n      <td>1052</td>\n      <td>824</td>\n      <td>31</td>\n      <td>29</td>\n      <td>2</td>\n      <td>2</td>\n      <td>5</td>\n      <td>...</td>\n      <td>1.0</td>\n      <td>0.0</td>\n      <td>2</td>\n      <td>1</td>\n      <td>8</td>\n      <td>9</td>\n      <td>2</td>\n      <td>1</td>\n      <td>3</td>\n      <td>0.009156</td>\n    </tr>\n  </tbody>\n</table>\n<p>352035 rows × 41 columns</p>\n</div>",
      "text/plain": "        proto  state       dur  sbytes  dbytes  sttl  dttl  sloss  dloss  \\\n0         119      5  0.000007     264       0    60     0      0      0   \n1         113      4  0.053957    2646   25684    31    29      7     15   \n2         119      1  0.001023     146     178    31    29      0      0   \n3         119      1  0.305048     520     304    31    29      0      0   \n4         119      5  0.000009     114       0   254     0      0      0   \n...       ...    ...       ...     ...     ...   ...   ...    ...    ...   \n352030    119      5  0.000004     264       0    60     0      0      0   \n352031    113      4  0.019771    1540    1644    31    29      4      4   \n352032    113      4  0.053166    2974   34222    31    29      7     18   \n352033    113      4  1.239816     572     768   254   252      3      4   \n352034    113      4  0.003912    1052     824    31    29      2      2   \n\n        service  ...  ct_flw_http_mthd  is_ftp_login  ct_srv_src  ct_srv_dst  \\\n0             2  ...               0.0           0.0          43          43   \n1             0  ...               0.0           0.0           2           6   \n2             2  ...               0.0           0.0           5           2   \n3             0  ...               0.0           0.0           5           9   \n4             2  ...               0.0           0.0          14          14   \n...         ...  ...               ...           ...         ...         ...   \n352030        2  ...               0.0           0.0          25          25   \n352031        0  ...               0.0           0.0          14          19   \n352032        0  ...               0.0           0.0           9           3   \n352033        3  ...               0.0           0.0           1           1   \n352034        5  ...               1.0           0.0           2           1   \n\n        ct_dst_ltm  ct_src_ ltm  ct_src_dport_ltm  ct_dst_sport_ltm  \\\n0               37           37                37                19   \n1                6            2                 1                 1   \n2                1            8                 1                 1   \n3                4            5                 1                 1   \n4               14           14                14                 9   \n...            ...          ...               ...               ...   \n352030          19           19                19                19   \n352031          13            8                 6                 1   \n352032           3            3                 1                 1   \n352033           1            1                 1                 1   \n352034           8            9                 2                 1   \n\n        ct_dst_src_ltm   src_score_hv  \n0                   43  148645.711848  \n1                    1       0.009156  \n2                    2       0.009156  \n3                    4       0.009156  \n4                   14  131998.841329  \n...                ...            ...  \n352030              25  180806.410499  \n352031               6       0.042633  \n352032               2       0.009156  \n352033               1       0.009156  \n352034               3       0.009156  \n\n[352035 rows x 41 columns]"
     },
     "execution_count": 57,
     "metadata": {},
     "output_type": "execute_result"
    }
   ],
   "source": [
    "X_train_HV"
   ]
  },
  {
   "cell_type": "code",
   "execution_count": 58,
   "metadata": {},
   "outputs": [
    {
     "data": {
      "text/html": "<div>\n<style scoped>\n    .dataframe tbody tr th:only-of-type {\n        vertical-align: middle;\n    }\n\n    .dataframe tbody tr th {\n        vertical-align: top;\n    }\n\n    .dataframe thead th {\n        text-align: right;\n    }\n</style>\n<table border=\"1\" class=\"dataframe\">\n  <thead>\n    <tr style=\"text-align: right;\">\n      <th></th>\n      <th>proto</th>\n      <th>state</th>\n      <th>dur</th>\n      <th>sbytes</th>\n      <th>dbytes</th>\n      <th>sttl</th>\n      <th>dttl</th>\n      <th>sloss</th>\n      <th>dloss</th>\n      <th>service</th>\n      <th>...</th>\n      <th>ct_flw_http_mthd</th>\n      <th>is_ftp_login</th>\n      <th>ct_srv_src</th>\n      <th>ct_srv_dst</th>\n      <th>ct_dst_ltm</th>\n      <th>ct_src_ ltm</th>\n      <th>ct_src_dport_ltm</th>\n      <th>ct_dst_sport_ltm</th>\n      <th>ct_dst_src_ltm</th>\n      <th>src_score_dp</th>\n    </tr>\n  </thead>\n  <tbody>\n    <tr>\n      <th>0</th>\n      <td>119</td>\n      <td>5</td>\n      <td>0.000007</td>\n      <td>264</td>\n      <td>0</td>\n      <td>60</td>\n      <td>0</td>\n      <td>0</td>\n      <td>0</td>\n      <td>2</td>\n      <td>...</td>\n      <td>0.0</td>\n      <td>0.0</td>\n      <td>43</td>\n      <td>43</td>\n      <td>37</td>\n      <td>37</td>\n      <td>37</td>\n      <td>19</td>\n      <td>43</td>\n      <td>711.946633</td>\n    </tr>\n    <tr>\n      <th>1</th>\n      <td>113</td>\n      <td>4</td>\n      <td>0.053957</td>\n      <td>2646</td>\n      <td>25684</td>\n      <td>31</td>\n      <td>29</td>\n      <td>7</td>\n      <td>15</td>\n      <td>0</td>\n      <td>...</td>\n      <td>0.0</td>\n      <td>0.0</td>\n      <td>2</td>\n      <td>6</td>\n      <td>6</td>\n      <td>2</td>\n      <td>1</td>\n      <td>1</td>\n      <td>1</td>\n      <td>0.002316</td>\n    </tr>\n    <tr>\n      <th>2</th>\n      <td>119</td>\n      <td>1</td>\n      <td>0.001023</td>\n      <td>146</td>\n      <td>178</td>\n      <td>31</td>\n      <td>29</td>\n      <td>0</td>\n      <td>0</td>\n      <td>2</td>\n      <td>...</td>\n      <td>0.0</td>\n      <td>0.0</td>\n      <td>5</td>\n      <td>2</td>\n      <td>1</td>\n      <td>8</td>\n      <td>1</td>\n      <td>1</td>\n      <td>2</td>\n      <td>0.002316</td>\n    </tr>\n    <tr>\n      <th>3</th>\n      <td>119</td>\n      <td>1</td>\n      <td>0.305048</td>\n      <td>520</td>\n      <td>304</td>\n      <td>31</td>\n      <td>29</td>\n      <td>0</td>\n      <td>0</td>\n      <td>0</td>\n      <td>...</td>\n      <td>0.0</td>\n      <td>0.0</td>\n      <td>5</td>\n      <td>9</td>\n      <td>4</td>\n      <td>5</td>\n      <td>1</td>\n      <td>1</td>\n      <td>4</td>\n      <td>0.002316</td>\n    </tr>\n    <tr>\n      <th>4</th>\n      <td>119</td>\n      <td>5</td>\n      <td>0.000009</td>\n      <td>114</td>\n      <td>0</td>\n      <td>254</td>\n      <td>0</td>\n      <td>0</td>\n      <td>0</td>\n      <td>2</td>\n      <td>...</td>\n      <td>0.0</td>\n      <td>0.0</td>\n      <td>14</td>\n      <td>14</td>\n      <td>14</td>\n      <td>14</td>\n      <td>14</td>\n      <td>9</td>\n      <td>14</td>\n      <td>671.010962</td>\n    </tr>\n    <tr>\n      <th>...</th>\n      <td>...</td>\n      <td>...</td>\n      <td>...</td>\n      <td>...</td>\n      <td>...</td>\n      <td>...</td>\n      <td>...</td>\n      <td>...</td>\n      <td>...</td>\n      <td>...</td>\n      <td>...</td>\n      <td>...</td>\n      <td>...</td>\n      <td>...</td>\n      <td>...</td>\n      <td>...</td>\n      <td>...</td>\n      <td>...</td>\n      <td>...</td>\n      <td>...</td>\n      <td>...</td>\n    </tr>\n    <tr>\n      <th>352030</th>\n      <td>119</td>\n      <td>5</td>\n      <td>0.000004</td>\n      <td>264</td>\n      <td>0</td>\n      <td>60</td>\n      <td>0</td>\n      <td>0</td>\n      <td>0</td>\n      <td>2</td>\n      <td>...</td>\n      <td>0.0</td>\n      <td>0.0</td>\n      <td>25</td>\n      <td>25</td>\n      <td>19</td>\n      <td>19</td>\n      <td>19</td>\n      <td>19</td>\n      <td>25</td>\n      <td>784.862459</td>\n    </tr>\n    <tr>\n      <th>352031</th>\n      <td>113</td>\n      <td>4</td>\n      <td>0.019771</td>\n      <td>1540</td>\n      <td>1644</td>\n      <td>31</td>\n      <td>29</td>\n      <td>4</td>\n      <td>4</td>\n      <td>0</td>\n      <td>...</td>\n      <td>0.0</td>\n      <td>0.0</td>\n      <td>14</td>\n      <td>19</td>\n      <td>13</td>\n      <td>8</td>\n      <td>6</td>\n      <td>1</td>\n      <td>6</td>\n      <td>0.103402</td>\n    </tr>\n    <tr>\n      <th>352032</th>\n      <td>113</td>\n      <td>4</td>\n      <td>0.053166</td>\n      <td>2974</td>\n      <td>34222</td>\n      <td>31</td>\n      <td>29</td>\n      <td>7</td>\n      <td>18</td>\n      <td>0</td>\n      <td>...</td>\n      <td>0.0</td>\n      <td>0.0</td>\n      <td>9</td>\n      <td>3</td>\n      <td>3</td>\n      <td>3</td>\n      <td>1</td>\n      <td>1</td>\n      <td>2</td>\n      <td>0.002316</td>\n    </tr>\n    <tr>\n      <th>352033</th>\n      <td>113</td>\n      <td>4</td>\n      <td>1.239816</td>\n      <td>572</td>\n      <td>768</td>\n      <td>254</td>\n      <td>252</td>\n      <td>3</td>\n      <td>4</td>\n      <td>3</td>\n      <td>...</td>\n      <td>0.0</td>\n      <td>0.0</td>\n      <td>1</td>\n      <td>1</td>\n      <td>1</td>\n      <td>1</td>\n      <td>1</td>\n      <td>1</td>\n      <td>1</td>\n      <td>0.002316</td>\n    </tr>\n    <tr>\n      <th>352034</th>\n      <td>113</td>\n      <td>4</td>\n      <td>0.003912</td>\n      <td>1052</td>\n      <td>824</td>\n      <td>31</td>\n      <td>29</td>\n      <td>2</td>\n      <td>2</td>\n      <td>5</td>\n      <td>...</td>\n      <td>1.0</td>\n      <td>0.0</td>\n      <td>2</td>\n      <td>1</td>\n      <td>8</td>\n      <td>9</td>\n      <td>2</td>\n      <td>1</td>\n      <td>3</td>\n      <td>0.002316</td>\n    </tr>\n  </tbody>\n</table>\n<p>352035 rows × 41 columns</p>\n</div>",
      "text/plain": "        proto  state       dur  sbytes  dbytes  sttl  dttl  sloss  dloss  \\\n0         119      5  0.000007     264       0    60     0      0      0   \n1         113      4  0.053957    2646   25684    31    29      7     15   \n2         119      1  0.001023     146     178    31    29      0      0   \n3         119      1  0.305048     520     304    31    29      0      0   \n4         119      5  0.000009     114       0   254     0      0      0   \n...       ...    ...       ...     ...     ...   ...   ...    ...    ...   \n352030    119      5  0.000004     264       0    60     0      0      0   \n352031    113      4  0.019771    1540    1644    31    29      4      4   \n352032    113      4  0.053166    2974   34222    31    29      7     18   \n352033    113      4  1.239816     572     768   254   252      3      4   \n352034    113      4  0.003912    1052     824    31    29      2      2   \n\n        service  ...  ct_flw_http_mthd  is_ftp_login  ct_srv_src  ct_srv_dst  \\\n0             2  ...               0.0           0.0          43          43   \n1             0  ...               0.0           0.0           2           6   \n2             2  ...               0.0           0.0           5           2   \n3             0  ...               0.0           0.0           5           9   \n4             2  ...               0.0           0.0          14          14   \n...         ...  ...               ...           ...         ...         ...   \n352030        2  ...               0.0           0.0          25          25   \n352031        0  ...               0.0           0.0          14          19   \n352032        0  ...               0.0           0.0           9           3   \n352033        3  ...               0.0           0.0           1           1   \n352034        5  ...               1.0           0.0           2           1   \n\n        ct_dst_ltm  ct_src_ ltm  ct_src_dport_ltm  ct_dst_sport_ltm  \\\n0               37           37                37                19   \n1                6            2                 1                 1   \n2                1            8                 1                 1   \n3                4            5                 1                 1   \n4               14           14                14                 9   \n...            ...          ...               ...               ...   \n352030          19           19                19                19   \n352031          13            8                 6                 1   \n352032           3            3                 1                 1   \n352033           1            1                 1                 1   \n352034           8            9                 2                 1   \n\n        ct_dst_src_ltm  src_score_dp  \n0                   43    711.946633  \n1                    1      0.002316  \n2                    2      0.002316  \n3                    4      0.002316  \n4                   14    671.010962  \n...                ...           ...  \n352030              25    784.862459  \n352031               6      0.103402  \n352032               2      0.002316  \n352033               1      0.002316  \n352034               3      0.002316  \n\n[352035 rows x 41 columns]"
     },
     "execution_count": 58,
     "metadata": {},
     "output_type": "execute_result"
    }
   ],
   "source": [
    "X_train_DP"
   ]
  },
  {
   "cell_type": "code",
   "execution_count": 59,
   "metadata": {},
   "outputs": [
    {
     "data": {
      "text/html": "<div>\n<style scoped>\n    .dataframe tbody tr th:only-of-type {\n        vertical-align: middle;\n    }\n\n    .dataframe tbody tr th {\n        vertical-align: top;\n    }\n\n    .dataframe thead th {\n        text-align: right;\n    }\n</style>\n<table border=\"1\" class=\"dataframe\">\n  <thead>\n    <tr style=\"text-align: right;\">\n      <th></th>\n      <th>proto</th>\n      <th>state</th>\n      <th>dur</th>\n      <th>sbytes</th>\n      <th>dbytes</th>\n      <th>sttl</th>\n      <th>dttl</th>\n      <th>sloss</th>\n      <th>dloss</th>\n      <th>service</th>\n      <th>...</th>\n      <th>ct_srv_src</th>\n      <th>ct_srv_dst</th>\n      <th>ct_dst_ltm</th>\n      <th>ct_src_ ltm</th>\n      <th>ct_src_dport_ltm</th>\n      <th>ct_dst_sport_ltm</th>\n      <th>ct_dst_src_ltm</th>\n      <th>src_score_cs</th>\n      <th>src_score_hv</th>\n      <th>src_score_dp</th>\n    </tr>\n  </thead>\n  <tbody>\n    <tr>\n      <th>0</th>\n      <td>119</td>\n      <td>5</td>\n      <td>0.000007</td>\n      <td>264</td>\n      <td>0</td>\n      <td>60</td>\n      <td>0</td>\n      <td>0</td>\n      <td>0</td>\n      <td>2</td>\n      <td>...</td>\n      <td>43</td>\n      <td>43</td>\n      <td>37</td>\n      <td>37</td>\n      <td>37</td>\n      <td>19</td>\n      <td>43</td>\n      <td>3.814511e-07</td>\n      <td>148645.711848</td>\n      <td>711.946633</td>\n    </tr>\n    <tr>\n      <th>1</th>\n      <td>113</td>\n      <td>4</td>\n      <td>0.053957</td>\n      <td>2646</td>\n      <td>25684</td>\n      <td>31</td>\n      <td>29</td>\n      <td>7</td>\n      <td>15</td>\n      <td>0</td>\n      <td>...</td>\n      <td>2</td>\n      <td>6</td>\n      <td>6</td>\n      <td>2</td>\n      <td>1</td>\n      <td>1</td>\n      <td>1</td>\n      <td>3.814511e-07</td>\n      <td>0.009156</td>\n      <td>0.002316</td>\n    </tr>\n    <tr>\n      <th>2</th>\n      <td>119</td>\n      <td>1</td>\n      <td>0.001023</td>\n      <td>146</td>\n      <td>178</td>\n      <td>31</td>\n      <td>29</td>\n      <td>0</td>\n      <td>0</td>\n      <td>2</td>\n      <td>...</td>\n      <td>5</td>\n      <td>2</td>\n      <td>1</td>\n      <td>8</td>\n      <td>1</td>\n      <td>1</td>\n      <td>2</td>\n      <td>3.814511e-07</td>\n      <td>0.009156</td>\n      <td>0.002316</td>\n    </tr>\n    <tr>\n      <th>3</th>\n      <td>119</td>\n      <td>1</td>\n      <td>0.305048</td>\n      <td>520</td>\n      <td>304</td>\n      <td>31</td>\n      <td>29</td>\n      <td>0</td>\n      <td>0</td>\n      <td>0</td>\n      <td>...</td>\n      <td>5</td>\n      <td>9</td>\n      <td>4</td>\n      <td>5</td>\n      <td>1</td>\n      <td>1</td>\n      <td>4</td>\n      <td>3.814511e-07</td>\n      <td>0.009156</td>\n      <td>0.002316</td>\n    </tr>\n    <tr>\n      <th>4</th>\n      <td>119</td>\n      <td>5</td>\n      <td>0.000009</td>\n      <td>114</td>\n      <td>0</td>\n      <td>254</td>\n      <td>0</td>\n      <td>0</td>\n      <td>0</td>\n      <td>2</td>\n      <td>...</td>\n      <td>14</td>\n      <td>14</td>\n      <td>14</td>\n      <td>14</td>\n      <td>14</td>\n      <td>9</td>\n      <td>14</td>\n      <td>3.814511e-07</td>\n      <td>131998.841329</td>\n      <td>671.010962</td>\n    </tr>\n    <tr>\n      <th>...</th>\n      <td>...</td>\n      <td>...</td>\n      <td>...</td>\n      <td>...</td>\n      <td>...</td>\n      <td>...</td>\n      <td>...</td>\n      <td>...</td>\n      <td>...</td>\n      <td>...</td>\n      <td>...</td>\n      <td>...</td>\n      <td>...</td>\n      <td>...</td>\n      <td>...</td>\n      <td>...</td>\n      <td>...</td>\n      <td>...</td>\n      <td>...</td>\n      <td>...</td>\n      <td>...</td>\n    </tr>\n    <tr>\n      <th>352030</th>\n      <td>119</td>\n      <td>5</td>\n      <td>0.000004</td>\n      <td>264</td>\n      <td>0</td>\n      <td>60</td>\n      <td>0</td>\n      <td>0</td>\n      <td>0</td>\n      <td>2</td>\n      <td>...</td>\n      <td>25</td>\n      <td>25</td>\n      <td>19</td>\n      <td>19</td>\n      <td>19</td>\n      <td>19</td>\n      <td>25</td>\n      <td>3.814511e-07</td>\n      <td>180806.410499</td>\n      <td>784.862459</td>\n    </tr>\n    <tr>\n      <th>352031</th>\n      <td>113</td>\n      <td>4</td>\n      <td>0.019771</td>\n      <td>1540</td>\n      <td>1644</td>\n      <td>31</td>\n      <td>29</td>\n      <td>4</td>\n      <td>4</td>\n      <td>0</td>\n      <td>...</td>\n      <td>14</td>\n      <td>19</td>\n      <td>13</td>\n      <td>8</td>\n      <td>6</td>\n      <td>1</td>\n      <td>6</td>\n      <td>4.104405e-05</td>\n      <td>0.042633</td>\n      <td>0.103402</td>\n    </tr>\n    <tr>\n      <th>352032</th>\n      <td>113</td>\n      <td>4</td>\n      <td>0.053166</td>\n      <td>2974</td>\n      <td>34222</td>\n      <td>31</td>\n      <td>29</td>\n      <td>7</td>\n      <td>18</td>\n      <td>0</td>\n      <td>...</td>\n      <td>9</td>\n      <td>3</td>\n      <td>3</td>\n      <td>3</td>\n      <td>1</td>\n      <td>1</td>\n      <td>2</td>\n      <td>3.814511e-07</td>\n      <td>0.009156</td>\n      <td>0.002316</td>\n    </tr>\n    <tr>\n      <th>352033</th>\n      <td>113</td>\n      <td>4</td>\n      <td>1.239816</td>\n      <td>572</td>\n      <td>768</td>\n      <td>254</td>\n      <td>252</td>\n      <td>3</td>\n      <td>4</td>\n      <td>3</td>\n      <td>...</td>\n      <td>1</td>\n      <td>1</td>\n      <td>1</td>\n      <td>1</td>\n      <td>1</td>\n      <td>1</td>\n      <td>1</td>\n      <td>3.814511e-07</td>\n      <td>0.009156</td>\n      <td>0.002316</td>\n    </tr>\n    <tr>\n      <th>352034</th>\n      <td>113</td>\n      <td>4</td>\n      <td>0.003912</td>\n      <td>1052</td>\n      <td>824</td>\n      <td>31</td>\n      <td>29</td>\n      <td>2</td>\n      <td>2</td>\n      <td>5</td>\n      <td>...</td>\n      <td>2</td>\n      <td>1</td>\n      <td>8</td>\n      <td>9</td>\n      <td>2</td>\n      <td>1</td>\n      <td>3</td>\n      <td>3.814511e-07</td>\n      <td>0.009156</td>\n      <td>0.002316</td>\n    </tr>\n  </tbody>\n</table>\n<p>352035 rows × 43 columns</p>\n</div>",
      "text/plain": "        proto  state       dur  sbytes  dbytes  sttl  dttl  sloss  dloss  \\\n0         119      5  0.000007     264       0    60     0      0      0   \n1         113      4  0.053957    2646   25684    31    29      7     15   \n2         119      1  0.001023     146     178    31    29      0      0   \n3         119      1  0.305048     520     304    31    29      0      0   \n4         119      5  0.000009     114       0   254     0      0      0   \n...       ...    ...       ...     ...     ...   ...   ...    ...    ...   \n352030    119      5  0.000004     264       0    60     0      0      0   \n352031    113      4  0.019771    1540    1644    31    29      4      4   \n352032    113      4  0.053166    2974   34222    31    29      7     18   \n352033    113      4  1.239816     572     768   254   252      3      4   \n352034    113      4  0.003912    1052     824    31    29      2      2   \n\n        service  ...  ct_srv_src  ct_srv_dst  ct_dst_ltm  ct_src_ ltm  \\\n0             2  ...          43          43          37           37   \n1             0  ...           2           6           6            2   \n2             2  ...           5           2           1            8   \n3             0  ...           5           9           4            5   \n4             2  ...          14          14          14           14   \n...         ...  ...         ...         ...         ...          ...   \n352030        2  ...          25          25          19           19   \n352031        0  ...          14          19          13            8   \n352032        0  ...           9           3           3            3   \n352033        3  ...           1           1           1            1   \n352034        5  ...           2           1           8            9   \n\n        ct_src_dport_ltm  ct_dst_sport_ltm  ct_dst_src_ltm  src_score_cs  \\\n0                     37                19              43  3.814511e-07   \n1                      1                 1               1  3.814511e-07   \n2                      1                 1               2  3.814511e-07   \n3                      1                 1               4  3.814511e-07   \n4                     14                 9              14  3.814511e-07   \n...                  ...               ...             ...           ...   \n352030                19                19              25  3.814511e-07   \n352031                 6                 1               6  4.104405e-05   \n352032                 1                 1               2  3.814511e-07   \n352033                 1                 1               1  3.814511e-07   \n352034                 2                 1               3  3.814511e-07   \n\n         src_score_hv  src_score_dp  \n0       148645.711848    711.946633  \n1            0.009156      0.002316  \n2            0.009156      0.002316  \n3            0.009156      0.002316  \n4       131998.841329    671.010962  \n...               ...           ...  \n352030  180806.410499    784.862459  \n352031       0.042633      0.103402  \n352032       0.009156      0.002316  \n352033       0.009156      0.002316  \n352034       0.009156      0.002316  \n\n[352035 rows x 43 columns]"
     },
     "execution_count": 59,
     "metadata": {},
     "output_type": "execute_result"
    }
   ],
   "source": [
    "X_train_All"
   ]
  },
  {
   "cell_type": "code",
   "execution_count": 60,
   "metadata": {},
   "outputs": [
    {
     "data": {
      "text/html": "<div>\n<style scoped>\n    .dataframe tbody tr th:only-of-type {\n        vertical-align: middle;\n    }\n\n    .dataframe tbody tr th {\n        vertical-align: top;\n    }\n\n    .dataframe thead th {\n        text-align: right;\n    }\n</style>\n<table border=\"1\" class=\"dataframe\">\n  <thead>\n    <tr style=\"text-align: right;\">\n      <th></th>\n      <th>Label</th>\n    </tr>\n  </thead>\n  <tbody>\n    <tr>\n      <th>0</th>\n      <td>1</td>\n    </tr>\n    <tr>\n      <th>1</th>\n      <td>0</td>\n    </tr>\n    <tr>\n      <th>2</th>\n      <td>0</td>\n    </tr>\n    <tr>\n      <th>3</th>\n      <td>0</td>\n    </tr>\n    <tr>\n      <th>4</th>\n      <td>0</td>\n    </tr>\n    <tr>\n      <th>...</th>\n      <td>...</td>\n    </tr>\n    <tr>\n      <th>88004</th>\n      <td>1</td>\n    </tr>\n    <tr>\n      <th>88005</th>\n      <td>0</td>\n    </tr>\n    <tr>\n      <th>88006</th>\n      <td>0</td>\n    </tr>\n    <tr>\n      <th>88007</th>\n      <td>0</td>\n    </tr>\n    <tr>\n      <th>88008</th>\n      <td>0</td>\n    </tr>\n  </tbody>\n</table>\n<p>88009 rows × 1 columns</p>\n</div>",
      "text/plain": "       Label\n0          1\n1          0\n2          0\n3          0\n4          0\n...      ...\n88004      1\n88005      0\n88006      0\n88007      0\n88008      0\n\n[88009 rows x 1 columns]"
     },
     "execution_count": 60,
     "metadata": {},
     "output_type": "execute_result"
    }
   ],
   "source": [
    "y_test_All"
   ]
  },
  {
   "cell_type": "code",
   "execution_count": 61,
   "metadata": {},
   "outputs": [
    {
     "name": "stdout",
     "output_type": "stream",
     "text": [
      "Counter({0: 280919, 1: 71116})\n",
      "Counter({0: 70231, 1: 17778})\n"
     ]
    }
   ],
   "source": [
    "# In train\n",
    "print(Counter(list(y_train_withoutgraph['Label'])))\n",
    "# In test\n",
    "print(Counter(list(y_test_withoutgraph['Label'])))"
   ]
  },
  {
   "cell_type": "markdown",
   "metadata": {},
   "source": [
    "# Some Binary Classifiers"
   ]
  },
  {
   "cell_type": "code",
   "execution_count": 28,
   "metadata": {},
   "outputs": [
    {
     "name": "stdout",
     "output_type": "stream",
     "text": [
      "Acc: 0.99211 Recall: 0.98178 Precision: 0.97913 F1: 0.98046 for the RandomForestClassifier\n",
      "Acc: 0.99155 Recall: 0.98064 Precision: 0.97744 F1: 0.97904 for the ExtraTreesClassifier\n",
      "[07:40:12] WARNING: ../src/learner.cc:1095: Starting in XGBoost 1.3.0, the default evaluation metric used with the objective 'binary:logistic' was changed from 'error' to 'logloss'. Explicitly set eval_metric if you'd like to restore the old behavior.\n",
      "Acc: 0.99188 Recall: 0.98116 Precision: 0.97857 F1: 0.97986 for the XGBClassifier\n",
      "Acc: 0.99219 Recall: 0.98266 Precision: 0.97863 F1: 0.98064 for the LGBMClassifier\n"
     ]
    }
   ],
   "source": [
    "RFC = RandomForestClassifier(n_estimators=150, random_state=42, n_jobs=-1)\n",
    "ETC = ExtraTreesClassifier(n_estimators=200, random_state=42, n_jobs=-1)\n",
    "XGB = xgboost.XGBClassifier(n_estimators=150, n_jobs=-1)\n",
    "GBM = lightgbm.LGBMClassifier(objective='binary', n_estimators= 500, n_jobs=-1) # multiclass\n",
    "\n",
    "list_of_CLFs_names = []\n",
    "list_of_CLFs = [RFC, ETC, XGB, GBM]\n",
    "ranking = []\n",
    "\n",
    "for clf in list_of_CLFs:\n",
    "    _ = clf.fit(X_train_withoutgraph, y_train_withoutgraph)\n",
    "    pred = clf.score(X_test_withoutgraph, y_test_withoutgraph)\n",
    "    pred_y = clf.predict(X_test_withoutgraph)\n",
    "    recall, precision, fscore, _ = precision_recall_fscore_support(y_test_withoutgraph, pred_y, average='binary')\n",
    "    name = str(type(clf)).split(\".\")[-1][:-2]\n",
    "    print(\"Acc: %0.5f Recall: %0.5f Precision: %0.5f F1: %0.5f for the %s\" % (pred, recall, precision, fscore, name))\n",
    "\n",
    "    ranking.append(pred)\n",
    "    list_of_CLFs_names.append(name)"
   ]
  },
  {
   "cell_type": "code",
   "execution_count": 30,
   "metadata": {},
   "outputs": [
    {
     "name": "stdout",
     "output_type": "stream",
     "text": [
      "Acc: 0.74816 Recall: 0.43911 Precision: 0.88953 F1: 0.58797 for the GaussianNB\n",
      "Acc: 0.79966 Recall: 0.66009 Precision: 0.01693 F1: 0.03302 for the LogisticRegression\n"
     ]
    }
   ],
   "source": [
    "GNB = GaussianNB()\n",
    "# RBF_SVC = SVC(kernel='rbf')\n",
    "REG = linear_model.LogisticRegression()\n",
    "\n",
    "list_of_CLFs_names = []\n",
    "list_of_CLFs = [GNB, REG]\n",
    "ranking = []\n",
    "\n",
    "for clf in list_of_CLFs:\n",
    "    _ = clf.fit(X_train_withoutgraph,y_train_withoutgraph)\n",
    "    pred = clf.score(X_test_withoutgraph,y_test_withoutgraph)\n",
    "    pred_y = clf.predict(X_test_withoutgraph)\n",
    "    recall, precision, fscore, _ = precision_recall_fscore_support(y_test_withoutgraph, pred_y, average='binary')\n",
    "    name = str(type(clf)).split(\".\")[-1][:-2]\n",
    "    print(\"Acc: %0.5f Recall: %0.5f Precision: %0.5f F1: %0.5f for the %s\" % (pred, recall, precision, fscore, name))\n",
    "\n",
    "    ranking.append(pred)\n",
    "    list_of_CLFs_names.append(name)"
   ]
  },
  {
   "cell_type": "markdown",
   "metadata": {},
   "source": [
    "# With Additional Feature from Graph"
   ]
  },
  {
   "cell_type": "markdown",
   "metadata": {},
   "source": [
    "## CliqueStar"
   ]
  },
  {
   "cell_type": "code",
   "execution_count": 31,
   "metadata": {},
   "outputs": [
    {
     "name": "stdout",
     "output_type": "stream",
     "text": [
      "Acc: 0.99240 Recall: 0.98273 Precision: 0.97958 F1: 0.98115 for the RandomForestClassifier\n",
      "Acc: 0.99171 Recall: 0.98082 Precision: 0.97806 F1: 0.97944 for the ExtraTreesClassifier\n",
      "[07:42:27] WARNING: ../src/learner.cc:1095: Starting in XGBoost 1.3.0, the default evaluation metric used with the objective 'binary:logistic' was changed from 'error' to 'logloss'. Explicitly set eval_metric if you'd like to restore the old behavior.\n",
      "Acc: 0.99199 Recall: 0.98199 Precision: 0.97829 F1: 0.98013 for the XGBClassifier\n",
      "Acc: 0.99243 Recall: 0.98366 Precision: 0.97879 F1: 0.98122 for the LGBMClassifier\n"
     ]
    }
   ],
   "source": [
    "RFC = RandomForestClassifier(n_estimators=150, random_state=42, n_jobs=-1)\n",
    "ETC = ExtraTreesClassifier(n_estimators=200, random_state=42, n_jobs=-1)\n",
    "XGB = xgboost.XGBClassifier(n_estimators=150, n_jobs=-1)\n",
    "GBM = lightgbm.LGBMClassifier(objective='binary', n_estimators= 500, n_jobs=-1) # multiclass\n",
    "\n",
    "list_of_CLFs_names = []\n",
    "list_of_CLFs = [RFC, ETC, XGB, GBM]\n",
    "ranking = []\n",
    "\n",
    "for clf in list_of_CLFs:\n",
    "    _ = clf.fit(X_train_CS, y_train_CS)\n",
    "    pred = clf.score(X_test_CS, y_test_CS)\n",
    "    pred_y = clf.predict(X_test_CS)\n",
    "    recall, precision, fscore, _ = precision_recall_fscore_support(y_test_CS, pred_y, average='binary')\n",
    "    name = str(type(clf)).split(\".\")[-1][:-2]\n",
    "    print(\"Acc: %0.5f Recall: %0.5f Precision: %0.5f F1: %0.5f for the %s\" % (pred, recall, precision, fscore, name))\n",
    "\n",
    "    ranking.append(pred)"
   ]
  },
  {
   "cell_type": "code",
   "execution_count": 32,
   "metadata": {},
   "outputs": [
    {
     "name": "stdout",
     "output_type": "stream",
     "text": [
      "Acc: 0.74816 Recall: 0.43911 Precision: 0.88953 F1: 0.58797 for the GaussianNB\n",
      "Acc: 0.79966 Recall: 0.66009 Precision: 0.01693 F1: 0.03302 for the LogisticRegression\n"
     ]
    }
   ],
   "source": [
    "GNB = GaussianNB()\n",
    "# RBF_SVC = SVC(kernel='rbf')\n",
    "REG = linear_model.LogisticRegression()\n",
    "\n",
    "list_of_CLFs_names = []\n",
    "list_of_CLFs = [GNB, REG]\n",
    "ranking = []\n",
    "\n",
    "for clf in list_of_CLFs:\n",
    "    _ = clf.fit(X_train_withgraph,y_train_withgraph)\n",
    "    pred = clf.score(X_test_withgraph,y_test_withgraph)\n",
    "    pred_y = clf.predict(X_test_withgraph)\n",
    "    recall, precision, fscore, _ = precision_recall_fscore_support(y_test_withgraph, pred_y, average='binary')\n",
    "    name = str(type(clf)).split(\".\")[-1][:-2]\n",
    "    print(\"Acc: %0.5f Recall: %0.5f Precision: %0.5f F1: %0.5f for the %s\" % (pred, recall, precision, fscore, name))\n",
    "\n",
    "    ranking.append(pred)\n",
    "    list_of_CLFs_names.append(name)"
   ]
  },
  {
   "cell_type": "markdown",
   "metadata": {},
   "source": [
    "## HeavyVicinity"
   ]
  },
  {
   "cell_type": "code",
   "execution_count": 62,
   "metadata": {},
   "outputs": [
    {
     "name": "stdout",
     "output_type": "stream",
     "text": [
      "Acc: 0.99224 Recall: 0.98245 Precision: 0.97908 F1: 0.98076 for the RandomForestClassifier\n",
      "Acc: 0.99180 Recall: 0.98126 Precision: 0.97806 F1: 0.97966 for the ExtraTreesClassifier\n",
      "[10:50:38] WARNING: ../src/learner.cc:1095: Starting in XGBoost 1.3.0, the default evaluation metric used with the objective 'binary:logistic' was changed from 'error' to 'logloss'. Explicitly set eval_metric if you'd like to restore the old behavior.\n",
      "Acc: 0.99230 Recall: 0.98251 Precision: 0.97930 F1: 0.98090 for the XGBClassifier\n",
      "Acc: 0.99269 Recall: 0.98478 Precision: 0.97896 F1: 0.98186 for the LGBMClassifier\n"
     ]
    }
   ],
   "source": [
    "RFC = RandomForestClassifier(n_estimators=150, random_state=42, n_jobs=-1)\n",
    "ETC = ExtraTreesClassifier(n_estimators=200, random_state=42, n_jobs=-1)\n",
    "XGB = xgboost.XGBClassifier(n_estimators=150, n_jobs=-1)\n",
    "GBM = lightgbm.LGBMClassifier(objective='binary', n_estimators= 500, n_jobs=-1) # multiclass\n",
    "\n",
    "list_of_CLFs_names = []\n",
    "list_of_CLFs = [RFC, ETC, XGB, GBM]\n",
    "ranking = []\n",
    "\n",
    "for clf in list_of_CLFs:\n",
    "    _ = clf.fit(X_train_HV, y_train_HV)\n",
    "    pred = clf.score(X_test_HV, y_test_HV)\n",
    "    pred_y = clf.predict(X_test_HV)\n",
    "    recall, precision, fscore, _ = precision_recall_fscore_support(y_test_HV, pred_y, average='binary')\n",
    "    name = str(type(clf)).split(\".\")[-1][:-2]\n",
    "    print(\"Acc: %0.5f Recall: %0.5f Precision: %0.5f F1: %0.5f for the %s\" % (pred, recall, precision, fscore, name))\n",
    "\n",
    "    ranking.append(pred)"
   ]
  },
  {
   "cell_type": "code",
   "execution_count": 63,
   "metadata": {},
   "outputs": [
    {
     "name": "stdout",
     "output_type": "stream",
     "text": [
      "Acc: 0.75458 Recall: 0.44578 Precision: 0.88362 F1: 0.59260 for the GaussianNB\n",
      "Acc: 0.79821 Recall: 0.52960 Precision: 0.00956 F1: 0.01879 for the LogisticRegression\n"
     ]
    }
   ],
   "source": [
    "GNB = GaussianNB()\n",
    "# RBF_SVC = SVC(kernel='rbf')\n",
    "REG = linear_model.LogisticRegression()\n",
    "\n",
    "list_of_CLFs_names = []\n",
    "list_of_CLFs = [GNB, REG]\n",
    "ranking = []\n",
    "\n",
    "for clf in list_of_CLFs:\n",
    "    _ = clf.fit(X_train_HV,y_train_HV)\n",
    "    pred = clf.score(X_test_HV,y_test_HV)\n",
    "    pred_y = clf.predict(X_test_HV)\n",
    "    recall, precision, fscore, _ = precision_recall_fscore_support(y_test_HV, pred_y, average='binary')\n",
    "    name = str(type(clf)).split(\".\")[-1][:-2]\n",
    "    print(\"Acc: %0.5f Recall: %0.5f Precision: %0.5f F1: %0.5f for the %s\" % (pred, recall, precision, fscore, name))\n",
    "\n",
    "    ranking.append(pred)\n",
    "    list_of_CLFs_names.append(name)"
   ]
  },
  {
   "cell_type": "markdown",
   "metadata": {},
   "source": [
    "## DominantPair"
   ]
  },
  {
   "cell_type": "code",
   "execution_count": 64,
   "metadata": {},
   "outputs": [
    {
     "name": "stdout",
     "output_type": "stream",
     "text": [
      "Acc: 0.99224 Recall: 0.98228 Precision: 0.97924 F1: 0.98076 for the RandomForestClassifier\n",
      "Acc: 0.99171 Recall: 0.98126 Precision: 0.97761 F1: 0.97943 for the ExtraTreesClassifier\n",
      "[10:53:10] WARNING: ../src/learner.cc:1095: Starting in XGBoost 1.3.0, the default evaluation metric used with the objective 'binary:logistic' was changed from 'error' to 'logloss'. Explicitly set eval_metric if you'd like to restore the old behavior.\n",
      "Acc: 0.99234 Recall: 0.98207 Precision: 0.97998 F1: 0.98102 for the XGBClassifier\n",
      "Acc: 0.99257 Recall: 0.98378 Precision: 0.97936 F1: 0.98157 for the LGBMClassifier\n"
     ]
    }
   ],
   "source": [
    "RFC = RandomForestClassifier(n_estimators=150, random_state=42, n_jobs=-1)\n",
    "ETC = ExtraTreesClassifier(n_estimators=200, random_state=42, n_jobs=-1)\n",
    "XGB = xgboost.XGBClassifier(n_estimators=150, n_jobs=-1)\n",
    "GBM = lightgbm.LGBMClassifier(objective='binary', n_estimators= 500, n_jobs=-1) # multiclass\n",
    "\n",
    "list_of_CLFs_names = []\n",
    "list_of_CLFs = [RFC, ETC, XGB, GBM]\n",
    "ranking = []\n",
    "\n",
    "for clf in list_of_CLFs:\n",
    "    _ = clf.fit(X_train_DP, y_train_DP)\n",
    "    pred = clf.score(X_test_DP, y_test_DP)\n",
    "    pred_y = clf.predict(X_test_DP)\n",
    "    recall, precision, fscore, _ = precision_recall_fscore_support(y_test_DP, pred_y, average='binary')\n",
    "    name = str(type(clf)).split(\".\")[-1][:-2]\n",
    "    print(\"Acc: %0.5f Recall: %0.5f Precision: %0.5f F1: %0.5f for the %s\" % (pred, recall, precision, fscore, name))\n",
    "\n",
    "    ranking.append(pred)"
   ]
  },
  {
   "cell_type": "code",
   "execution_count": 65,
   "metadata": {},
   "outputs": [
    {
     "name": "stdout",
     "output_type": "stream",
     "text": [
      "Acc: 0.74816 Recall: 0.43911 Precision: 0.88953 F1: 0.58797 for the GaussianNB\n",
      "Acc: 0.79966 Recall: 0.66009 Precision: 0.01693 F1: 0.03302 for the LogisticRegression\n"
     ]
    }
   ],
   "source": [
    "GNB = GaussianNB()\n",
    "# RBF_SVC = SVC(kernel='rbf')\n",
    "REG = linear_model.LogisticRegression()\n",
    "\n",
    "list_of_CLFs_names = []\n",
    "list_of_CLFs = [GNB, REG]\n",
    "ranking = []\n",
    "\n",
    "for clf in list_of_CLFs:\n",
    "    _ = clf.fit(X_train_DP,y_train_DP)\n",
    "    pred = clf.score(X_test_DP,y_test_DP)\n",
    "    pred_y = clf.predict(X_test_DP)\n",
    "    recall, precision, fscore, _ = precision_recall_fscore_support(y_test_DP, pred_y, average='binary')\n",
    "    name = str(type(clf)).split(\".\")[-1][:-2]\n",
    "    print(\"Acc: %0.5f Recall: %0.5f Precision: %0.5f F1: %0.5f for the %s\" % (pred, recall, precision, fscore, name))\n",
    "\n",
    "    ranking.append(pred)\n",
    "    list_of_CLFs_names.append(name)"
   ]
  },
  {
   "cell_type": "markdown",
   "metadata": {},
   "source": [
    "## All features"
   ]
  },
  {
   "cell_type": "code",
   "execution_count": 66,
   "metadata": {},
   "outputs": [
    {
     "name": "stdout",
     "output_type": "stream",
     "text": [
      "Acc: 0.99227 Recall: 0.98267 Precision: 0.97902 F1: 0.98084 for the RandomForestClassifier\n",
      "Acc: 0.99168 Recall: 0.98066 Precision: 0.97812 F1: 0.97939 for the ExtraTreesClassifier\n",
      "[10:56:44] WARNING: ../src/learner.cc:1095: Starting in XGBoost 1.3.0, the default evaluation metric used with the objective 'binary:logistic' was changed from 'error' to 'logloss'. Explicitly set eval_metric if you'd like to restore the old behavior.\n",
      "Acc: 0.99251 Recall: 0.98361 Precision: 0.97924 F1: 0.98142 for the XGBClassifier\n",
      "Acc: 0.99271 Recall: 0.98423 Precision: 0.97958 F1: 0.98190 for the LGBMClassifier\n"
     ]
    }
   ],
   "source": [
    "RFC = RandomForestClassifier(n_estimators=150, random_state=42, n_jobs=-1)\n",
    "ETC = ExtraTreesClassifier(n_estimators=200, random_state=42, n_jobs=-1)\n",
    "XGB = xgboost.XGBClassifier(n_estimators=150, n_jobs=-1)\n",
    "GBM = lightgbm.LGBMClassifier(objective='binary', n_estimators= 500, n_jobs=-1) # multiclass\n",
    "\n",
    "list_of_CLFs_names = []\n",
    "list_of_CLFs = [RFC, ETC, XGB, GBM]\n",
    "ranking = []\n",
    "\n",
    "for clf in list_of_CLFs:\n",
    "    _ = clf.fit(X_train_All, y_train_All)\n",
    "    pred = clf.score(X_test_All, y_test_All)\n",
    "    pred_y = clf.predict(X_test_All)\n",
    "    recall, precision, fscore, _ = precision_recall_fscore_support(y_test_All, pred_y, average='binary')\n",
    "    name = str(type(clf)).split(\".\")[-1][:-2]\n",
    "    print(\"Acc: %0.5f Recall: %0.5f Precision: %0.5f F1: %0.5f for the %s\" % (pred, recall, precision, fscore, name))\n",
    "\n",
    "    ranking.append(pred)"
   ]
  },
  {
   "cell_type": "code",
   "execution_count": 67,
   "metadata": {},
   "outputs": [
    {
     "name": "stdout",
     "output_type": "stream",
     "text": [
      "Acc: 0.75458 Recall: 0.44578 Precision: 0.88362 F1: 0.59260 for the GaussianNB\n",
      "Acc: 0.79821 Recall: 0.52960 Precision: 0.00956 F1: 0.01879 for the LogisticRegression\n"
     ]
    }
   ],
   "source": [
    "GNB = GaussianNB()\n",
    "# RBF_SVC = SVC(kernel='rbf')\n",
    "REG = linear_model.LogisticRegression()\n",
    "\n",
    "list_of_CLFs_names = []\n",
    "list_of_CLFs = [GNB, REG]\n",
    "ranking = []\n",
    "\n",
    "for clf in list_of_CLFs:\n",
    "    _ = clf.fit(X_train_All,y_train_All)\n",
    "    pred = clf.score(X_test_All,y_test_All)\n",
    "    pred_y = clf.predict(X_test_All)\n",
    "    recall, precision, fscore, _ = precision_recall_fscore_support(y_test_All, pred_y, average='binary')\n",
    "    name = str(type(clf)).split(\".\")[-1][:-2]\n",
    "    print(\"Acc: %0.5f Recall: %0.5f Precision: %0.5f F1: %0.5f for the %s\" % (pred, recall, precision, fscore, name))\n",
    "\n",
    "    ranking.append(pred)\n",
    "    list_of_CLFs_names.append(name)"
   ]
  },
  {
   "cell_type": "markdown",
   "metadata": {},
   "source": [
    "## only use graph feature data"
   ]
  },
  {
   "cell_type": "code",
   "execution_count": 69,
   "metadata": {},
   "outputs": [],
   "source": [
    "X_train_onlygraph = train.loc[:, ['src_score_cs', 'src_score_hv', 'src_score_dp']]\n",
    "y_train_onlygraph = train.loc[:,['Label']]\n",
    "X_test_onlygraph = test.loc[:, ['src_score_cs', 'src_score_hv', 'src_score_dp']]\n",
    "y_test_onlygraph = test.loc[:,['Label']]"
   ]
  },
  {
   "cell_type": "code",
   "execution_count": 70,
   "metadata": {},
   "outputs": [
    {
     "name": "stdout",
     "output_type": "stream",
     "text": [
      "Acc: 0.96178 Recall: 0.99820 Precision: 0.81224 F1: 0.89567 for the RandomForestClassifier\n",
      "Acc: 0.96178 Recall: 0.99820 Precision: 0.81224 F1: 0.89567 for the ExtraTreesClassifier\n",
      "[11:00:27] WARNING: ../src/learner.cc:1095: Starting in XGBoost 1.3.0, the default evaluation metric used with the objective 'binary:logistic' was changed from 'error' to 'logloss'. Explicitly set eval_metric if you'd like to restore the old behavior.\n",
      "Acc: 0.96179 Recall: 0.99820 Precision: 0.81230 F1: 0.89570 for the XGBClassifier\n",
      "Acc: 0.96178 Recall: 0.99820 Precision: 0.81224 F1: 0.89567 for the LGBMClassifier\n"
     ]
    }
   ],
   "source": [
    "RFC = RandomForestClassifier(n_estimators=150, random_state=42, n_jobs=-1)\n",
    "ETC = ExtraTreesClassifier(n_estimators=200, random_state=42, n_jobs=-1)\n",
    "XGB = xgboost.XGBClassifier(n_estimators=150, n_jobs=-1)\n",
    "GBM = lightgbm.LGBMClassifier(objective='binary', n_estimators= 500, n_jobs=-1) # multiclass\n",
    "\n",
    "list_of_CLFs_names = []\n",
    "list_of_CLFs = [RFC, ETC, XGB, GBM]\n",
    "ranking = []\n",
    "\n",
    "for clf in list_of_CLFs:\n",
    "    _ = clf.fit(X_train_onlygraph, y_train_onlygraph)\n",
    "    pred = clf.score(X_test_onlygraph, y_test_onlygraph)\n",
    "    pred_y = clf.predict(X_test_onlygraph)\n",
    "    recall, precision, fscore, _ = precision_recall_fscore_support(y_test_onlygraph, pred_y, average='binary')\n",
    "    name = str(type(clf)).split(\".\")[-1][:-2]\n",
    "    print(\"Acc: %0.5f Recall: %0.5f Precision: %0.5f F1: %0.5f for the %s\" % (pred, recall, precision, fscore, name))\n",
    "\n",
    "    ranking.append(pred)"
   ]
  },
  {
   "cell_type": "code",
   "execution_count": 71,
   "metadata": {},
   "outputs": [
    {
     "name": "stdout",
     "output_type": "stream",
     "text": [
      "Acc: 0.77205 Recall: 0.45682 Precision: 0.67955 F1: 0.54635 for the GaussianNB\n",
      "Acc: 0.67943 Recall: 0.34839 Precision: 0.67443 F1: 0.45945 for the LogisticRegression\n"
     ]
    }
   ],
   "source": [
    "GNB = GaussianNB()\n",
    "# RBF_SVC = SVC(kernel='rbf')\n",
    "REG = linear_model.LogisticRegression()\n",
    "\n",
    "list_of_CLFs_names = []\n",
    "list_of_CLFs = [GNB, REG]\n",
    "ranking = []\n",
    "\n",
    "for clf in list_of_CLFs:\n",
    "    _ = clf.fit(X_train_onlygraph,y_train_onlygraph)\n",
    "    pred = clf.score(X_test_onlygraph,y_test_onlygraph)\n",
    "    pred_y = clf.predict(X_test_onlygraph)\n",
    "    recall, precision, fscore, _ = precision_recall_fscore_support(y_test_onlygraph, pred_y, average='binary')\n",
    "    name = str(type(clf)).split(\".\")[-1][:-2]\n",
    "    print(\"Acc: %0.5f Recall: %0.5f Precision: %0.5f F1: %0.5f for the %s\" % (pred, recall, precision, fscore, name))\n",
    "\n",
    "    ranking.append(pred)\n",
    "    list_of_CLFs_names.append(name)"
   ]
  },
  {
   "cell_type": "code",
   "execution_count": null,
   "metadata": {},
   "outputs": [],
   "source": []
  }
 ],
 "metadata": {
  "kernelspec": {
   "display_name": "Python 3.7.4 64-bit",
   "language": "python",
   "name": "python374jvsc74a57bd020bbdedb0079e23a85211f14a09dbcc829fefc965ff02508ebf68fe08b48d387"
  },
  "language_info": {
   "codemirror_mode": {
    "name": "ipython",
    "version": 3
   },
   "file_extension": ".py",
   "mimetype": "text/x-python",
   "name": "python",
   "nbconvert_exporter": "python",
   "pygments_lexer": "ipython3",
   "version": "3.7.4"
  },
  "orig_nbformat": 2
 },
 "nbformat": 4,
 "nbformat_minor": 2
}