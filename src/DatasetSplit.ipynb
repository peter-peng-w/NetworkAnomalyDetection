{
 "cells": [
  {
   "cell_type": "code",
   "execution_count": 1,
   "metadata": {},
   "outputs": [
    {
     "name": "stdout",
     "output_type": "stream",
     "text": [
      "/sw/centos/anaconda3/2019.10/bin/python\n"
     ]
    }
   ],
   "source": [
    "!which python"
   ]
  },
  {
   "cell_type": "code",
   "execution_count": 2,
   "metadata": {},
   "outputs": [],
   "source": [
    "import pandas as pd\n",
    "from sklearn.model_selection import train_test_split"
   ]
  },
  {
   "cell_type": "code",
   "execution_count": 4,
   "metadata": {},
   "outputs": [
    {
     "name": "stdout",
     "output_type": "stream",
     "text": [
      "           0      1              2   3    4    5         6      7        8   \\\n",
      "0  59.166.0.9   7045  149.171.126.7  25  tcp  FIN  0.201886  37552     3380   \n",
      "1  59.166.0.9   9685  149.171.126.2  80  tcp  FIN  5.864748  19410  1087890   \n",
      "2  59.166.0.2   1421  149.171.126.4  53  udp  CON  0.001391    146      178   \n",
      "3  59.166.0.2  21553  149.171.126.2  25  tcp  FIN  0.053948  37812     3380   \n",
      "4  59.166.0.8  45212  149.171.126.4  53  udp  CON  0.000953    146      178   \n",
      "\n",
      "   9   ...  39  40  41 42  43  44  45  46   47  48  \n",
      "0  31  ...       2   2  7   4   1   1   3  NaN   0  \n",
      "1  31  ...       3   1  4   4   1   1   1  NaN   0  \n",
      "2  31  ...       3   5  2   7   1   1   4  NaN   0  \n",
      "3  31  ...       1   1  4   7   1   1   3  NaN   0  \n",
      "4  31  ...       2   5  2   1   1   1   2  NaN   0  \n",
      "\n",
      "[5 rows x 49 columns]\n"
     ]
    }
   ],
   "source": [
    "dataset_url = './UNSW-NB15_4.csv'\n",
    "data = pd.read_csv(dataset_url, header=None)\n",
    "print(data.head())"
   ]
  },
  {
   "cell_type": "code",
   "execution_count": 5,
   "metadata": {},
   "outputs": [],
   "source": [
    "data['src_ip_with_port'] = data[0].map(str) + \":\" + data[1].map(str)\n",
    "data['trg_ip_with_port'] = data[2].map(str) + \":\" + data[3].map(str)"
   ]
  },
  {
   "cell_type": "code",
   "execution_count": 6,
   "metadata": {},
   "outputs": [
    {
     "name": "stdout",
     "output_type": "stream",
     "text": [
      "            0      1              2   3    4    5         6      7        8  \\\n",
      "0  59.166.0.9   7045  149.171.126.7  25  tcp  FIN  0.201886  37552     3380   \n",
      "1  59.166.0.9   9685  149.171.126.2  80  tcp  FIN  5.864748  19410  1087890   \n",
      "2  59.166.0.2   1421  149.171.126.4  53  udp  CON  0.001391    146      178   \n",
      "3  59.166.0.2  21553  149.171.126.2  25  tcp  FIN  0.053948  37812     3380   \n",
      "4  59.166.0.8  45212  149.171.126.4  53  udp  CON  0.000953    146      178   \n",
      "\n",
      "    9  ...  41  42  43 44  45  46   47  48  src_ip_with_port  trg_ip_with_port  \n",
      "0  31  ...   2   7   4  1   1   3  NaN   0   59.166.0.9:7045  149.171.126.7:25  \n",
      "1  31  ...   1   4   4  1   1   1  NaN   0   59.166.0.9:9685  149.171.126.2:80  \n",
      "2  31  ...   5   2   7  1   1   4  NaN   0   59.166.0.2:1421  149.171.126.4:53  \n",
      "3  31  ...   1   4   7  1   1   3  NaN   0  59.166.0.2:21553  149.171.126.2:25  \n",
      "4  31  ...   5   2   1  1   1   2  NaN   0  59.166.0.8:45212  149.171.126.4:53  \n",
      "\n",
      "[5 rows x 51 columns]\n"
     ]
    }
   ],
   "source": [
    "print(data.head())"
   ]
  },
  {
   "cell_type": "code",
   "execution_count": 12,
   "metadata": {},
   "outputs": [],
   "source": [
    "data_column_names = pd.read_csv('NUSW-NB15_features.csv')"
   ]
  },
  {
   "cell_type": "code",
   "execution_count": 25,
   "metadata": {},
   "outputs": [
    {
     "name": "stdout",
     "output_type": "stream",
     "text": [
      "['srcip', 'sport', 'dstip', 'dsport', 'proto', 'state', 'dur', 'sbytes', 'dbytes', 'sttl', 'dttl', 'sloss', 'dloss', 'service', 'Sload', 'Dload', 'Spkts', 'Dpkts', 'swin', 'dwin', 'stcpb', 'dtcpb', 'smeansz', 'dmeansz', 'trans_depth', 'res_bdy_len', 'Sjit', 'Djit', 'Stime', 'Ltime', 'Sintpkt', 'Dintpkt', 'tcprtt', 'synack', 'ackdat', 'is_sm_ips_ports', 'ct_state_ttl', 'ct_flw_http_mthd', 'is_ftp_login', 'ct_ftp_cmd', 'ct_srv_src', 'ct_srv_dst', 'ct_dst_ltm', 'ct_src_ ltm', 'ct_src_dport_ltm', 'ct_dst_sport_ltm', 'ct_dst_src_ltm', 'attack_cat', 'Label', 'src_ip_with_port', 'trg_ip_with_port']\n"
     ]
    }
   ],
   "source": [
    "name_list = list(data_column_names['Name'])\n",
    "name_list.append('src_ip_with_port')\n",
    "name_list.append('trg_ip_with_port')\n",
    "print(name_list)"
   ]
  },
  {
   "cell_type": "code",
   "execution_count": 26,
   "metadata": {},
   "outputs": [],
   "source": [
    "data.columns = name_list"
   ]
  },
  {
   "cell_type": "code",
   "execution_count": 27,
   "metadata": {},
   "outputs": [
    {
     "name": "stdout",
     "output_type": "stream",
     "text": [
      "        srcip  sport          dstip dsport proto state       dur  sbytes  \\\n",
      "0  59.166.0.9   7045  149.171.126.7     25   tcp   FIN  0.201886   37552   \n",
      "1  59.166.0.9   9685  149.171.126.2     80   tcp   FIN  5.864748   19410   \n",
      "2  59.166.0.2   1421  149.171.126.4     53   udp   CON  0.001391     146   \n",
      "3  59.166.0.2  21553  149.171.126.2     25   tcp   FIN  0.053948   37812   \n",
      "4  59.166.0.8  45212  149.171.126.4     53   udp   CON  0.000953     146   \n",
      "\n",
      "    dbytes  sttl  ...  ct_srv_dst  ct_dst_ltm  ct_src_ ltm ct_src_dport_ltm  \\\n",
      "0     3380    31  ...           2           7            4                1   \n",
      "1  1087890    31  ...           1           4            4                1   \n",
      "2      178    31  ...           5           2            7                1   \n",
      "3     3380    31  ...           1           4            7                1   \n",
      "4      178    31  ...           5           2            1                1   \n",
      "\n",
      "   ct_dst_sport_ltm  ct_dst_src_ltm  attack_cat  Label  src_ip_with_port  \\\n",
      "0                 1               3         NaN      0   59.166.0.9:7045   \n",
      "1                 1               1         NaN      0   59.166.0.9:9685   \n",
      "2                 1               4         NaN      0   59.166.0.2:1421   \n",
      "3                 1               3         NaN      0  59.166.0.2:21553   \n",
      "4                 1               2         NaN      0  59.166.0.8:45212   \n",
      "\n",
      "   trg_ip_with_port  \n",
      "0  149.171.126.7:25  \n",
      "1  149.171.126.2:80  \n",
      "2  149.171.126.4:53  \n",
      "3  149.171.126.2:25  \n",
      "4  149.171.126.4:53  \n",
      "\n",
      "[5 rows x 51 columns]\n"
     ]
    }
   ],
   "source": [
    "print(data.head())"
   ]
  },
  {
   "cell_type": "code",
   "execution_count": 28,
   "metadata": {},
   "outputs": [],
   "source": [
    "train_data, test_data = train_test_split(data, test_size=0.2)"
   ]
  },
  {
   "cell_type": "code",
   "execution_count": 29,
   "metadata": {},
   "outputs": [
    {
     "data": {
      "text/html": "<div>\n<style scoped>\n    .dataframe tbody tr th:only-of-type {\n        vertical-align: middle;\n    }\n\n    .dataframe tbody tr th {\n        vertical-align: top;\n    }\n\n    .dataframe thead th {\n        text-align: right;\n    }\n</style>\n<table border=\"1\" class=\"dataframe\">\n  <thead>\n    <tr style=\"text-align: right;\">\n      <th></th>\n      <th>srcip</th>\n      <th>sport</th>\n      <th>dstip</th>\n      <th>dsport</th>\n      <th>proto</th>\n      <th>state</th>\n      <th>dur</th>\n      <th>sbytes</th>\n      <th>dbytes</th>\n      <th>sttl</th>\n      <th>...</th>\n      <th>ct_srv_dst</th>\n      <th>ct_dst_ltm</th>\n      <th>ct_src_ ltm</th>\n      <th>ct_src_dport_ltm</th>\n      <th>ct_dst_sport_ltm</th>\n      <th>ct_dst_src_ltm</th>\n      <th>attack_cat</th>\n      <th>Label</th>\n      <th>src_ip_with_port</th>\n      <th>trg_ip_with_port</th>\n    </tr>\n  </thead>\n  <tbody>\n    <tr>\n      <th>308337</th>\n      <td>149.171.126.10</td>\n      <td>47439</td>\n      <td>175.45.176.0</td>\n      <td>53</td>\n      <td>udp</td>\n      <td>INT</td>\n      <td>0.000007</td>\n      <td>264</td>\n      <td>0</td>\n      <td>60</td>\n      <td>...</td>\n      <td>43</td>\n      <td>37</td>\n      <td>37</td>\n      <td>37</td>\n      <td>19</td>\n      <td>43</td>\n      <td>NaN</td>\n      <td>0</td>\n      <td>149.171.126.10:47439</td>\n      <td>175.45.176.0:53</td>\n    </tr>\n    <tr>\n      <th>381911</th>\n      <td>59.166.0.9</td>\n      <td>15662</td>\n      <td>149.171.126.4</td>\n      <td>13946</td>\n      <td>tcp</td>\n      <td>FIN</td>\n      <td>0.053957</td>\n      <td>2646</td>\n      <td>25684</td>\n      <td>31</td>\n      <td>...</td>\n      <td>6</td>\n      <td>6</td>\n      <td>2</td>\n      <td>1</td>\n      <td>1</td>\n      <td>1</td>\n      <td>NaN</td>\n      <td>0</td>\n      <td>59.166.0.9:15662</td>\n      <td>149.171.126.4:13946</td>\n    </tr>\n    <tr>\n      <th>22822</th>\n      <td>59.166.0.8</td>\n      <td>5516</td>\n      <td>149.171.126.2</td>\n      <td>53</td>\n      <td>udp</td>\n      <td>CON</td>\n      <td>0.001023</td>\n      <td>146</td>\n      <td>178</td>\n      <td>31</td>\n      <td>...</td>\n      <td>2</td>\n      <td>1</td>\n      <td>8</td>\n      <td>1</td>\n      <td>1</td>\n      <td>2</td>\n      <td>NaN</td>\n      <td>0</td>\n      <td>59.166.0.8:5516</td>\n      <td>149.171.126.2:53</td>\n    </tr>\n    <tr>\n      <th>272360</th>\n      <td>59.166.0.3</td>\n      <td>23879</td>\n      <td>149.171.126.6</td>\n      <td>22905</td>\n      <td>udp</td>\n      <td>CON</td>\n      <td>0.305048</td>\n      <td>520</td>\n      <td>304</td>\n      <td>31</td>\n      <td>...</td>\n      <td>9</td>\n      <td>4</td>\n      <td>5</td>\n      <td>1</td>\n      <td>1</td>\n      <td>4</td>\n      <td>NaN</td>\n      <td>0</td>\n      <td>59.166.0.3:23879</td>\n      <td>149.171.126.6:22905</td>\n    </tr>\n    <tr>\n      <th>321219</th>\n      <td>175.45.176.0</td>\n      <td>1043</td>\n      <td>149.171.126.10</td>\n      <td>53</td>\n      <td>udp</td>\n      <td>INT</td>\n      <td>0.000009</td>\n      <td>114</td>\n      <td>0</td>\n      <td>254</td>\n      <td>...</td>\n      <td>14</td>\n      <td>14</td>\n      <td>14</td>\n      <td>14</td>\n      <td>9</td>\n      <td>14</td>\n      <td>Generic</td>\n      <td>1</td>\n      <td>175.45.176.0:1043</td>\n      <td>149.171.126.10:53</td>\n    </tr>\n    <tr>\n      <th>...</th>\n      <td>...</td>\n      <td>...</td>\n      <td>...</td>\n      <td>...</td>\n      <td>...</td>\n      <td>...</td>\n      <td>...</td>\n      <td>...</td>\n      <td>...</td>\n      <td>...</td>\n      <td>...</td>\n      <td>...</td>\n      <td>...</td>\n      <td>...</td>\n      <td>...</td>\n      <td>...</td>\n      <td>...</td>\n      <td>...</td>\n      <td>...</td>\n      <td>...</td>\n      <td>...</td>\n    </tr>\n    <tr>\n      <th>212995</th>\n      <td>149.171.126.14</td>\n      <td>47439</td>\n      <td>175.45.176.1</td>\n      <td>53</td>\n      <td>udp</td>\n      <td>INT</td>\n      <td>0.000004</td>\n      <td>264</td>\n      <td>0</td>\n      <td>60</td>\n      <td>...</td>\n      <td>25</td>\n      <td>19</td>\n      <td>19</td>\n      <td>19</td>\n      <td>19</td>\n      <td>25</td>\n      <td>NaN</td>\n      <td>0</td>\n      <td>149.171.126.14:47439</td>\n      <td>175.45.176.1:53</td>\n    </tr>\n    <tr>\n      <th>195696</th>\n      <td>59.166.0.5</td>\n      <td>45669</td>\n      <td>149.171.126.2</td>\n      <td>6881</td>\n      <td>tcp</td>\n      <td>FIN</td>\n      <td>0.019771</td>\n      <td>1540</td>\n      <td>1644</td>\n      <td>31</td>\n      <td>...</td>\n      <td>19</td>\n      <td>13</td>\n      <td>8</td>\n      <td>6</td>\n      <td>1</td>\n      <td>6</td>\n      <td>NaN</td>\n      <td>0</td>\n      <td>59.166.0.5:45669</td>\n      <td>149.171.126.2:6881</td>\n    </tr>\n    <tr>\n      <th>269658</th>\n      <td>59.166.0.5</td>\n      <td>61025</td>\n      <td>149.171.126.8</td>\n      <td>23273</td>\n      <td>tcp</td>\n      <td>FIN</td>\n      <td>0.053166</td>\n      <td>2974</td>\n      <td>34222</td>\n      <td>31</td>\n      <td>...</td>\n      <td>3</td>\n      <td>3</td>\n      <td>3</td>\n      <td>1</td>\n      <td>1</td>\n      <td>2</td>\n      <td>NaN</td>\n      <td>0</td>\n      <td>59.166.0.5:61025</td>\n      <td>149.171.126.8:23273</td>\n    </tr>\n    <tr>\n      <th>65784</th>\n      <td>175.45.176.3</td>\n      <td>28789</td>\n      <td>149.171.126.13</td>\n      <td>21</td>\n      <td>tcp</td>\n      <td>FIN</td>\n      <td>1.239816</td>\n      <td>572</td>\n      <td>768</td>\n      <td>254</td>\n      <td>...</td>\n      <td>1</td>\n      <td>1</td>\n      <td>1</td>\n      <td>1</td>\n      <td>1</td>\n      <td>1</td>\n      <td>Fuzzers</td>\n      <td>1</td>\n      <td>175.45.176.3:28789</td>\n      <td>149.171.126.13:21</td>\n    </tr>\n    <tr>\n      <th>232006</th>\n      <td>59.166.0.1</td>\n      <td>20392</td>\n      <td>149.171.126.0</td>\n      <td>80</td>\n      <td>tcp</td>\n      <td>FIN</td>\n      <td>0.003912</td>\n      <td>1052</td>\n      <td>824</td>\n      <td>31</td>\n      <td>...</td>\n      <td>1</td>\n      <td>8</td>\n      <td>9</td>\n      <td>2</td>\n      <td>1</td>\n      <td>3</td>\n      <td>NaN</td>\n      <td>0</td>\n      <td>59.166.0.1:20392</td>\n      <td>149.171.126.0:80</td>\n    </tr>\n  </tbody>\n</table>\n<p>352035 rows × 51 columns</p>\n</div>",
      "text/plain": "                 srcip  sport           dstip dsport proto state       dur  \\\n308337  149.171.126.10  47439    175.45.176.0     53   udp   INT  0.000007   \n381911      59.166.0.9  15662   149.171.126.4  13946   tcp   FIN  0.053957   \n22822       59.166.0.8   5516   149.171.126.2     53   udp   CON  0.001023   \n272360      59.166.0.3  23879   149.171.126.6  22905   udp   CON  0.305048   \n321219    175.45.176.0   1043  149.171.126.10     53   udp   INT  0.000009   \n...                ...    ...             ...    ...   ...   ...       ...   \n212995  149.171.126.14  47439    175.45.176.1     53   udp   INT  0.000004   \n195696      59.166.0.5  45669   149.171.126.2   6881   tcp   FIN  0.019771   \n269658      59.166.0.5  61025   149.171.126.8  23273   tcp   FIN  0.053166   \n65784     175.45.176.3  28789  149.171.126.13     21   tcp   FIN  1.239816   \n232006      59.166.0.1  20392   149.171.126.0     80   tcp   FIN  0.003912   \n\n        sbytes  dbytes  sttl  ...  ct_srv_dst  ct_dst_ltm  ct_src_ ltm  \\\n308337     264       0    60  ...          43          37           37   \n381911    2646   25684    31  ...           6           6            2   \n22822      146     178    31  ...           2           1            8   \n272360     520     304    31  ...           9           4            5   \n321219     114       0   254  ...          14          14           14   \n...        ...     ...   ...  ...         ...         ...          ...   \n212995     264       0    60  ...          25          19           19   \n195696    1540    1644    31  ...          19          13            8   \n269658    2974   34222    31  ...           3           3            3   \n65784      572     768   254  ...           1           1            1   \n232006    1052     824    31  ...           1           8            9   \n\n       ct_src_dport_ltm  ct_dst_sport_ltm  ct_dst_src_ltm  attack_cat  Label  \\\n308337               37                19              43         NaN      0   \n381911                1                 1               1         NaN      0   \n22822                 1                 1               2         NaN      0   \n272360                1                 1               4         NaN      0   \n321219               14                 9              14     Generic      1   \n...                 ...               ...             ...         ...    ...   \n212995               19                19              25         NaN      0   \n195696                6                 1               6         NaN      0   \n269658                1                 1               2         NaN      0   \n65784                 1                 1               1    Fuzzers       1   \n232006                2                 1               3         NaN      0   \n\n            src_ip_with_port     trg_ip_with_port  \n308337  149.171.126.10:47439      175.45.176.0:53  \n381911      59.166.0.9:15662  149.171.126.4:13946  \n22822        59.166.0.8:5516     149.171.126.2:53  \n272360      59.166.0.3:23879  149.171.126.6:22905  \n321219     175.45.176.0:1043    149.171.126.10:53  \n...                      ...                  ...  \n212995  149.171.126.14:47439      175.45.176.1:53  \n195696      59.166.0.5:45669   149.171.126.2:6881  \n269658      59.166.0.5:61025  149.171.126.8:23273  \n65784     175.45.176.3:28789    149.171.126.13:21  \n232006      59.166.0.1:20392     149.171.126.0:80  \n\n[352035 rows x 51 columns]"
     },
     "execution_count": 29,
     "metadata": {},
     "output_type": "execute_result"
    }
   ],
   "source": [
    "train_data"
   ]
  },
  {
   "cell_type": "code",
   "execution_count": 30,
   "metadata": {},
   "outputs": [
    {
     "data": {
      "text/html": "<div>\n<style scoped>\n    .dataframe tbody tr th:only-of-type {\n        vertical-align: middle;\n    }\n\n    .dataframe tbody tr th {\n        vertical-align: top;\n    }\n\n    .dataframe thead th {\n        text-align: right;\n    }\n</style>\n<table border=\"1\" class=\"dataframe\">\n  <thead>\n    <tr style=\"text-align: right;\">\n      <th></th>\n      <th>srcip</th>\n      <th>sport</th>\n      <th>dstip</th>\n      <th>dsport</th>\n      <th>proto</th>\n      <th>state</th>\n      <th>dur</th>\n      <th>sbytes</th>\n      <th>dbytes</th>\n      <th>sttl</th>\n      <th>...</th>\n      <th>ct_srv_dst</th>\n      <th>ct_dst_ltm</th>\n      <th>ct_src_ ltm</th>\n      <th>ct_src_dport_ltm</th>\n      <th>ct_dst_sport_ltm</th>\n      <th>ct_dst_src_ltm</th>\n      <th>attack_cat</th>\n      <th>Label</th>\n      <th>src_ip_with_port</th>\n      <th>trg_ip_with_port</th>\n    </tr>\n  </thead>\n  <tbody>\n    <tr>\n      <th>305795</th>\n      <td>175.45.176.0</td>\n      <td>47439</td>\n      <td>149.171.126.10</td>\n      <td>53</td>\n      <td>udp</td>\n      <td>INT</td>\n      <td>0.000009</td>\n      <td>114</td>\n      <td>0</td>\n      <td>254</td>\n      <td>...</td>\n      <td>12</td>\n      <td>12</td>\n      <td>12</td>\n      <td>12</td>\n      <td>12</td>\n      <td>12</td>\n      <td>Generic</td>\n      <td>1</td>\n      <td>175.45.176.0:47439</td>\n      <td>149.171.126.10:53</td>\n    </tr>\n    <tr>\n      <th>267448</th>\n      <td>59.166.0.5</td>\n      <td>64199</td>\n      <td>149.171.126.1</td>\n      <td>53</td>\n      <td>udp</td>\n      <td>CON</td>\n      <td>0.001063</td>\n      <td>130</td>\n      <td>162</td>\n      <td>31</td>\n      <td>...</td>\n      <td>3</td>\n      <td>2</td>\n      <td>4</td>\n      <td>1</td>\n      <td>1</td>\n      <td>2</td>\n      <td>NaN</td>\n      <td>0</td>\n      <td>59.166.0.5:64199</td>\n      <td>149.171.126.1:53</td>\n    </tr>\n    <tr>\n      <th>158798</th>\n      <td>59.166.0.6</td>\n      <td>62877</td>\n      <td>149.171.126.1</td>\n      <td>5190</td>\n      <td>tcp</td>\n      <td>FIN</td>\n      <td>0.004815</td>\n      <td>1470</td>\n      <td>1728</td>\n      <td>31</td>\n      <td>...</td>\n      <td>2</td>\n      <td>1</td>\n      <td>1</td>\n      <td>1</td>\n      <td>1</td>\n      <td>1</td>\n      <td>NaN</td>\n      <td>0</td>\n      <td>59.166.0.6:62877</td>\n      <td>149.171.126.1:5190</td>\n    </tr>\n    <tr>\n      <th>297509</th>\n      <td>149.171.126.10</td>\n      <td>47439</td>\n      <td>175.45.176.0</td>\n      <td>53</td>\n      <td>udp</td>\n      <td>INT</td>\n      <td>0.000009</td>\n      <td>264</td>\n      <td>0</td>\n      <td>60</td>\n      <td>...</td>\n      <td>23</td>\n      <td>19</td>\n      <td>19</td>\n      <td>19</td>\n      <td>19</td>\n      <td>23</td>\n      <td>NaN</td>\n      <td>0</td>\n      <td>149.171.126.10:47439</td>\n      <td>175.45.176.0:53</td>\n    </tr>\n    <tr>\n      <th>247851</th>\n      <td>59.166.0.7</td>\n      <td>43618</td>\n      <td>149.171.126.8</td>\n      <td>111</td>\n      <td>udp</td>\n      <td>CON</td>\n      <td>0.004537</td>\n      <td>568</td>\n      <td>320</td>\n      <td>31</td>\n      <td>...</td>\n      <td>5</td>\n      <td>4</td>\n      <td>2</td>\n      <td>1</td>\n      <td>1</td>\n      <td>3</td>\n      <td>NaN</td>\n      <td>0</td>\n      <td>59.166.0.7:43618</td>\n      <td>149.171.126.8:111</td>\n    </tr>\n    <tr>\n      <th>...</th>\n      <td>...</td>\n      <td>...</td>\n      <td>...</td>\n      <td>...</td>\n      <td>...</td>\n      <td>...</td>\n      <td>...</td>\n      <td>...</td>\n      <td>...</td>\n      <td>...</td>\n      <td>...</td>\n      <td>...</td>\n      <td>...</td>\n      <td>...</td>\n      <td>...</td>\n      <td>...</td>\n      <td>...</td>\n      <td>...</td>\n      <td>...</td>\n      <td>...</td>\n      <td>...</td>\n    </tr>\n    <tr>\n      <th>141677</th>\n      <td>175.45.176.1</td>\n      <td>47439</td>\n      <td>149.171.126.14</td>\n      <td>53</td>\n      <td>udp</td>\n      <td>INT</td>\n      <td>0.000009</td>\n      <td>114</td>\n      <td>0</td>\n      <td>254</td>\n      <td>...</td>\n      <td>30</td>\n      <td>18</td>\n      <td>18</td>\n      <td>18</td>\n      <td>18</td>\n      <td>30</td>\n      <td>Generic</td>\n      <td>1</td>\n      <td>175.45.176.1:47439</td>\n      <td>149.171.126.14:53</td>\n    </tr>\n    <tr>\n      <th>2340</th>\n      <td>59.166.0.4</td>\n      <td>33468</td>\n      <td>149.171.126.1</td>\n      <td>31029</td>\n      <td>tcp</td>\n      <td>FIN</td>\n      <td>0.027027</td>\n      <td>2542</td>\n      <td>22128</td>\n      <td>31</td>\n      <td>...</td>\n      <td>8</td>\n      <td>3</td>\n      <td>2</td>\n      <td>1</td>\n      <td>1</td>\n      <td>1</td>\n      <td>NaN</td>\n      <td>0</td>\n      <td>59.166.0.4:33468</td>\n      <td>149.171.126.1:31029</td>\n    </tr>\n    <tr>\n      <th>267153</th>\n      <td>59.166.0.1</td>\n      <td>58776</td>\n      <td>149.171.126.7</td>\n      <td>22</td>\n      <td>tcp</td>\n      <td>FIN</td>\n      <td>10.215708</td>\n      <td>36536</td>\n      <td>77060</td>\n      <td>31</td>\n      <td>...</td>\n      <td>1</td>\n      <td>6</td>\n      <td>2</td>\n      <td>1</td>\n      <td>1</td>\n      <td>2</td>\n      <td>NaN</td>\n      <td>0</td>\n      <td>59.166.0.1:58776</td>\n      <td>149.171.126.7:22</td>\n    </tr>\n    <tr>\n      <th>173042</th>\n      <td>149.171.126.14</td>\n      <td>47439</td>\n      <td>175.45.176.1</td>\n      <td>53</td>\n      <td>udp</td>\n      <td>INT</td>\n      <td>0.000003</td>\n      <td>264</td>\n      <td>0</td>\n      <td>60</td>\n      <td>...</td>\n      <td>31</td>\n      <td>19</td>\n      <td>19</td>\n      <td>19</td>\n      <td>19</td>\n      <td>31</td>\n      <td>NaN</td>\n      <td>0</td>\n      <td>149.171.126.14:47439</td>\n      <td>175.45.176.1:53</td>\n    </tr>\n    <tr>\n      <th>315945</th>\n      <td>149.171.126.10</td>\n      <td>1043</td>\n      <td>175.45.176.0</td>\n      <td>53</td>\n      <td>udp</td>\n      <td>INT</td>\n      <td>0.000010</td>\n      <td>264</td>\n      <td>0</td>\n      <td>60</td>\n      <td>...</td>\n      <td>41</td>\n      <td>23</td>\n      <td>23</td>\n      <td>23</td>\n      <td>12</td>\n      <td>41</td>\n      <td>NaN</td>\n      <td>0</td>\n      <td>149.171.126.10:1043</td>\n      <td>175.45.176.0:53</td>\n    </tr>\n  </tbody>\n</table>\n<p>88009 rows × 51 columns</p>\n</div>",
      "text/plain": "                 srcip  sport           dstip dsport proto state        dur  \\\n305795    175.45.176.0  47439  149.171.126.10     53   udp   INT   0.000009   \n267448      59.166.0.5  64199   149.171.126.1     53   udp   CON   0.001063   \n158798      59.166.0.6  62877   149.171.126.1   5190   tcp   FIN   0.004815   \n297509  149.171.126.10  47439    175.45.176.0     53   udp   INT   0.000009   \n247851      59.166.0.7  43618   149.171.126.8    111   udp   CON   0.004537   \n...                ...    ...             ...    ...   ...   ...        ...   \n141677    175.45.176.1  47439  149.171.126.14     53   udp   INT   0.000009   \n2340        59.166.0.4  33468   149.171.126.1  31029   tcp   FIN   0.027027   \n267153      59.166.0.1  58776   149.171.126.7     22   tcp   FIN  10.215708   \n173042  149.171.126.14  47439    175.45.176.1     53   udp   INT   0.000003   \n315945  149.171.126.10   1043    175.45.176.0     53   udp   INT   0.000010   \n\n        sbytes  dbytes  sttl  ...  ct_srv_dst  ct_dst_ltm  ct_src_ ltm  \\\n305795     114       0   254  ...          12          12           12   \n267448     130     162    31  ...           3           2            4   \n158798    1470    1728    31  ...           2           1            1   \n297509     264       0    60  ...          23          19           19   \n247851     568     320    31  ...           5           4            2   \n...        ...     ...   ...  ...         ...         ...          ...   \n141677     114       0   254  ...          30          18           18   \n2340      2542   22128    31  ...           8           3            2   \n267153   36536   77060    31  ...           1           6            2   \n173042     264       0    60  ...          31          19           19   \n315945     264       0    60  ...          41          23           23   \n\n       ct_src_dport_ltm  ct_dst_sport_ltm  ct_dst_src_ltm  attack_cat  Label  \\\n305795               12                12              12     Generic      1   \n267448                1                 1               2         NaN      0   \n158798                1                 1               1         NaN      0   \n297509               19                19              23         NaN      0   \n247851                1                 1               3         NaN      0   \n...                 ...               ...             ...         ...    ...   \n141677               18                18              30     Generic      1   \n2340                  1                 1               1         NaN      0   \n267153                1                 1               2         NaN      0   \n173042               19                19              31         NaN      0   \n315945               23                12              41         NaN      0   \n\n            src_ip_with_port     trg_ip_with_port  \n305795    175.45.176.0:47439    149.171.126.10:53  \n267448      59.166.0.5:64199     149.171.126.1:53  \n158798      59.166.0.6:62877   149.171.126.1:5190  \n297509  149.171.126.10:47439      175.45.176.0:53  \n247851      59.166.0.7:43618    149.171.126.8:111  \n...                      ...                  ...  \n141677    175.45.176.1:47439    149.171.126.14:53  \n2340        59.166.0.4:33468  149.171.126.1:31029  \n267153      59.166.0.1:58776     149.171.126.7:22  \n173042  149.171.126.14:47439      175.45.176.1:53  \n315945   149.171.126.10:1043      175.45.176.0:53  \n\n[88009 rows x 51 columns]"
     },
     "execution_count": 30,
     "metadata": {},
     "output_type": "execute_result"
    }
   ],
   "source": [
    "test_data"
   ]
  },
  {
   "cell_type": "code",
   "execution_count": 35,
   "metadata": {},
   "outputs": [
    {
     "name": "stdout",
     "output_type": "stream",
     "text": [
      "Number of normal data on trainset: 280919, attack data on trainset: 71116. Attack percentage: 0.20201400428934624\n",
      "Number of normal data on testset: 70231, attack data on testset: 17778. Attack percentage: 0.20200206797032122\n"
     ]
    }
   ],
   "source": [
    "from collections import Counter\n",
    "print(\"Number of normal data on trainset: {0}, attack data on trainset: {1}. Attack percentage: {2}\".format(\n",
    "    Counter(train_data['Label'])[0],\n",
    "    Counter(train_data['Label'])[1],\n",
    "    Counter(train_data['Label'])[1] / (Counter(train_data['Label'])[0] + Counter(train_data['Label'])[1])))\n",
    "print(\"Number of normal data on testset: {0}, attack data on testset: {1}. Attack percentage: {2}\".format(\n",
    "    Counter(test_data['Label'])[0],\n",
    "    Counter(test_data['Label'])[1],\n",
    "    Counter(test_data['Label'])[1] / (Counter(test_data['Label'])[0] + Counter(test_data['Label'])[1])))"
   ]
  },
  {
   "cell_type": "code",
   "execution_count": 38,
   "metadata": {},
   "outputs": [],
   "source": [
    "train_data.to_csv('UNSW-NB15_4_train.csv',index=False)\n",
    "test_data.to_csv('UNSW-NB15_4_test.csv',index=False)"
   ]
  },
  {
   "cell_type": "code",
   "execution_count": null,
   "metadata": {},
   "outputs": [],
   "source": []
  }
 ],
 "metadata": {
  "kernelspec": {
   "display_name": "Python 3.7.4 64-bit",
   "name": "python374jvsc74a57bd020bbdedb0079e23a85211f14a09dbcc829fefc965ff02508ebf68fe08b48d387"
  },
  "language_info": {
   "codemirror_mode": {
    "name": "ipython",
    "version": 3
   },
   "file_extension": ".py",
   "mimetype": "text/x-python",
   "name": "python",
   "nbconvert_exporter": "python",
   "pygments_lexer": "ipython3",
   "version": "3.7.4"
  },
  "orig_nbformat": 2
 },
 "nbformat": 4,
 "nbformat_minor": 2
}