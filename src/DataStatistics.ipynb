{
 "cells": [
  {
   "cell_type": "code",
   "execution_count": 1,
   "metadata": {},
   "outputs": [
    {
     "name": "stdout",
     "output_type": "stream",
     "text": [
      "/sw/centos/anaconda3/2019.10/bin/python\n"
     ]
    }
   ],
   "source": [
    "!which python"
   ]
  },
  {
   "cell_type": "code",
   "execution_count": 2,
   "metadata": {},
   "outputs": [],
   "source": [
    "import csv\n",
    "import pandas as pd"
   ]
  },
  {
   "cell_type": "markdown",
   "metadata": {},
   "source": [
    "# Load the Whole Dataset"
   ]
  },
  {
   "cell_type": "code",
   "execution_count": 3,
   "metadata": {},
   "outputs": [],
   "source": [
    "df_example_1 = pd.read_csv('UNSW-NB15_1.csv',header=None, low_memory=False)"
   ]
  },
  {
   "cell_type": "code",
   "execution_count": 4,
   "metadata": {},
   "outputs": [
    {
     "data": {
      "text/html": "<div>\n<style scoped>\n    .dataframe tbody tr th:only-of-type {\n        vertical-align: middle;\n    }\n\n    .dataframe tbody tr th {\n        vertical-align: top;\n    }\n\n    .dataframe thead th {\n        text-align: right;\n    }\n</style>\n<table border=\"1\" class=\"dataframe\">\n  <thead>\n    <tr style=\"text-align: right;\">\n      <th></th>\n      <th>0</th>\n      <th>1</th>\n      <th>2</th>\n      <th>3</th>\n      <th>4</th>\n      <th>5</th>\n      <th>6</th>\n      <th>7</th>\n      <th>8</th>\n      <th>9</th>\n      <th>...</th>\n      <th>39</th>\n      <th>40</th>\n      <th>41</th>\n      <th>42</th>\n      <th>43</th>\n      <th>44</th>\n      <th>45</th>\n      <th>46</th>\n      <th>47</th>\n      <th>48</th>\n    </tr>\n  </thead>\n  <tbody>\n    <tr>\n      <th>0</th>\n      <td>59.166.0.0</td>\n      <td>1390</td>\n      <td>149.171.126.6</td>\n      <td>53</td>\n      <td>udp</td>\n      <td>CON</td>\n      <td>0.001055</td>\n      <td>132</td>\n      <td>164</td>\n      <td>31</td>\n      <td>...</td>\n      <td>0</td>\n      <td>3</td>\n      <td>7</td>\n      <td>1</td>\n      <td>3</td>\n      <td>1</td>\n      <td>1</td>\n      <td>1</td>\n      <td>NaN</td>\n      <td>0</td>\n    </tr>\n    <tr>\n      <th>1</th>\n      <td>59.166.0.0</td>\n      <td>33661</td>\n      <td>149.171.126.9</td>\n      <td>1024</td>\n      <td>udp</td>\n      <td>CON</td>\n      <td>0.036133</td>\n      <td>528</td>\n      <td>304</td>\n      <td>31</td>\n      <td>...</td>\n      <td>0</td>\n      <td>2</td>\n      <td>4</td>\n      <td>2</td>\n      <td>3</td>\n      <td>1</td>\n      <td>1</td>\n      <td>2</td>\n      <td>NaN</td>\n      <td>0</td>\n    </tr>\n    <tr>\n      <th>2</th>\n      <td>59.166.0.6</td>\n      <td>1464</td>\n      <td>149.171.126.7</td>\n      <td>53</td>\n      <td>udp</td>\n      <td>CON</td>\n      <td>0.001119</td>\n      <td>146</td>\n      <td>178</td>\n      <td>31</td>\n      <td>...</td>\n      <td>0</td>\n      <td>12</td>\n      <td>8</td>\n      <td>1</td>\n      <td>2</td>\n      <td>2</td>\n      <td>1</td>\n      <td>1</td>\n      <td>NaN</td>\n      <td>0</td>\n    </tr>\n    <tr>\n      <th>3</th>\n      <td>59.166.0.5</td>\n      <td>3593</td>\n      <td>149.171.126.5</td>\n      <td>53</td>\n      <td>udp</td>\n      <td>CON</td>\n      <td>0.001209</td>\n      <td>132</td>\n      <td>164</td>\n      <td>31</td>\n      <td>...</td>\n      <td>0</td>\n      <td>6</td>\n      <td>9</td>\n      <td>1</td>\n      <td>1</td>\n      <td>1</td>\n      <td>1</td>\n      <td>1</td>\n      <td>NaN</td>\n      <td>0</td>\n    </tr>\n    <tr>\n      <th>4</th>\n      <td>59.166.0.3</td>\n      <td>49664</td>\n      <td>149.171.126.0</td>\n      <td>53</td>\n      <td>udp</td>\n      <td>CON</td>\n      <td>0.001169</td>\n      <td>146</td>\n      <td>178</td>\n      <td>31</td>\n      <td>...</td>\n      <td>0</td>\n      <td>7</td>\n      <td>9</td>\n      <td>1</td>\n      <td>1</td>\n      <td>1</td>\n      <td>1</td>\n      <td>1</td>\n      <td>NaN</td>\n      <td>0</td>\n    </tr>\n    <tr>\n      <th>...</th>\n      <td>...</td>\n      <td>...</td>\n      <td>...</td>\n      <td>...</td>\n      <td>...</td>\n      <td>...</td>\n      <td>...</td>\n      <td>...</td>\n      <td>...</td>\n      <td>...</td>\n      <td>...</td>\n      <td>...</td>\n      <td>...</td>\n      <td>...</td>\n      <td>...</td>\n      <td>...</td>\n      <td>...</td>\n      <td>...</td>\n      <td>...</td>\n      <td>...</td>\n      <td>...</td>\n    </tr>\n    <tr>\n      <th>699996</th>\n      <td>59.166.0.8</td>\n      <td>12520</td>\n      <td>149.171.126.6</td>\n      <td>31010</td>\n      <td>tcp</td>\n      <td>FIN</td>\n      <td>0.020383</td>\n      <td>320</td>\n      <td>1874</td>\n      <td>31</td>\n      <td>...</td>\n      <td>0</td>\n      <td>8</td>\n      <td>20</td>\n      <td>7</td>\n      <td>5</td>\n      <td>1</td>\n      <td>1</td>\n      <td>4</td>\n      <td>NaN</td>\n      <td>0</td>\n    </tr>\n    <tr>\n      <th>699997</th>\n      <td>59.166.0.0</td>\n      <td>18895</td>\n      <td>149.171.126.9</td>\n      <td>80</td>\n      <td>tcp</td>\n      <td>FIN</td>\n      <td>1.402957</td>\n      <td>19410</td>\n      <td>1087890</td>\n      <td>31</td>\n      <td>...</td>\n      <td>0</td>\n      <td>1</td>\n      <td>1</td>\n      <td>2</td>\n      <td>7</td>\n      <td>2</td>\n      <td>2</td>\n      <td>2</td>\n      <td>NaN</td>\n      <td>0</td>\n    </tr>\n    <tr>\n      <th>699998</th>\n      <td>59.166.0.0</td>\n      <td>30103</td>\n      <td>149.171.126.5</td>\n      <td>5190</td>\n      <td>tcp</td>\n      <td>FIN</td>\n      <td>0.007108</td>\n      <td>2158</td>\n      <td>2464</td>\n      <td>31</td>\n      <td>...</td>\n      <td>0</td>\n      <td>13</td>\n      <td>13</td>\n      <td>6</td>\n      <td>7</td>\n      <td>2</td>\n      <td>1</td>\n      <td>2</td>\n      <td>NaN</td>\n      <td>0</td>\n    </tr>\n    <tr>\n      <th>699999</th>\n      <td>59.166.0.6</td>\n      <td>30388</td>\n      <td>149.171.126.5</td>\n      <td>111</td>\n      <td>udp</td>\n      <td>CON</td>\n      <td>0.004435</td>\n      <td>568</td>\n      <td>304</td>\n      <td>31</td>\n      <td>...</td>\n      <td>0</td>\n      <td>10</td>\n      <td>13</td>\n      <td>6</td>\n      <td>5</td>\n      <td>1</td>\n      <td>1</td>\n      <td>3</td>\n      <td>NaN</td>\n      <td>0</td>\n    </tr>\n    <tr>\n      <th>700000</th>\n      <td>59.166.0.0</td>\n      <td>6055</td>\n      <td>149.171.126.5</td>\n      <td>54145</td>\n      <td>tcp</td>\n      <td>FIN</td>\n      <td>0.072974</td>\n      <td>4238</td>\n      <td>60788</td>\n      <td>31</td>\n      <td>...</td>\n      <td>0</td>\n      <td>13</td>\n      <td>13</td>\n      <td>6</td>\n      <td>7</td>\n      <td>1</td>\n      <td>1</td>\n      <td>2</td>\n      <td>NaN</td>\n      <td>0</td>\n    </tr>\n  </tbody>\n</table>\n<p>700001 rows × 49 columns</p>\n</div>",
      "text/plain": "                0      1              2      3    4    5         6      7   \\\n0       59.166.0.0   1390  149.171.126.6     53  udp  CON  0.001055    132   \n1       59.166.0.0  33661  149.171.126.9   1024  udp  CON  0.036133    528   \n2       59.166.0.6   1464  149.171.126.7     53  udp  CON  0.001119    146   \n3       59.166.0.5   3593  149.171.126.5     53  udp  CON  0.001209    132   \n4       59.166.0.3  49664  149.171.126.0     53  udp  CON  0.001169    146   \n...            ...    ...            ...    ...  ...  ...       ...    ...   \n699996  59.166.0.8  12520  149.171.126.6  31010  tcp  FIN  0.020383    320   \n699997  59.166.0.0  18895  149.171.126.9     80  tcp  FIN  1.402957  19410   \n699998  59.166.0.0  30103  149.171.126.5   5190  tcp  FIN  0.007108   2158   \n699999  59.166.0.6  30388  149.171.126.5    111  udp  CON  0.004435    568   \n700000  59.166.0.0   6055  149.171.126.5  54145  tcp  FIN  0.072974   4238   \n\n             8   9   ...  39  40  41 42  43  44  45  46   47  48  \n0           164  31  ...   0   3   7  1   3   1   1   1  NaN   0  \n1           304  31  ...   0   2   4  2   3   1   1   2  NaN   0  \n2           178  31  ...   0  12   8  1   2   2   1   1  NaN   0  \n3           164  31  ...   0   6   9  1   1   1   1   1  NaN   0  \n4           178  31  ...   0   7   9  1   1   1   1   1  NaN   0  \n...         ...  ..  ...  ..  ..  .. ..  ..  ..  ..  ..  ...  ..  \n699996     1874  31  ...   0   8  20  7   5   1   1   4  NaN   0  \n699997  1087890  31  ...   0   1   1  2   7   2   2   2  NaN   0  \n699998     2464  31  ...   0  13  13  6   7   2   1   2  NaN   0  \n699999      304  31  ...   0  10  13  6   5   1   1   3  NaN   0  \n700000    60788  31  ...   0  13  13  6   7   1   1   2  NaN   0  \n\n[700001 rows x 49 columns]"
     },
     "execution_count": 4,
     "metadata": {},
     "output_type": "execute_result"
    }
   ],
   "source": [
    "df_example_1"
   ]
  },
  {
   "cell_type": "code",
   "execution_count": 5,
   "metadata": {},
   "outputs": [],
   "source": [
    "df_example_2 = pd.read_csv('UNSW-NB15_2.csv',header=None, low_memory=False)"
   ]
  },
  {
   "cell_type": "code",
   "execution_count": 6,
   "metadata": {},
   "outputs": [
    {
     "data": {
      "text/html": "<div>\n<style scoped>\n    .dataframe tbody tr th:only-of-type {\n        vertical-align: middle;\n    }\n\n    .dataframe tbody tr th {\n        vertical-align: top;\n    }\n\n    .dataframe thead th {\n        text-align: right;\n    }\n</style>\n<table border=\"1\" class=\"dataframe\">\n  <thead>\n    <tr style=\"text-align: right;\">\n      <th></th>\n      <th>0</th>\n      <th>1</th>\n      <th>2</th>\n      <th>3</th>\n      <th>4</th>\n      <th>5</th>\n      <th>6</th>\n      <th>7</th>\n      <th>8</th>\n      <th>9</th>\n      <th>...</th>\n      <th>39</th>\n      <th>40</th>\n      <th>41</th>\n      <th>42</th>\n      <th>43</th>\n      <th>44</th>\n      <th>45</th>\n      <th>46</th>\n      <th>47</th>\n      <th>48</th>\n    </tr>\n  </thead>\n  <tbody>\n    <tr>\n      <th>0</th>\n      <td>59.166.0.0</td>\n      <td>6055</td>\n      <td>149.171.126.5</td>\n      <td>54145</td>\n      <td>tcp</td>\n      <td>FIN</td>\n      <td>0.072974</td>\n      <td>4238</td>\n      <td>60788</td>\n      <td>31</td>\n      <td>...</td>\n      <td>0</td>\n      <td>13</td>\n      <td>13</td>\n      <td>6</td>\n      <td>7</td>\n      <td>1</td>\n      <td>1</td>\n      <td>2</td>\n      <td>NaN</td>\n      <td>0</td>\n    </tr>\n    <tr>\n      <th>1</th>\n      <td>59.166.0.0</td>\n      <td>7832</td>\n      <td>149.171.126.3</td>\n      <td>5607</td>\n      <td>tcp</td>\n      <td>FIN</td>\n      <td>0.144951</td>\n      <td>5174</td>\n      <td>91072</td>\n      <td>31</td>\n      <td>...</td>\n      <td>0</td>\n      <td>13</td>\n      <td>13</td>\n      <td>6</td>\n      <td>7</td>\n      <td>1</td>\n      <td>1</td>\n      <td>2</td>\n      <td>NaN</td>\n      <td>0</td>\n    </tr>\n    <tr>\n      <th>2</th>\n      <td>59.166.0.8</td>\n      <td>11397</td>\n      <td>149.171.126.6</td>\n      <td>21</td>\n      <td>tcp</td>\n      <td>FIN</td>\n      <td>0.116107</td>\n      <td>2934</td>\n      <td>3742</td>\n      <td>31</td>\n      <td>...</td>\n      <td>1</td>\n      <td>1</td>\n      <td>2</td>\n      <td>7</td>\n      <td>5</td>\n      <td>1</td>\n      <td>1</td>\n      <td>4</td>\n      <td>NaN</td>\n      <td>0</td>\n    </tr>\n    <tr>\n      <th>3</th>\n      <td>59.166.0.0</td>\n      <td>3804</td>\n      <td>149.171.126.3</td>\n      <td>53</td>\n      <td>udp</td>\n      <td>CON</td>\n      <td>0.000986</td>\n      <td>146</td>\n      <td>178</td>\n      <td>31</td>\n      <td>...</td>\n      <td>0</td>\n      <td>13</td>\n      <td>13</td>\n      <td>6</td>\n      <td>7</td>\n      <td>1</td>\n      <td>1</td>\n      <td>2</td>\n      <td>NaN</td>\n      <td>0</td>\n    </tr>\n    <tr>\n      <th>4</th>\n      <td>59.166.0.8</td>\n      <td>14339</td>\n      <td>149.171.126.6</td>\n      <td>14724</td>\n      <td>tcp</td>\n      <td>FIN</td>\n      <td>0.038480</td>\n      <td>8928</td>\n      <td>320</td>\n      <td>31</td>\n      <td>...</td>\n      <td>0</td>\n      <td>8</td>\n      <td>20</td>\n      <td>7</td>\n      <td>5</td>\n      <td>1</td>\n      <td>1</td>\n      <td>4</td>\n      <td>NaN</td>\n      <td>0</td>\n    </tr>\n    <tr>\n      <th>...</th>\n      <td>...</td>\n      <td>...</td>\n      <td>...</td>\n      <td>...</td>\n      <td>...</td>\n      <td>...</td>\n      <td>...</td>\n      <td>...</td>\n      <td>...</td>\n      <td>...</td>\n      <td>...</td>\n      <td>...</td>\n      <td>...</td>\n      <td>...</td>\n      <td>...</td>\n      <td>...</td>\n      <td>...</td>\n      <td>...</td>\n      <td>...</td>\n      <td>...</td>\n      <td>...</td>\n    </tr>\n    <tr>\n      <th>699996</th>\n      <td>149.171.126.18</td>\n      <td>1043</td>\n      <td>175.45.176.3</td>\n      <td>53</td>\n      <td>udp</td>\n      <td>INT</td>\n      <td>0.000005</td>\n      <td>264</td>\n      <td>0</td>\n      <td>60</td>\n      <td>...</td>\n      <td></td>\n      <td>19</td>\n      <td>19</td>\n      <td>19</td>\n      <td>19</td>\n      <td>19</td>\n      <td>19</td>\n      <td>19</td>\n      <td>NaN</td>\n      <td>0</td>\n    </tr>\n    <tr>\n      <th>699997</th>\n      <td>149.171.126.18</td>\n      <td>1043</td>\n      <td>175.45.176.3</td>\n      <td>53</td>\n      <td>udp</td>\n      <td>INT</td>\n      <td>0.000005</td>\n      <td>264</td>\n      <td>0</td>\n      <td>60</td>\n      <td>...</td>\n      <td></td>\n      <td>19</td>\n      <td>19</td>\n      <td>19</td>\n      <td>19</td>\n      <td>19</td>\n      <td>19</td>\n      <td>19</td>\n      <td>NaN</td>\n      <td>0</td>\n    </tr>\n    <tr>\n      <th>699998</th>\n      <td>149.171.126.18</td>\n      <td>1043</td>\n      <td>175.45.176.3</td>\n      <td>53</td>\n      <td>udp</td>\n      <td>INT</td>\n      <td>0.000005</td>\n      <td>264</td>\n      <td>0</td>\n      <td>60</td>\n      <td>...</td>\n      <td></td>\n      <td>19</td>\n      <td>19</td>\n      <td>19</td>\n      <td>19</td>\n      <td>19</td>\n      <td>19</td>\n      <td>19</td>\n      <td>NaN</td>\n      <td>0</td>\n    </tr>\n    <tr>\n      <th>699999</th>\n      <td>149.171.126.18</td>\n      <td>1043</td>\n      <td>175.45.176.3</td>\n      <td>53</td>\n      <td>udp</td>\n      <td>INT</td>\n      <td>0.000005</td>\n      <td>264</td>\n      <td>0</td>\n      <td>60</td>\n      <td>...</td>\n      <td></td>\n      <td>19</td>\n      <td>19</td>\n      <td>19</td>\n      <td>19</td>\n      <td>19</td>\n      <td>19</td>\n      <td>19</td>\n      <td>NaN</td>\n      <td>0</td>\n    </tr>\n    <tr>\n      <th>700000</th>\n      <td>59.166.0.1</td>\n      <td>18247</td>\n      <td>149.171.126.4</td>\n      <td>7662</td>\n      <td>tcp</td>\n      <td>FIN</td>\n      <td>0.119596</td>\n      <td>4550</td>\n      <td>68342</td>\n      <td>31</td>\n      <td>...</td>\n      <td></td>\n      <td>6</td>\n      <td>2</td>\n      <td>2</td>\n      <td>5</td>\n      <td>1</td>\n      <td>1</td>\n      <td>2</td>\n      <td>NaN</td>\n      <td>0</td>\n    </tr>\n  </tbody>\n</table>\n<p>700001 rows × 49 columns</p>\n</div>",
      "text/plain": "                    0      1              2      3    4    5         6     7   \\\n0           59.166.0.0   6055  149.171.126.5  54145  tcp  FIN  0.072974  4238   \n1           59.166.0.0   7832  149.171.126.3   5607  tcp  FIN  0.144951  5174   \n2           59.166.0.8  11397  149.171.126.6     21  tcp  FIN  0.116107  2934   \n3           59.166.0.0   3804  149.171.126.3     53  udp  CON  0.000986   146   \n4           59.166.0.8  14339  149.171.126.6  14724  tcp  FIN  0.038480  8928   \n...                ...    ...            ...    ...  ...  ...       ...   ...   \n699996  149.171.126.18   1043   175.45.176.3     53  udp  INT  0.000005   264   \n699997  149.171.126.18   1043   175.45.176.3     53  udp  INT  0.000005   264   \n699998  149.171.126.18   1043   175.45.176.3     53  udp  INT  0.000005   264   \n699999  149.171.126.18   1043   175.45.176.3     53  udp  INT  0.000005   264   \n700000      59.166.0.1  18247  149.171.126.4   7662  tcp  FIN  0.119596  4550   \n\n           8   9   ...  39  40  41  42  43  44  45  46   47  48  \n0       60788  31  ...   0  13  13   6   7   1   1   2  NaN   0  \n1       91072  31  ...   0  13  13   6   7   1   1   2  NaN   0  \n2        3742  31  ...   1   1   2   7   5   1   1   4  NaN   0  \n3         178  31  ...   0  13  13   6   7   1   1   2  NaN   0  \n4         320  31  ...   0   8  20   7   5   1   1   4  NaN   0  \n...       ...  ..  ...  ..  ..  ..  ..  ..  ..  ..  ..  ...  ..  \n699996      0  60  ...      19  19  19  19  19  19  19  NaN   0  \n699997      0  60  ...      19  19  19  19  19  19  19  NaN   0  \n699998      0  60  ...      19  19  19  19  19  19  19  NaN   0  \n699999      0  60  ...      19  19  19  19  19  19  19  NaN   0  \n700000  68342  31  ...       6   2   2   5   1   1   2  NaN   0  \n\n[700001 rows x 49 columns]"
     },
     "execution_count": 6,
     "metadata": {},
     "output_type": "execute_result"
    }
   ],
   "source": [
    "df_example_2"
   ]
  },
  {
   "cell_type": "code",
   "execution_count": 7,
   "metadata": {},
   "outputs": [],
   "source": [
    "df_example_3 = pd.read_csv('UNSW-NB15_3.csv',header=None, low_memory=False)"
   ]
  },
  {
   "cell_type": "code",
   "execution_count": 8,
   "metadata": {},
   "outputs": [
    {
     "data": {
      "text/html": "<div>\n<style scoped>\n    .dataframe tbody tr th:only-of-type {\n        vertical-align: middle;\n    }\n\n    .dataframe tbody tr th {\n        vertical-align: top;\n    }\n\n    .dataframe thead th {\n        text-align: right;\n    }\n</style>\n<table border=\"1\" class=\"dataframe\">\n  <thead>\n    <tr style=\"text-align: right;\">\n      <th></th>\n      <th>0</th>\n      <th>1</th>\n      <th>2</th>\n      <th>3</th>\n      <th>4</th>\n      <th>5</th>\n      <th>6</th>\n      <th>7</th>\n      <th>8</th>\n      <th>9</th>\n      <th>...</th>\n      <th>39</th>\n      <th>40</th>\n      <th>41</th>\n      <th>42</th>\n      <th>43</th>\n      <th>44</th>\n      <th>45</th>\n      <th>46</th>\n      <th>47</th>\n      <th>48</th>\n    </tr>\n  </thead>\n  <tbody>\n    <tr>\n      <th>0</th>\n      <td>59.166.0.1</td>\n      <td>18247</td>\n      <td>149.171.126.4</td>\n      <td>7662</td>\n      <td>tcp</td>\n      <td>FIN</td>\n      <td>0.119596</td>\n      <td>4550</td>\n      <td>68342</td>\n      <td>31</td>\n      <td>...</td>\n      <td></td>\n      <td>6</td>\n      <td>2</td>\n      <td>2</td>\n      <td>5</td>\n      <td>1</td>\n      <td>1</td>\n      <td>2</td>\n      <td>NaN</td>\n      <td>0</td>\n    </tr>\n    <tr>\n      <th>1</th>\n      <td>59.166.0.3</td>\n      <td>54771</td>\n      <td>149.171.126.2</td>\n      <td>27709</td>\n      <td>tcp</td>\n      <td>FIN</td>\n      <td>0.650574</td>\n      <td>8928</td>\n      <td>320</td>\n      <td>31</td>\n      <td>...</td>\n      <td></td>\n      <td>3</td>\n      <td>5</td>\n      <td>2</td>\n      <td>4</td>\n      <td>1</td>\n      <td>1</td>\n      <td>4</td>\n      <td>NaN</td>\n      <td>0</td>\n    </tr>\n    <tr>\n      <th>2</th>\n      <td>59.166.0.8</td>\n      <td>13289</td>\n      <td>149.171.126.9</td>\n      <td>5190</td>\n      <td>tcp</td>\n      <td>FIN</td>\n      <td>0.007980</td>\n      <td>2158</td>\n      <td>2464</td>\n      <td>31</td>\n      <td>...</td>\n      <td></td>\n      <td>3</td>\n      <td>5</td>\n      <td>1</td>\n      <td>1</td>\n      <td>1</td>\n      <td>1</td>\n      <td>3</td>\n      <td>NaN</td>\n      <td>0</td>\n    </tr>\n    <tr>\n      <th>3</th>\n      <td>149.171.126.18</td>\n      <td>1043</td>\n      <td>175.45.176.3</td>\n      <td>53</td>\n      <td>udp</td>\n      <td>INT</td>\n      <td>0.000005</td>\n      <td>264</td>\n      <td>0</td>\n      <td>60</td>\n      <td>...</td>\n      <td></td>\n      <td>19</td>\n      <td>19</td>\n      <td>19</td>\n      <td>19</td>\n      <td>19</td>\n      <td>19</td>\n      <td>19</td>\n      <td>NaN</td>\n      <td>0</td>\n    </tr>\n    <tr>\n      <th>4</th>\n      <td>149.171.126.18</td>\n      <td>1043</td>\n      <td>175.45.176.3</td>\n      <td>53</td>\n      <td>udp</td>\n      <td>INT</td>\n      <td>0.000005</td>\n      <td>264</td>\n      <td>0</td>\n      <td>60</td>\n      <td>...</td>\n      <td></td>\n      <td>19</td>\n      <td>19</td>\n      <td>19</td>\n      <td>19</td>\n      <td>19</td>\n      <td>19</td>\n      <td>19</td>\n      <td>NaN</td>\n      <td>0</td>\n    </tr>\n    <tr>\n      <th>...</th>\n      <td>...</td>\n      <td>...</td>\n      <td>...</td>\n      <td>...</td>\n      <td>...</td>\n      <td>...</td>\n      <td>...</td>\n      <td>...</td>\n      <td>...</td>\n      <td>...</td>\n      <td>...</td>\n      <td>...</td>\n      <td>...</td>\n      <td>...</td>\n      <td>...</td>\n      <td>...</td>\n      <td>...</td>\n      <td>...</td>\n      <td>...</td>\n      <td>...</td>\n      <td>...</td>\n    </tr>\n    <tr>\n      <th>699996</th>\n      <td>59.166.0.0</td>\n      <td>2111</td>\n      <td>149.171.126.5</td>\n      <td>53</td>\n      <td>udp</td>\n      <td>CON</td>\n      <td>0.001035</td>\n      <td>146</td>\n      <td>178</td>\n      <td>31</td>\n      <td>...</td>\n      <td></td>\n      <td>1</td>\n      <td>3</td>\n      <td>4</td>\n      <td>3</td>\n      <td>1</td>\n      <td>1</td>\n      <td>4</td>\n      <td>NaN</td>\n      <td>0</td>\n    </tr>\n    <tr>\n      <th>699997</th>\n      <td>59.166.0.5</td>\n      <td>49044</td>\n      <td>149.171.126.3</td>\n      <td>30639</td>\n      <td>tcp</td>\n      <td>FIN</td>\n      <td>0.220630</td>\n      <td>424</td>\n      <td>8824</td>\n      <td>31</td>\n      <td>...</td>\n      <td></td>\n      <td>3</td>\n      <td>3</td>\n      <td>3</td>\n      <td>3</td>\n      <td>1</td>\n      <td>1</td>\n      <td>4</td>\n      <td>NaN</td>\n      <td>0</td>\n    </tr>\n    <tr>\n      <th>699998</th>\n      <td>59.166.0.6</td>\n      <td>37717</td>\n      <td>149.171.126.7</td>\n      <td>35667</td>\n      <td>tcp</td>\n      <td>FIN</td>\n      <td>0.031576</td>\n      <td>2646</td>\n      <td>25564</td>\n      <td>31</td>\n      <td>...</td>\n      <td></td>\n      <td>7</td>\n      <td>6</td>\n      <td>7</td>\n      <td>4</td>\n      <td>1</td>\n      <td>1</td>\n      <td>3</td>\n      <td>NaN</td>\n      <td>0</td>\n    </tr>\n    <tr>\n      <th>699999</th>\n      <td>59.166.0.2</td>\n      <td>1768</td>\n      <td>149.171.126.7</td>\n      <td>64122</td>\n      <td>tcp</td>\n      <td>FIN</td>\n      <td>0.096835</td>\n      <td>4862</td>\n      <td>82782</td>\n      <td>31</td>\n      <td>...</td>\n      <td></td>\n      <td>6</td>\n      <td>6</td>\n      <td>7</td>\n      <td>7</td>\n      <td>1</td>\n      <td>1</td>\n      <td>2</td>\n      <td>NaN</td>\n      <td>0</td>\n    </tr>\n    <tr>\n      <th>700000</th>\n      <td>59.166.0.9</td>\n      <td>7045</td>\n      <td>149.171.126.7</td>\n      <td>25</td>\n      <td>tcp</td>\n      <td>FIN</td>\n      <td>0.201886</td>\n      <td>37552</td>\n      <td>3380</td>\n      <td>31</td>\n      <td>...</td>\n      <td></td>\n      <td>2</td>\n      <td>2</td>\n      <td>7</td>\n      <td>4</td>\n      <td>1</td>\n      <td>1</td>\n      <td>3</td>\n      <td>NaN</td>\n      <td>0</td>\n    </tr>\n  </tbody>\n</table>\n<p>700001 rows × 49 columns</p>\n</div>",
      "text/plain": "                    0      1              2      3    4    5         6   \\\n0           59.166.0.1  18247  149.171.126.4   7662  tcp  FIN  0.119596   \n1           59.166.0.3  54771  149.171.126.2  27709  tcp  FIN  0.650574   \n2           59.166.0.8  13289  149.171.126.9   5190  tcp  FIN  0.007980   \n3       149.171.126.18   1043   175.45.176.3     53  udp  INT  0.000005   \n4       149.171.126.18   1043   175.45.176.3     53  udp  INT  0.000005   \n...                ...    ...            ...    ...  ...  ...       ...   \n699996      59.166.0.0   2111  149.171.126.5     53  udp  CON  0.001035   \n699997      59.166.0.5  49044  149.171.126.3  30639  tcp  FIN  0.220630   \n699998      59.166.0.6  37717  149.171.126.7  35667  tcp  FIN  0.031576   \n699999      59.166.0.2   1768  149.171.126.7  64122  tcp  FIN  0.096835   \n700000      59.166.0.9   7045  149.171.126.7     25  tcp  FIN  0.201886   \n\n           7      8   9   ...  39  40  41  42  43  44  45  46   47  48  \n0        4550  68342  31  ...       6   2   2   5   1   1   2  NaN   0  \n1        8928    320  31  ...       3   5   2   4   1   1   4  NaN   0  \n2        2158   2464  31  ...       3   5   1   1   1   1   3  NaN   0  \n3         264      0  60  ...      19  19  19  19  19  19  19  NaN   0  \n4         264      0  60  ...      19  19  19  19  19  19  19  NaN   0  \n...       ...    ...  ..  ...  ..  ..  ..  ..  ..  ..  ..  ..  ...  ..  \n699996    146    178  31  ...       1   3   4   3   1   1   4  NaN   0  \n699997    424   8824  31  ...       3   3   3   3   1   1   4  NaN   0  \n699998   2646  25564  31  ...       7   6   7   4   1   1   3  NaN   0  \n699999   4862  82782  31  ...       6   6   7   7   1   1   2  NaN   0  \n700000  37552   3380  31  ...       2   2   7   4   1   1   3  NaN   0  \n\n[700001 rows x 49 columns]"
     },
     "execution_count": 8,
     "metadata": {},
     "output_type": "execute_result"
    }
   ],
   "source": [
    "df_example_3"
   ]
  },
  {
   "cell_type": "code",
   "execution_count": 9,
   "metadata": {},
   "outputs": [],
   "source": [
    "df_example_4 = pd.read_csv('UNSW-NB15_4.csv',header=None, low_memory=False)"
   ]
  },
  {
   "cell_type": "code",
   "execution_count": 10,
   "metadata": {},
   "outputs": [
    {
     "data": {
      "text/html": "<div>\n<style scoped>\n    .dataframe tbody tr th:only-of-type {\n        vertical-align: middle;\n    }\n\n    .dataframe tbody tr th {\n        vertical-align: top;\n    }\n\n    .dataframe thead th {\n        text-align: right;\n    }\n</style>\n<table border=\"1\" class=\"dataframe\">\n  <thead>\n    <tr style=\"text-align: right;\">\n      <th></th>\n      <th>0</th>\n      <th>1</th>\n      <th>2</th>\n      <th>3</th>\n      <th>4</th>\n      <th>5</th>\n      <th>6</th>\n      <th>7</th>\n      <th>8</th>\n      <th>9</th>\n      <th>...</th>\n      <th>39</th>\n      <th>40</th>\n      <th>41</th>\n      <th>42</th>\n      <th>43</th>\n      <th>44</th>\n      <th>45</th>\n      <th>46</th>\n      <th>47</th>\n      <th>48</th>\n    </tr>\n  </thead>\n  <tbody>\n    <tr>\n      <th>0</th>\n      <td>59.166.0.9</td>\n      <td>7045</td>\n      <td>149.171.126.7</td>\n      <td>25</td>\n      <td>tcp</td>\n      <td>FIN</td>\n      <td>0.201886</td>\n      <td>37552</td>\n      <td>3380</td>\n      <td>31</td>\n      <td>...</td>\n      <td></td>\n      <td>2</td>\n      <td>2</td>\n      <td>7</td>\n      <td>4</td>\n      <td>1</td>\n      <td>1</td>\n      <td>3</td>\n      <td>NaN</td>\n      <td>0</td>\n    </tr>\n    <tr>\n      <th>1</th>\n      <td>59.166.0.9</td>\n      <td>9685</td>\n      <td>149.171.126.2</td>\n      <td>80</td>\n      <td>tcp</td>\n      <td>FIN</td>\n      <td>5.864748</td>\n      <td>19410</td>\n      <td>1087890</td>\n      <td>31</td>\n      <td>...</td>\n      <td></td>\n      <td>3</td>\n      <td>1</td>\n      <td>4</td>\n      <td>4</td>\n      <td>1</td>\n      <td>1</td>\n      <td>1</td>\n      <td>NaN</td>\n      <td>0</td>\n    </tr>\n    <tr>\n      <th>2</th>\n      <td>59.166.0.2</td>\n      <td>1421</td>\n      <td>149.171.126.4</td>\n      <td>53</td>\n      <td>udp</td>\n      <td>CON</td>\n      <td>0.001391</td>\n      <td>146</td>\n      <td>178</td>\n      <td>31</td>\n      <td>...</td>\n      <td></td>\n      <td>3</td>\n      <td>5</td>\n      <td>2</td>\n      <td>7</td>\n      <td>1</td>\n      <td>1</td>\n      <td>4</td>\n      <td>NaN</td>\n      <td>0</td>\n    </tr>\n    <tr>\n      <th>3</th>\n      <td>59.166.0.2</td>\n      <td>21553</td>\n      <td>149.171.126.2</td>\n      <td>25</td>\n      <td>tcp</td>\n      <td>FIN</td>\n      <td>0.053948</td>\n      <td>37812</td>\n      <td>3380</td>\n      <td>31</td>\n      <td>...</td>\n      <td></td>\n      <td>1</td>\n      <td>1</td>\n      <td>4</td>\n      <td>7</td>\n      <td>1</td>\n      <td>1</td>\n      <td>3</td>\n      <td>NaN</td>\n      <td>0</td>\n    </tr>\n    <tr>\n      <th>4</th>\n      <td>59.166.0.8</td>\n      <td>45212</td>\n      <td>149.171.126.4</td>\n      <td>53</td>\n      <td>udp</td>\n      <td>CON</td>\n      <td>0.000953</td>\n      <td>146</td>\n      <td>178</td>\n      <td>31</td>\n      <td>...</td>\n      <td></td>\n      <td>2</td>\n      <td>5</td>\n      <td>2</td>\n      <td>1</td>\n      <td>1</td>\n      <td>1</td>\n      <td>2</td>\n      <td>NaN</td>\n      <td>0</td>\n    </tr>\n    <tr>\n      <th>...</th>\n      <td>...</td>\n      <td>...</td>\n      <td>...</td>\n      <td>...</td>\n      <td>...</td>\n      <td>...</td>\n      <td>...</td>\n      <td>...</td>\n      <td>...</td>\n      <td>...</td>\n      <td>...</td>\n      <td>...</td>\n      <td>...</td>\n      <td>...</td>\n      <td>...</td>\n      <td>...</td>\n      <td>...</td>\n      <td>...</td>\n      <td>...</td>\n      <td>...</td>\n      <td>...</td>\n    </tr>\n    <tr>\n      <th>440039</th>\n      <td>59.166.0.5</td>\n      <td>33094</td>\n      <td>149.171.126.7</td>\n      <td>43433</td>\n      <td>tcp</td>\n      <td>FIN</td>\n      <td>0.087306</td>\n      <td>320</td>\n      <td>1828</td>\n      <td>31</td>\n      <td>...</td>\n      <td></td>\n      <td>1</td>\n      <td>2</td>\n      <td>3</td>\n      <td>3</td>\n      <td>1</td>\n      <td>1</td>\n      <td>3</td>\n      <td>NaN</td>\n      <td>0</td>\n    </tr>\n    <tr>\n      <th>440040</th>\n      <td>59.166.0.7</td>\n      <td>20848</td>\n      <td>149.171.126.4</td>\n      <td>21</td>\n      <td>tcp</td>\n      <td>CON</td>\n      <td>0.365058</td>\n      <td>456</td>\n      <td>346</td>\n      <td>31</td>\n      <td>...</td>\n      <td>2</td>\n      <td>2</td>\n      <td>2</td>\n      <td>2</td>\n      <td>2</td>\n      <td>2</td>\n      <td>2</td>\n      <td>2</td>\n      <td>NaN</td>\n      <td>0</td>\n    </tr>\n    <tr>\n      <th>440041</th>\n      <td>59.166.0.3</td>\n      <td>21511</td>\n      <td>149.171.126.9</td>\n      <td>21</td>\n      <td>tcp</td>\n      <td>CON</td>\n      <td>6.335154</td>\n      <td>1802</td>\n      <td>2088</td>\n      <td>31</td>\n      <td>...</td>\n      <td>2</td>\n      <td>2</td>\n      <td>2</td>\n      <td>4</td>\n      <td>2</td>\n      <td>2</td>\n      <td>2</td>\n      <td>2</td>\n      <td>NaN</td>\n      <td>0</td>\n    </tr>\n    <tr>\n      <th>440042</th>\n      <td>59.166.0.9</td>\n      <td>35433</td>\n      <td>149.171.126.0</td>\n      <td>80</td>\n      <td>tcp</td>\n      <td>CON</td>\n      <td>2.200934</td>\n      <td>3498</td>\n      <td>166054</td>\n      <td>31</td>\n      <td>...</td>\n      <td></td>\n      <td>1</td>\n      <td>1</td>\n      <td>2</td>\n      <td>4</td>\n      <td>2</td>\n      <td>2</td>\n      <td>2</td>\n      <td>NaN</td>\n      <td>0</td>\n    </tr>\n    <tr>\n      <th>440043</th>\n      <td>175.45.176.0</td>\n      <td>17293</td>\n      <td>149.171.126.17</td>\n      <td>110</td>\n      <td>tcp</td>\n      <td>CON</td>\n      <td>0.942984</td>\n      <td>574</td>\n      <td>676</td>\n      <td>62</td>\n      <td>...</td>\n      <td></td>\n      <td>1</td>\n      <td>1</td>\n      <td>2</td>\n      <td>4</td>\n      <td>2</td>\n      <td>2</td>\n      <td>2</td>\n      <td>Exploits</td>\n      <td>1</td>\n    </tr>\n  </tbody>\n</table>\n<p>440044 rows × 49 columns</p>\n</div>",
      "text/plain": "                  0      1               2      3    4    5         6      7   \\\n0         59.166.0.9   7045   149.171.126.7     25  tcp  FIN  0.201886  37552   \n1         59.166.0.9   9685   149.171.126.2     80  tcp  FIN  5.864748  19410   \n2         59.166.0.2   1421   149.171.126.4     53  udp  CON  0.001391    146   \n3         59.166.0.2  21553   149.171.126.2     25  tcp  FIN  0.053948  37812   \n4         59.166.0.8  45212   149.171.126.4     53  udp  CON  0.000953    146   \n...              ...    ...             ...    ...  ...  ...       ...    ...   \n440039    59.166.0.5  33094   149.171.126.7  43433  tcp  FIN  0.087306    320   \n440040    59.166.0.7  20848   149.171.126.4     21  tcp  CON  0.365058    456   \n440041    59.166.0.3  21511   149.171.126.9     21  tcp  CON  6.335154   1802   \n440042    59.166.0.9  35433   149.171.126.0     80  tcp  CON  2.200934   3498   \n440043  175.45.176.0  17293  149.171.126.17    110  tcp  CON  0.942984    574   \n\n             8   9   ...  39  40  41 42  43  44  45  46        47  48  \n0          3380  31  ...       2   2  7   4   1   1   3       NaN   0  \n1       1087890  31  ...       3   1  4   4   1   1   1       NaN   0  \n2           178  31  ...       3   5  2   7   1   1   4       NaN   0  \n3          3380  31  ...       1   1  4   7   1   1   3       NaN   0  \n4           178  31  ...       2   5  2   1   1   1   2       NaN   0  \n...         ...  ..  ...  ..  ..  .. ..  ..  ..  ..  ..       ...  ..  \n440039     1828  31  ...       1   2  3   3   1   1   3       NaN   0  \n440040      346  31  ...   2   2   2  2   2   2   2   2       NaN   0  \n440041     2088  31  ...   2   2   2  4   2   2   2   2       NaN   0  \n440042   166054  31  ...       1   1  2   4   2   2   2       NaN   0  \n440043      676  62  ...       1   1  2   4   2   2   2  Exploits   1  \n\n[440044 rows x 49 columns]"
     },
     "execution_count": 10,
     "metadata": {},
     "output_type": "execute_result"
    }
   ],
   "source": [
    "df_example_4"
   ]
  },
  {
   "cell_type": "code",
   "execution_count": 11,
   "metadata": {},
   "outputs": [],
   "source": [
    "df_example = pd.concat([df_example_1, df_example_2, df_example_3, df_example_4], axis=0)"
   ]
  },
  {
   "cell_type": "code",
   "execution_count": 12,
   "metadata": {},
   "outputs": [
    {
     "data": {
      "text/html": "<div>\n<style scoped>\n    .dataframe tbody tr th:only-of-type {\n        vertical-align: middle;\n    }\n\n    .dataframe tbody tr th {\n        vertical-align: top;\n    }\n\n    .dataframe thead th {\n        text-align: right;\n    }\n</style>\n<table border=\"1\" class=\"dataframe\">\n  <thead>\n    <tr style=\"text-align: right;\">\n      <th></th>\n      <th>0</th>\n      <th>1</th>\n      <th>2</th>\n      <th>3</th>\n      <th>4</th>\n      <th>5</th>\n      <th>6</th>\n      <th>7</th>\n      <th>8</th>\n      <th>9</th>\n      <th>...</th>\n      <th>39</th>\n      <th>40</th>\n      <th>41</th>\n      <th>42</th>\n      <th>43</th>\n      <th>44</th>\n      <th>45</th>\n      <th>46</th>\n      <th>47</th>\n      <th>48</th>\n    </tr>\n  </thead>\n  <tbody>\n    <tr>\n      <th>0</th>\n      <td>59.166.0.0</td>\n      <td>1390</td>\n      <td>149.171.126.6</td>\n      <td>53</td>\n      <td>udp</td>\n      <td>CON</td>\n      <td>0.001055</td>\n      <td>132</td>\n      <td>164</td>\n      <td>31</td>\n      <td>...</td>\n      <td>0</td>\n      <td>3</td>\n      <td>7</td>\n      <td>1</td>\n      <td>3</td>\n      <td>1</td>\n      <td>1</td>\n      <td>1</td>\n      <td>NaN</td>\n      <td>0</td>\n    </tr>\n    <tr>\n      <th>1</th>\n      <td>59.166.0.0</td>\n      <td>33661</td>\n      <td>149.171.126.9</td>\n      <td>1024</td>\n      <td>udp</td>\n      <td>CON</td>\n      <td>0.036133</td>\n      <td>528</td>\n      <td>304</td>\n      <td>31</td>\n      <td>...</td>\n      <td>0</td>\n      <td>2</td>\n      <td>4</td>\n      <td>2</td>\n      <td>3</td>\n      <td>1</td>\n      <td>1</td>\n      <td>2</td>\n      <td>NaN</td>\n      <td>0</td>\n    </tr>\n    <tr>\n      <th>2</th>\n      <td>59.166.0.6</td>\n      <td>1464</td>\n      <td>149.171.126.7</td>\n      <td>53</td>\n      <td>udp</td>\n      <td>CON</td>\n      <td>0.001119</td>\n      <td>146</td>\n      <td>178</td>\n      <td>31</td>\n      <td>...</td>\n      <td>0</td>\n      <td>12</td>\n      <td>8</td>\n      <td>1</td>\n      <td>2</td>\n      <td>2</td>\n      <td>1</td>\n      <td>1</td>\n      <td>NaN</td>\n      <td>0</td>\n    </tr>\n    <tr>\n      <th>3</th>\n      <td>59.166.0.5</td>\n      <td>3593</td>\n      <td>149.171.126.5</td>\n      <td>53</td>\n      <td>udp</td>\n      <td>CON</td>\n      <td>0.001209</td>\n      <td>132</td>\n      <td>164</td>\n      <td>31</td>\n      <td>...</td>\n      <td>0</td>\n      <td>6</td>\n      <td>9</td>\n      <td>1</td>\n      <td>1</td>\n      <td>1</td>\n      <td>1</td>\n      <td>1</td>\n      <td>NaN</td>\n      <td>0</td>\n    </tr>\n    <tr>\n      <th>4</th>\n      <td>59.166.0.3</td>\n      <td>49664</td>\n      <td>149.171.126.0</td>\n      <td>53</td>\n      <td>udp</td>\n      <td>CON</td>\n      <td>0.001169</td>\n      <td>146</td>\n      <td>178</td>\n      <td>31</td>\n      <td>...</td>\n      <td>0</td>\n      <td>7</td>\n      <td>9</td>\n      <td>1</td>\n      <td>1</td>\n      <td>1</td>\n      <td>1</td>\n      <td>1</td>\n      <td>NaN</td>\n      <td>0</td>\n    </tr>\n    <tr>\n      <th>...</th>\n      <td>...</td>\n      <td>...</td>\n      <td>...</td>\n      <td>...</td>\n      <td>...</td>\n      <td>...</td>\n      <td>...</td>\n      <td>...</td>\n      <td>...</td>\n      <td>...</td>\n      <td>...</td>\n      <td>...</td>\n      <td>...</td>\n      <td>...</td>\n      <td>...</td>\n      <td>...</td>\n      <td>...</td>\n      <td>...</td>\n      <td>...</td>\n      <td>...</td>\n      <td>...</td>\n    </tr>\n    <tr>\n      <th>440039</th>\n      <td>59.166.0.5</td>\n      <td>33094</td>\n      <td>149.171.126.7</td>\n      <td>43433</td>\n      <td>tcp</td>\n      <td>FIN</td>\n      <td>0.087306</td>\n      <td>320</td>\n      <td>1828</td>\n      <td>31</td>\n      <td>...</td>\n      <td></td>\n      <td>1</td>\n      <td>2</td>\n      <td>3</td>\n      <td>3</td>\n      <td>1</td>\n      <td>1</td>\n      <td>3</td>\n      <td>NaN</td>\n      <td>0</td>\n    </tr>\n    <tr>\n      <th>440040</th>\n      <td>59.166.0.7</td>\n      <td>20848</td>\n      <td>149.171.126.4</td>\n      <td>21</td>\n      <td>tcp</td>\n      <td>CON</td>\n      <td>0.365058</td>\n      <td>456</td>\n      <td>346</td>\n      <td>31</td>\n      <td>...</td>\n      <td>2</td>\n      <td>2</td>\n      <td>2</td>\n      <td>2</td>\n      <td>2</td>\n      <td>2</td>\n      <td>2</td>\n      <td>2</td>\n      <td>NaN</td>\n      <td>0</td>\n    </tr>\n    <tr>\n      <th>440041</th>\n      <td>59.166.0.3</td>\n      <td>21511</td>\n      <td>149.171.126.9</td>\n      <td>21</td>\n      <td>tcp</td>\n      <td>CON</td>\n      <td>6.335154</td>\n      <td>1802</td>\n      <td>2088</td>\n      <td>31</td>\n      <td>...</td>\n      <td>2</td>\n      <td>2</td>\n      <td>2</td>\n      <td>4</td>\n      <td>2</td>\n      <td>2</td>\n      <td>2</td>\n      <td>2</td>\n      <td>NaN</td>\n      <td>0</td>\n    </tr>\n    <tr>\n      <th>440042</th>\n      <td>59.166.0.9</td>\n      <td>35433</td>\n      <td>149.171.126.0</td>\n      <td>80</td>\n      <td>tcp</td>\n      <td>CON</td>\n      <td>2.200934</td>\n      <td>3498</td>\n      <td>166054</td>\n      <td>31</td>\n      <td>...</td>\n      <td></td>\n      <td>1</td>\n      <td>1</td>\n      <td>2</td>\n      <td>4</td>\n      <td>2</td>\n      <td>2</td>\n      <td>2</td>\n      <td>NaN</td>\n      <td>0</td>\n    </tr>\n    <tr>\n      <th>440043</th>\n      <td>175.45.176.0</td>\n      <td>17293</td>\n      <td>149.171.126.17</td>\n      <td>110</td>\n      <td>tcp</td>\n      <td>CON</td>\n      <td>0.942984</td>\n      <td>574</td>\n      <td>676</td>\n      <td>62</td>\n      <td>...</td>\n      <td></td>\n      <td>1</td>\n      <td>1</td>\n      <td>2</td>\n      <td>4</td>\n      <td>2</td>\n      <td>2</td>\n      <td>2</td>\n      <td>Exploits</td>\n      <td>1</td>\n    </tr>\n  </tbody>\n</table>\n<p>2540047 rows × 49 columns</p>\n</div>",
      "text/plain": "                  0      1               2      3    4    5         6     7   \\\n0         59.166.0.0   1390   149.171.126.6     53  udp  CON  0.001055   132   \n1         59.166.0.0  33661   149.171.126.9   1024  udp  CON  0.036133   528   \n2         59.166.0.6   1464   149.171.126.7     53  udp  CON  0.001119   146   \n3         59.166.0.5   3593   149.171.126.5     53  udp  CON  0.001209   132   \n4         59.166.0.3  49664   149.171.126.0     53  udp  CON  0.001169   146   \n...              ...    ...             ...    ...  ...  ...       ...   ...   \n440039    59.166.0.5  33094   149.171.126.7  43433  tcp  FIN  0.087306   320   \n440040    59.166.0.7  20848   149.171.126.4     21  tcp  CON  0.365058   456   \n440041    59.166.0.3  21511   149.171.126.9     21  tcp  CON  6.335154  1802   \n440042    59.166.0.9  35433   149.171.126.0     80  tcp  CON  2.200934  3498   \n440043  175.45.176.0  17293  149.171.126.17    110  tcp  CON  0.942984   574   \n\n            8   9   ...  39  40  41 42  43  44  45  46        47  48  \n0          164  31  ...   0   3   7  1   3   1   1   1       NaN   0  \n1          304  31  ...   0   2   4  2   3   1   1   2       NaN   0  \n2          178  31  ...   0  12   8  1   2   2   1   1       NaN   0  \n3          164  31  ...   0   6   9  1   1   1   1   1       NaN   0  \n4          178  31  ...   0   7   9  1   1   1   1   1       NaN   0  \n...        ...  ..  ...  ..  ..  .. ..  ..  ..  ..  ..       ...  ..  \n440039    1828  31  ...       1   2  3   3   1   1   3       NaN   0  \n440040     346  31  ...   2   2   2  2   2   2   2   2       NaN   0  \n440041    2088  31  ...   2   2   2  4   2   2   2   2       NaN   0  \n440042  166054  31  ...       1   1  2   4   2   2   2       NaN   0  \n440043     676  62  ...       1   1  2   4   2   2   2  Exploits   1  \n\n[2540047 rows x 49 columns]"
     },
     "execution_count": 12,
     "metadata": {},
     "output_type": "execute_result"
    }
   ],
   "source": [
    "df_example"
   ]
  },
  {
   "cell_type": "code",
   "execution_count": 13,
   "metadata": {},
   "outputs": [
    {
     "data": {
      "text/html": "<div>\n<style scoped>\n    .dataframe tbody tr th:only-of-type {\n        vertical-align: middle;\n    }\n\n    .dataframe tbody tr th {\n        vertical-align: top;\n    }\n\n    .dataframe thead th {\n        text-align: right;\n    }\n</style>\n<table border=\"1\" class=\"dataframe\">\n  <thead>\n    <tr style=\"text-align: right;\">\n      <th></th>\n      <th>index</th>\n      <th>0</th>\n      <th>1</th>\n      <th>2</th>\n      <th>3</th>\n      <th>4</th>\n      <th>5</th>\n      <th>6</th>\n      <th>7</th>\n      <th>8</th>\n      <th>...</th>\n      <th>39</th>\n      <th>40</th>\n      <th>41</th>\n      <th>42</th>\n      <th>43</th>\n      <th>44</th>\n      <th>45</th>\n      <th>46</th>\n      <th>47</th>\n      <th>48</th>\n    </tr>\n  </thead>\n  <tbody>\n    <tr>\n      <th>0</th>\n      <td>0</td>\n      <td>59.166.0.0</td>\n      <td>1390</td>\n      <td>149.171.126.6</td>\n      <td>53</td>\n      <td>udp</td>\n      <td>CON</td>\n      <td>0.001055</td>\n      <td>132</td>\n      <td>164</td>\n      <td>...</td>\n      <td>0</td>\n      <td>3</td>\n      <td>7</td>\n      <td>1</td>\n      <td>3</td>\n      <td>1</td>\n      <td>1</td>\n      <td>1</td>\n      <td>NaN</td>\n      <td>0</td>\n    </tr>\n    <tr>\n      <th>1</th>\n      <td>1</td>\n      <td>59.166.0.0</td>\n      <td>33661</td>\n      <td>149.171.126.9</td>\n      <td>1024</td>\n      <td>udp</td>\n      <td>CON</td>\n      <td>0.036133</td>\n      <td>528</td>\n      <td>304</td>\n      <td>...</td>\n      <td>0</td>\n      <td>2</td>\n      <td>4</td>\n      <td>2</td>\n      <td>3</td>\n      <td>1</td>\n      <td>1</td>\n      <td>2</td>\n      <td>NaN</td>\n      <td>0</td>\n    </tr>\n    <tr>\n      <th>2</th>\n      <td>2</td>\n      <td>59.166.0.6</td>\n      <td>1464</td>\n      <td>149.171.126.7</td>\n      <td>53</td>\n      <td>udp</td>\n      <td>CON</td>\n      <td>0.001119</td>\n      <td>146</td>\n      <td>178</td>\n      <td>...</td>\n      <td>0</td>\n      <td>12</td>\n      <td>8</td>\n      <td>1</td>\n      <td>2</td>\n      <td>2</td>\n      <td>1</td>\n      <td>1</td>\n      <td>NaN</td>\n      <td>0</td>\n    </tr>\n    <tr>\n      <th>3</th>\n      <td>3</td>\n      <td>59.166.0.5</td>\n      <td>3593</td>\n      <td>149.171.126.5</td>\n      <td>53</td>\n      <td>udp</td>\n      <td>CON</td>\n      <td>0.001209</td>\n      <td>132</td>\n      <td>164</td>\n      <td>...</td>\n      <td>0</td>\n      <td>6</td>\n      <td>9</td>\n      <td>1</td>\n      <td>1</td>\n      <td>1</td>\n      <td>1</td>\n      <td>1</td>\n      <td>NaN</td>\n      <td>0</td>\n    </tr>\n    <tr>\n      <th>4</th>\n      <td>4</td>\n      <td>59.166.0.3</td>\n      <td>49664</td>\n      <td>149.171.126.0</td>\n      <td>53</td>\n      <td>udp</td>\n      <td>CON</td>\n      <td>0.001169</td>\n      <td>146</td>\n      <td>178</td>\n      <td>...</td>\n      <td>0</td>\n      <td>7</td>\n      <td>9</td>\n      <td>1</td>\n      <td>1</td>\n      <td>1</td>\n      <td>1</td>\n      <td>1</td>\n      <td>NaN</td>\n      <td>0</td>\n    </tr>\n    <tr>\n      <th>...</th>\n      <td>...</td>\n      <td>...</td>\n      <td>...</td>\n      <td>...</td>\n      <td>...</td>\n      <td>...</td>\n      <td>...</td>\n      <td>...</td>\n      <td>...</td>\n      <td>...</td>\n      <td>...</td>\n      <td>...</td>\n      <td>...</td>\n      <td>...</td>\n      <td>...</td>\n      <td>...</td>\n      <td>...</td>\n      <td>...</td>\n      <td>...</td>\n      <td>...</td>\n      <td>...</td>\n    </tr>\n    <tr>\n      <th>2540042</th>\n      <td>440039</td>\n      <td>59.166.0.5</td>\n      <td>33094</td>\n      <td>149.171.126.7</td>\n      <td>43433</td>\n      <td>tcp</td>\n      <td>FIN</td>\n      <td>0.087306</td>\n      <td>320</td>\n      <td>1828</td>\n      <td>...</td>\n      <td></td>\n      <td>1</td>\n      <td>2</td>\n      <td>3</td>\n      <td>3</td>\n      <td>1</td>\n      <td>1</td>\n      <td>3</td>\n      <td>NaN</td>\n      <td>0</td>\n    </tr>\n    <tr>\n      <th>2540043</th>\n      <td>440040</td>\n      <td>59.166.0.7</td>\n      <td>20848</td>\n      <td>149.171.126.4</td>\n      <td>21</td>\n      <td>tcp</td>\n      <td>CON</td>\n      <td>0.365058</td>\n      <td>456</td>\n      <td>346</td>\n      <td>...</td>\n      <td>2</td>\n      <td>2</td>\n      <td>2</td>\n      <td>2</td>\n      <td>2</td>\n      <td>2</td>\n      <td>2</td>\n      <td>2</td>\n      <td>NaN</td>\n      <td>0</td>\n    </tr>\n    <tr>\n      <th>2540044</th>\n      <td>440041</td>\n      <td>59.166.0.3</td>\n      <td>21511</td>\n      <td>149.171.126.9</td>\n      <td>21</td>\n      <td>tcp</td>\n      <td>CON</td>\n      <td>6.335154</td>\n      <td>1802</td>\n      <td>2088</td>\n      <td>...</td>\n      <td>2</td>\n      <td>2</td>\n      <td>2</td>\n      <td>4</td>\n      <td>2</td>\n      <td>2</td>\n      <td>2</td>\n      <td>2</td>\n      <td>NaN</td>\n      <td>0</td>\n    </tr>\n    <tr>\n      <th>2540045</th>\n      <td>440042</td>\n      <td>59.166.0.9</td>\n      <td>35433</td>\n      <td>149.171.126.0</td>\n      <td>80</td>\n      <td>tcp</td>\n      <td>CON</td>\n      <td>2.200934</td>\n      <td>3498</td>\n      <td>166054</td>\n      <td>...</td>\n      <td></td>\n      <td>1</td>\n      <td>1</td>\n      <td>2</td>\n      <td>4</td>\n      <td>2</td>\n      <td>2</td>\n      <td>2</td>\n      <td>NaN</td>\n      <td>0</td>\n    </tr>\n    <tr>\n      <th>2540046</th>\n      <td>440043</td>\n      <td>175.45.176.0</td>\n      <td>17293</td>\n      <td>149.171.126.17</td>\n      <td>110</td>\n      <td>tcp</td>\n      <td>CON</td>\n      <td>0.942984</td>\n      <td>574</td>\n      <td>676</td>\n      <td>...</td>\n      <td></td>\n      <td>1</td>\n      <td>1</td>\n      <td>2</td>\n      <td>4</td>\n      <td>2</td>\n      <td>2</td>\n      <td>2</td>\n      <td>Exploits</td>\n      <td>1</td>\n    </tr>\n  </tbody>\n</table>\n<p>2540047 rows × 50 columns</p>\n</div>",
      "text/plain": "          index             0      1               2      3    4    5  \\\n0             0    59.166.0.0   1390   149.171.126.6     53  udp  CON   \n1             1    59.166.0.0  33661   149.171.126.9   1024  udp  CON   \n2             2    59.166.0.6   1464   149.171.126.7     53  udp  CON   \n3             3    59.166.0.5   3593   149.171.126.5     53  udp  CON   \n4             4    59.166.0.3  49664   149.171.126.0     53  udp  CON   \n...         ...           ...    ...             ...    ...  ...  ...   \n2540042  440039    59.166.0.5  33094   149.171.126.7  43433  tcp  FIN   \n2540043  440040    59.166.0.7  20848   149.171.126.4     21  tcp  CON   \n2540044  440041    59.166.0.3  21511   149.171.126.9     21  tcp  CON   \n2540045  440042    59.166.0.9  35433   149.171.126.0     80  tcp  CON   \n2540046  440043  175.45.176.0  17293  149.171.126.17    110  tcp  CON   \n\n                6     7       8  ...  39  40  41  42 43  44  45  46        47  \\\n0        0.001055   132     164  ...   0   3   7   1  3   1   1   1       NaN   \n1        0.036133   528     304  ...   0   2   4   2  3   1   1   2       NaN   \n2        0.001119   146     178  ...   0  12   8   1  2   2   1   1       NaN   \n3        0.001209   132     164  ...   0   6   9   1  1   1   1   1       NaN   \n4        0.001169   146     178  ...   0   7   9   1  1   1   1   1       NaN   \n...           ...   ...     ...  ...  ..  ..  ..  .. ..  ..  ..  ..       ...   \n2540042  0.087306   320    1828  ...       1   2   3  3   1   1   3       NaN   \n2540043  0.365058   456     346  ...   2   2   2   2  2   2   2   2       NaN   \n2540044  6.335154  1802    2088  ...   2   2   2   4  2   2   2   2       NaN   \n2540045  2.200934  3498  166054  ...       1   1   2  4   2   2   2       NaN   \n2540046  0.942984   574     676  ...       1   1   2  4   2   2   2  Exploits   \n\n         48  \n0         0  \n1         0  \n2         0  \n3         0  \n4         0  \n...      ..  \n2540042   0  \n2540043   0  \n2540044   0  \n2540045   0  \n2540046   1  \n\n[2540047 rows x 50 columns]"
     },
     "execution_count": 13,
     "metadata": {},
     "output_type": "execute_result"
    }
   ],
   "source": [
    "df_example.reset_index()"
   ]
  },
  {
   "cell_type": "code",
   "execution_count": 14,
   "metadata": {},
   "outputs": [
    {
     "data": {
      "text/plain": "array(['59.166.0.0', '59.166.0.6', '59.166.0.5', '59.166.0.3',\n       '10.40.182.3', '59.166.0.7', '10.40.170.2', '59.166.0.1',\n       '59.166.0.2', '59.166.0.4', '175.45.176.3', '175.45.176.2',\n       '175.45.176.0', '59.166.0.8', '59.166.0.9', '175.45.176.1',\n       '10.40.182.1', '10.40.85.1', '192.168.241.243', '10.40.85.30',\n       '149.171.126.16', '149.171.126.2', '149.171.126.11',\n       '149.171.126.4', '149.171.126.5', '149.171.126.17',\n       '149.171.126.19', '149.171.126.9', '149.171.126.8',\n       '149.171.126.7', '149.171.126.15', '149.171.126.6',\n       '149.171.126.0', '149.171.126.1', '149.171.126.3',\n       '149.171.126.13', '149.171.126.12', '149.171.126.10',\n       '149.171.126.18', '127.0.0.1', '149.171.126.14', '10.40.85.10',\n       '10.40.182.6'], dtype=object)"
     },
     "execution_count": 14,
     "metadata": {},
     "output_type": "execute_result"
    }
   ],
   "source": [
    "df_example[0].unique()"
   ]
  },
  {
   "cell_type": "code",
   "execution_count": 15,
   "metadata": {},
   "outputs": [
    {
     "data": {
      "text/plain": "array(['149.171.126.6', '149.171.126.9', '149.171.126.7', '149.171.126.5',\n       '149.171.126.0', '149.171.126.4', '10.40.182.3', '10.40.170.2',\n       '149.171.126.18', '149.171.126.16', '149.171.126.8',\n       '149.171.126.2', '149.171.126.1', '149.171.126.10',\n       '149.171.126.3', '149.171.126.15', '149.171.126.14',\n       '149.171.126.12', '149.171.126.13', '149.171.126.11', '224.0.0.5',\n       '149.171.126.17', '149.171.126.19', '192.168.241.243',\n       '10.40.85.1', '10.40.85.30', '175.45.176.3', '224.0.0.1',\n       '59.166.0.4', '175.45.176.0', '59.166.0.9', '59.166.0.6',\n       '175.45.176.2', '59.166.0.2', '59.166.0.5', '59.166.0.7',\n       '59.166.0.1', '59.166.0.8', '59.166.0.0', '175.45.176.1',\n       '59.166.0.3', '32.50.32.66', '10.40.198.10', '127.0.0.1',\n       '192.168.241.50', '10.40.182.255', '10.40.182.6'], dtype=object)"
     },
     "execution_count": 15,
     "metadata": {},
     "output_type": "execute_result"
    }
   ],
   "source": [
    "df_example[2].unique()"
   ]
  },
  {
   "cell_type": "code",
   "execution_count": 16,
   "metadata": {},
   "outputs": [],
   "source": [
    "df_example['src_ip_with_port'] = df_example[0].map(str) + \":\" + df_example[1].map(str)"
   ]
  },
  {
   "cell_type": "code",
   "execution_count": 17,
   "metadata": {},
   "outputs": [
    {
     "data": {
      "text/html": "<div>\n<style scoped>\n    .dataframe tbody tr th:only-of-type {\n        vertical-align: middle;\n    }\n\n    .dataframe tbody tr th {\n        vertical-align: top;\n    }\n\n    .dataframe thead th {\n        text-align: right;\n    }\n</style>\n<table border=\"1\" class=\"dataframe\">\n  <thead>\n    <tr style=\"text-align: right;\">\n      <th></th>\n      <th>0</th>\n      <th>1</th>\n      <th>2</th>\n      <th>3</th>\n      <th>4</th>\n      <th>5</th>\n      <th>6</th>\n      <th>7</th>\n      <th>8</th>\n      <th>9</th>\n      <th>...</th>\n      <th>40</th>\n      <th>41</th>\n      <th>42</th>\n      <th>43</th>\n      <th>44</th>\n      <th>45</th>\n      <th>46</th>\n      <th>47</th>\n      <th>48</th>\n      <th>src_ip_with_port</th>\n    </tr>\n  </thead>\n  <tbody>\n    <tr>\n      <th>0</th>\n      <td>59.166.0.0</td>\n      <td>1390</td>\n      <td>149.171.126.6</td>\n      <td>53</td>\n      <td>udp</td>\n      <td>CON</td>\n      <td>0.001055</td>\n      <td>132</td>\n      <td>164</td>\n      <td>31</td>\n      <td>...</td>\n      <td>3</td>\n      <td>7</td>\n      <td>1</td>\n      <td>3</td>\n      <td>1</td>\n      <td>1</td>\n      <td>1</td>\n      <td>NaN</td>\n      <td>0</td>\n      <td>59.166.0.0:1390</td>\n    </tr>\n    <tr>\n      <th>1</th>\n      <td>59.166.0.0</td>\n      <td>33661</td>\n      <td>149.171.126.9</td>\n      <td>1024</td>\n      <td>udp</td>\n      <td>CON</td>\n      <td>0.036133</td>\n      <td>528</td>\n      <td>304</td>\n      <td>31</td>\n      <td>...</td>\n      <td>2</td>\n      <td>4</td>\n      <td>2</td>\n      <td>3</td>\n      <td>1</td>\n      <td>1</td>\n      <td>2</td>\n      <td>NaN</td>\n      <td>0</td>\n      <td>59.166.0.0:33661</td>\n    </tr>\n    <tr>\n      <th>2</th>\n      <td>59.166.0.6</td>\n      <td>1464</td>\n      <td>149.171.126.7</td>\n      <td>53</td>\n      <td>udp</td>\n      <td>CON</td>\n      <td>0.001119</td>\n      <td>146</td>\n      <td>178</td>\n      <td>31</td>\n      <td>...</td>\n      <td>12</td>\n      <td>8</td>\n      <td>1</td>\n      <td>2</td>\n      <td>2</td>\n      <td>1</td>\n      <td>1</td>\n      <td>NaN</td>\n      <td>0</td>\n      <td>59.166.0.6:1464</td>\n    </tr>\n    <tr>\n      <th>3</th>\n      <td>59.166.0.5</td>\n      <td>3593</td>\n      <td>149.171.126.5</td>\n      <td>53</td>\n      <td>udp</td>\n      <td>CON</td>\n      <td>0.001209</td>\n      <td>132</td>\n      <td>164</td>\n      <td>31</td>\n      <td>...</td>\n      <td>6</td>\n      <td>9</td>\n      <td>1</td>\n      <td>1</td>\n      <td>1</td>\n      <td>1</td>\n      <td>1</td>\n      <td>NaN</td>\n      <td>0</td>\n      <td>59.166.0.5:3593</td>\n    </tr>\n    <tr>\n      <th>4</th>\n      <td>59.166.0.3</td>\n      <td>49664</td>\n      <td>149.171.126.0</td>\n      <td>53</td>\n      <td>udp</td>\n      <td>CON</td>\n      <td>0.001169</td>\n      <td>146</td>\n      <td>178</td>\n      <td>31</td>\n      <td>...</td>\n      <td>7</td>\n      <td>9</td>\n      <td>1</td>\n      <td>1</td>\n      <td>1</td>\n      <td>1</td>\n      <td>1</td>\n      <td>NaN</td>\n      <td>0</td>\n      <td>59.166.0.3:49664</td>\n    </tr>\n    <tr>\n      <th>...</th>\n      <td>...</td>\n      <td>...</td>\n      <td>...</td>\n      <td>...</td>\n      <td>...</td>\n      <td>...</td>\n      <td>...</td>\n      <td>...</td>\n      <td>...</td>\n      <td>...</td>\n      <td>...</td>\n      <td>...</td>\n      <td>...</td>\n      <td>...</td>\n      <td>...</td>\n      <td>...</td>\n      <td>...</td>\n      <td>...</td>\n      <td>...</td>\n      <td>...</td>\n      <td>...</td>\n    </tr>\n    <tr>\n      <th>440039</th>\n      <td>59.166.0.5</td>\n      <td>33094</td>\n      <td>149.171.126.7</td>\n      <td>43433</td>\n      <td>tcp</td>\n      <td>FIN</td>\n      <td>0.087306</td>\n      <td>320</td>\n      <td>1828</td>\n      <td>31</td>\n      <td>...</td>\n      <td>1</td>\n      <td>2</td>\n      <td>3</td>\n      <td>3</td>\n      <td>1</td>\n      <td>1</td>\n      <td>3</td>\n      <td>NaN</td>\n      <td>0</td>\n      <td>59.166.0.5:33094</td>\n    </tr>\n    <tr>\n      <th>440040</th>\n      <td>59.166.0.7</td>\n      <td>20848</td>\n      <td>149.171.126.4</td>\n      <td>21</td>\n      <td>tcp</td>\n      <td>CON</td>\n      <td>0.365058</td>\n      <td>456</td>\n      <td>346</td>\n      <td>31</td>\n      <td>...</td>\n      <td>2</td>\n      <td>2</td>\n      <td>2</td>\n      <td>2</td>\n      <td>2</td>\n      <td>2</td>\n      <td>2</td>\n      <td>NaN</td>\n      <td>0</td>\n      <td>59.166.0.7:20848</td>\n    </tr>\n    <tr>\n      <th>440041</th>\n      <td>59.166.0.3</td>\n      <td>21511</td>\n      <td>149.171.126.9</td>\n      <td>21</td>\n      <td>tcp</td>\n      <td>CON</td>\n      <td>6.335154</td>\n      <td>1802</td>\n      <td>2088</td>\n      <td>31</td>\n      <td>...</td>\n      <td>2</td>\n      <td>2</td>\n      <td>4</td>\n      <td>2</td>\n      <td>2</td>\n      <td>2</td>\n      <td>2</td>\n      <td>NaN</td>\n      <td>0</td>\n      <td>59.166.0.3:21511</td>\n    </tr>\n    <tr>\n      <th>440042</th>\n      <td>59.166.0.9</td>\n      <td>35433</td>\n      <td>149.171.126.0</td>\n      <td>80</td>\n      <td>tcp</td>\n      <td>CON</td>\n      <td>2.200934</td>\n      <td>3498</td>\n      <td>166054</td>\n      <td>31</td>\n      <td>...</td>\n      <td>1</td>\n      <td>1</td>\n      <td>2</td>\n      <td>4</td>\n      <td>2</td>\n      <td>2</td>\n      <td>2</td>\n      <td>NaN</td>\n      <td>0</td>\n      <td>59.166.0.9:35433</td>\n    </tr>\n    <tr>\n      <th>440043</th>\n      <td>175.45.176.0</td>\n      <td>17293</td>\n      <td>149.171.126.17</td>\n      <td>110</td>\n      <td>tcp</td>\n      <td>CON</td>\n      <td>0.942984</td>\n      <td>574</td>\n      <td>676</td>\n      <td>62</td>\n      <td>...</td>\n      <td>1</td>\n      <td>1</td>\n      <td>2</td>\n      <td>4</td>\n      <td>2</td>\n      <td>2</td>\n      <td>2</td>\n      <td>Exploits</td>\n      <td>1</td>\n      <td>175.45.176.0:17293</td>\n    </tr>\n  </tbody>\n</table>\n<p>2540047 rows × 50 columns</p>\n</div>",
      "text/plain": "                   0      1               2      3    4    5         6     7  \\\n0         59.166.0.0   1390   149.171.126.6     53  udp  CON  0.001055   132   \n1         59.166.0.0  33661   149.171.126.9   1024  udp  CON  0.036133   528   \n2         59.166.0.6   1464   149.171.126.7     53  udp  CON  0.001119   146   \n3         59.166.0.5   3593   149.171.126.5     53  udp  CON  0.001209   132   \n4         59.166.0.3  49664   149.171.126.0     53  udp  CON  0.001169   146   \n...              ...    ...             ...    ...  ...  ...       ...   ...   \n440039    59.166.0.5  33094   149.171.126.7  43433  tcp  FIN  0.087306   320   \n440040    59.166.0.7  20848   149.171.126.4     21  tcp  CON  0.365058   456   \n440041    59.166.0.3  21511   149.171.126.9     21  tcp  CON  6.335154  1802   \n440042    59.166.0.9  35433   149.171.126.0     80  tcp  CON  2.200934  3498   \n440043  175.45.176.0  17293  149.171.126.17    110  tcp  CON  0.942984   574   \n\n             8   9  ...  40  41  42 43  44  45  46        47  48  \\\n0          164  31  ...   3   7   1  3   1   1   1       NaN   0   \n1          304  31  ...   2   4   2  3   1   1   2       NaN   0   \n2          178  31  ...  12   8   1  2   2   1   1       NaN   0   \n3          164  31  ...   6   9   1  1   1   1   1       NaN   0   \n4          178  31  ...   7   9   1  1   1   1   1       NaN   0   \n...        ...  ..  ...  ..  ..  .. ..  ..  ..  ..       ...  ..   \n440039    1828  31  ...   1   2   3  3   1   1   3       NaN   0   \n440040     346  31  ...   2   2   2  2   2   2   2       NaN   0   \n440041    2088  31  ...   2   2   4  2   2   2   2       NaN   0   \n440042  166054  31  ...   1   1   2  4   2   2   2       NaN   0   \n440043     676  62  ...   1   1   2  4   2   2   2  Exploits   1   \n\n          src_ip_with_port  \n0          59.166.0.0:1390  \n1         59.166.0.0:33661  \n2          59.166.0.6:1464  \n3          59.166.0.5:3593  \n4         59.166.0.3:49664  \n...                    ...  \n440039    59.166.0.5:33094  \n440040    59.166.0.7:20848  \n440041    59.166.0.3:21511  \n440042    59.166.0.9:35433  \n440043  175.45.176.0:17293  \n\n[2540047 rows x 50 columns]"
     },
     "execution_count": 17,
     "metadata": {},
     "output_type": "execute_result"
    }
   ],
   "source": [
    "df_example"
   ]
  },
  {
   "cell_type": "code",
   "execution_count": 18,
   "metadata": {},
   "outputs": [
    {
     "data": {
      "text/plain": "692920"
     },
     "execution_count": 18,
     "metadata": {},
     "output_type": "execute_result"
    }
   ],
   "source": [
    "len(df_example['src_ip_with_port'].unique())"
   ]
  },
  {
   "cell_type": "code",
   "execution_count": 19,
   "metadata": {},
   "outputs": [],
   "source": [
    "df_example['trg_ip_with_port'] = df_example[2].map(str) + \":\" + df_example[3].map(str)"
   ]
  },
  {
   "cell_type": "code",
   "execution_count": 20,
   "metadata": {},
   "outputs": [
    {
     "data": {
      "text/plain": "423204"
     },
     "execution_count": 20,
     "metadata": {},
     "output_type": "execute_result"
    }
   ],
   "source": [
    "len(df_example['trg_ip_with_port'].unique())"
   ]
  },
  {
   "cell_type": "code",
   "execution_count": 21,
   "metadata": {},
   "outputs": [],
   "source": [
    "total_node_set = set(df_example['src_ip_with_port'].unique()) | set(df_example['trg_ip_with_port'].unique())"
   ]
  },
  {
   "cell_type": "code",
   "execution_count": 22,
   "metadata": {},
   "outputs": [
    {
     "data": {
      "text/plain": "1112287"
     },
     "execution_count": 22,
     "metadata": {},
     "output_type": "execute_result"
    }
   ],
   "source": [
    "len(total_node_set)"
   ]
  },
  {
   "cell_type": "code",
   "execution_count": 23,
   "metadata": {},
   "outputs": [
    {
     "data": {
      "text/plain": "1116124"
     },
     "execution_count": 23,
     "metadata": {},
     "output_type": "execute_result"
    }
   ],
   "source": [
    "692920 + 423204"
   ]
  },
  {
   "cell_type": "code",
   "execution_count": 24,
   "metadata": {},
   "outputs": [],
   "source": [
    "inter_node_set = set(df_example['src_ip_with_port'].unique()) & set(df_example['trg_ip_with_port'].unique())"
   ]
  },
  {
   "cell_type": "code",
   "execution_count": 25,
   "metadata": {},
   "outputs": [
    {
     "data": {
      "text/plain": "3837"
     },
     "execution_count": 25,
     "metadata": {},
     "output_type": "execute_result"
    }
   ],
   "source": [
    "len(inter_node_set)"
   ]
  },
  {
   "cell_type": "code",
   "execution_count": 26,
   "metadata": {},
   "outputs": [
    {
     "data": {
      "text/plain": "0    2218764\n1     321283\nName: 48, dtype: int64"
     },
     "execution_count": 26,
     "metadata": {},
     "output_type": "execute_result"
    }
   ],
   "source": [
    "df_example[48].value_counts()"
   ]
  },
  {
   "cell_type": "code",
   "execution_count": 27,
   "metadata": {},
   "outputs": [
    {
     "data": {
      "text/plain": "0.8735129704292873"
     },
     "execution_count": 27,
     "metadata": {},
     "output_type": "execute_result"
    }
   ],
   "source": [
    "2218764 / 2540047"
   ]
  },
  {
   "cell_type": "code",
   "execution_count": 28,
   "metadata": {},
   "outputs": [
    {
     "data": {
      "text/plain": "0.12648702957071267"
     },
     "execution_count": 28,
     "metadata": {},
     "output_type": "execute_result"
    }
   ],
   "source": [
    "321283 / 2540047"
   ]
  },
  {
   "cell_type": "code",
   "execution_count": 29,
   "metadata": {},
   "outputs": [
    {
     "data": {
      "text/plain": "False"
     },
     "execution_count": 29,
     "metadata": {},
     "output_type": "execute_result"
    }
   ],
   "source": [
    "a = set()\n",
    "'1' in a"
   ]
  },
  {
   "cell_type": "markdown",
   "metadata": {},
   "source": [
    "# Construct Graph"
   ]
  },
  {
   "cell_type": "code",
   "execution_count": 54,
   "metadata": {},
   "outputs": [],
   "source": [
    "df_example_1['src_ip_with_port'] = df_example_1[0].map(str) + \":\" + df_example_1[1].map(str)\n",
    "df_example_1['trg_ip_with_port'] = df_example_1[2].map(str) + \":\" + df_example_1[3].map(str)\n",
    "df1_groupby_src = df_example_1.groupby(['src_ip_with_port'])"
   ]
  },
  {
   "cell_type": "code",
   "execution_count": 55,
   "metadata": {},
   "outputs": [],
   "source": [
    "df_example_2['src_ip_with_port'] = df_example_2[0].map(str) + \":\" + df_example_2[1].map(str)\n",
    "df_example_2['trg_ip_with_port'] = df_example_2[2].map(str) + \":\" + df_example_2[3].map(str)\n",
    "df2_groupby_src = df_example_2.groupby(['src_ip_with_port'])"
   ]
  },
  {
   "cell_type": "code",
   "execution_count": 56,
   "metadata": {},
   "outputs": [],
   "source": [
    "df_example_3['src_ip_with_port'] = df_example_3[0].map(str) + \":\" + df_example_3[1].map(str)\n",
    "df_example_3['trg_ip_with_port'] = df_example_3[2].map(str) + \":\" + df_example_3[3].map(str)\n",
    "df3_groupby_src = df_example_3.groupby(['src_ip_with_port'])"
   ]
  },
  {
   "cell_type": "code",
   "execution_count": 57,
   "metadata": {},
   "outputs": [],
   "source": [
    "df_example_4['src_ip_with_port'] = df_example_4[0].map(str) + \":\" + df_example_4[1].map(str)\n",
    "df_example_4['trg_ip_with_port'] = df_example_4[2].map(str) + \":\" + df_example_4[3].map(str)\n",
    "df4_groupby_src = df_example_4.groupby(['src_ip_with_port'])"
   ]
  },
  {
   "cell_type": "code",
   "execution_count": 59,
   "metadata": {},
   "outputs": [
    {
     "data": {
      "text/plain": "692920"
     },
     "execution_count": 59,
     "metadata": {},
     "output_type": "execute_result"
    }
   ],
   "source": [
    "df_groupby_src = df_example.groupby(['src_ip_with_port'])\n",
    "len(df_groupby_src)"
   ]
  },
  {
   "cell_type": "code",
   "execution_count": 60,
   "metadata": {},
   "outputs": [],
   "source": [
    "from collections import Counter\n",
    "num_attack_per_node = []\n",
    "num_normal_per_node = []\n",
    "for node_idx, df_groupby_src_chunk in list(df4_groupby_src):\n",
    "    cur_labels = df_groupby_src_chunk[48]\n",
    "    cur_labels = Counter(cur_labels)\n",
    "    num_attack_per_node.append(cur_labels[1])\n",
    "    num_normal_per_node.append(cur_labels[0])"
   ]
  },
  {
   "cell_type": "code",
   "execution_count": 61,
   "metadata": {},
   "outputs": [],
   "source": [
    "assert len(num_attack_per_node) == len(num_normal_per_node)"
   ]
  },
  {
   "cell_type": "code",
   "execution_count": 70,
   "metadata": {},
   "outputs": [],
   "source": [
    "pure_node_cnt = 0\n",
    "unpure_node_cnt = 0\n",
    "pure_node_list = []\n",
    "unpure_node_list = []\n",
    "edges_need_removed = 0\n",
    "for i in range(len(num_attack_per_node)):\n",
    "    if num_attack_per_node[i] != 0:\n",
    "        if num_normal_per_node[i] == 0:\n",
    "            pure_node_cnt += 1\n",
    "        else:\n",
    "            unpure_node_cnt += 1\n",
    "            edges_need_removed += (num_attack_per_node[i] + num_normal_per_node[i])\n",
    "    else:\n",
    "        if num_normal_per_node[i] == 0:\n",
    "            raise Exception(\"This node has none normal and none attack edges\")\n",
    "        else:\n",
    "            pure_node_cnt += 1\n"
   ]
  },
  {
   "cell_type": "code",
   "execution_count": 62,
   "metadata": {},
   "outputs": [
    {
     "name": "stdout",
     "output_type": "stream",
     "text": [
      "Processed 100000 src nodes\n",
      "Processed 200000 src nodes\n"
     ]
    }
   ],
   "source": [
    "sample_data_chunks = []\n",
    "src_iter_cnt = 0\n",
    "num_attack_nodes = 0\n",
    "num_attack_nodes_thres = 1000000\n",
    "num_normal_nodes = 0\n",
    "num_normal_nodes_thres = 1000000\n",
    "attack_src_node_set = set()\n",
    "normal_src_node_set = set()\n",
    "for node_idx, df_groupby_src_chunk in list(df4_groupby_src):\n",
    "    if num_attack_per_node[src_iter_cnt] != 0 and num_attack_nodes < num_attack_nodes_thres:\n",
    "        # print('Node: {}'.format(node_idx))\n",
    "        # print('Number of attack: {0} \\t number of normal: {1}'.format(\n",
    "        #     num_attack_per_node[src_iter_cnt], num_normal_per_node[src_iter_cnt]))\n",
    "        sample_data_chunks.append(df_groupby_src_chunk)\n",
    "        num_attack_nodes += 1\n",
    "        attack_src_node_set.add(node_idx)\n",
    "    elif num_attack_per_node[src_iter_cnt] == 0 and num_normal_nodes < num_normal_nodes_thres:\n",
    "        # print('Node: {}'.format(node_idx))\n",
    "        # print('Number of attack: {0} \\t number of normal: {1}'.format(\n",
    "        #     num_attack_per_node[src_iter_cnt], num_normal_per_node[src_iter_cnt]))\n",
    "        sample_data_chunks.append(df_groupby_src_chunk)\n",
    "        num_normal_nodes += 1\n",
    "        normal_src_node_set.add(node_idx)\n",
    "    elif num_attack_nodes >= num_attack_nodes_thres and num_normal_nodes >= num_normal_nodes_thres:\n",
    "        break\n",
    "    src_iter_cnt += 1\n",
    "    if src_iter_cnt % 100000 == 0:\n",
    "        print(\"Processed {} src nodes\".format(src_iter_cnt))"
   ]
  },
  {
   "cell_type": "code",
   "execution_count": 63,
   "metadata": {},
   "outputs": [
    {
     "data": {
      "text/html": "<div>\n<style scoped>\n    .dataframe tbody tr th:only-of-type {\n        vertical-align: middle;\n    }\n\n    .dataframe tbody tr th {\n        vertical-align: top;\n    }\n\n    .dataframe thead th {\n        text-align: right;\n    }\n</style>\n<table border=\"1\" class=\"dataframe\">\n  <thead>\n    <tr style=\"text-align: right;\">\n      <th></th>\n      <th>0</th>\n      <th>1</th>\n      <th>2</th>\n      <th>3</th>\n      <th>4</th>\n      <th>5</th>\n      <th>6</th>\n      <th>7</th>\n      <th>8</th>\n      <th>9</th>\n      <th>...</th>\n      <th>41</th>\n      <th>42</th>\n      <th>43</th>\n      <th>44</th>\n      <th>45</th>\n      <th>46</th>\n      <th>47</th>\n      <th>48</th>\n      <th>src_ip_with_port</th>\n      <th>trg_ip_with_port</th>\n    </tr>\n  </thead>\n  <tbody>\n    <tr>\n      <th>70</th>\n      <td>10.40.170.2</td>\n      <td>0</td>\n      <td>10.40.170.2</td>\n      <td>0</td>\n      <td>arp</td>\n      <td>INT</td>\n      <td>0.0</td>\n      <td>46</td>\n      <td>0</td>\n      <td>0</td>\n      <td>...</td>\n      <td>1</td>\n      <td>1</td>\n      <td>1</td>\n      <td>1</td>\n      <td>1</td>\n      <td>1</td>\n      <td>NaN</td>\n      <td>0</td>\n      <td>10.40.170.2:0</td>\n      <td>10.40.170.2:0</td>\n    </tr>\n    <tr>\n      <th>1486</th>\n      <td>10.40.170.2</td>\n      <td>0</td>\n      <td>10.40.170.2</td>\n      <td>0</td>\n      <td>arp</td>\n      <td>INT</td>\n      <td>0.0</td>\n      <td>46</td>\n      <td>0</td>\n      <td>0</td>\n      <td>...</td>\n      <td>1</td>\n      <td>1</td>\n      <td>1</td>\n      <td>1</td>\n      <td>1</td>\n      <td>1</td>\n      <td>NaN</td>\n      <td>0</td>\n      <td>10.40.170.2:0</td>\n      <td>10.40.170.2:0</td>\n    </tr>\n    <tr>\n      <th>2949</th>\n      <td>10.40.170.2</td>\n      <td>0</td>\n      <td>10.40.170.2</td>\n      <td>0</td>\n      <td>arp</td>\n      <td>INT</td>\n      <td>0.0</td>\n      <td>46</td>\n      <td>0</td>\n      <td>0</td>\n      <td>...</td>\n      <td>1</td>\n      <td>1</td>\n      <td>1</td>\n      <td>1</td>\n      <td>1</td>\n      <td>1</td>\n      <td>NaN</td>\n      <td>0</td>\n      <td>10.40.170.2:0</td>\n      <td>10.40.170.2:0</td>\n    </tr>\n    <tr>\n      <th>4420</th>\n      <td>10.40.170.2</td>\n      <td>0</td>\n      <td>10.40.170.2</td>\n      <td>0</td>\n      <td>arp</td>\n      <td>INT</td>\n      <td>0.0</td>\n      <td>46</td>\n      <td>0</td>\n      <td>0</td>\n      <td>...</td>\n      <td>1</td>\n      <td>1</td>\n      <td>1</td>\n      <td>1</td>\n      <td>1</td>\n      <td>1</td>\n      <td>NaN</td>\n      <td>0</td>\n      <td>10.40.170.2:0</td>\n      <td>10.40.170.2:0</td>\n    </tr>\n    <tr>\n      <th>5837</th>\n      <td>10.40.170.2</td>\n      <td>0</td>\n      <td>10.40.170.2</td>\n      <td>0</td>\n      <td>arp</td>\n      <td>INT</td>\n      <td>0.0</td>\n      <td>46</td>\n      <td>0</td>\n      <td>0</td>\n      <td>...</td>\n      <td>1</td>\n      <td>1</td>\n      <td>1</td>\n      <td>1</td>\n      <td>1</td>\n      <td>1</td>\n      <td>NaN</td>\n      <td>0</td>\n      <td>10.40.170.2:0</td>\n      <td>10.40.170.2:0</td>\n    </tr>\n    <tr>\n      <th>...</th>\n      <td>...</td>\n      <td>...</td>\n      <td>...</td>\n      <td>...</td>\n      <td>...</td>\n      <td>...</td>\n      <td>...</td>\n      <td>...</td>\n      <td>...</td>\n      <td>...</td>\n      <td>...</td>\n      <td>...</td>\n      <td>...</td>\n      <td>...</td>\n      <td>...</td>\n      <td>...</td>\n      <td>...</td>\n      <td>...</td>\n      <td>...</td>\n      <td>...</td>\n      <td>...</td>\n    </tr>\n    <tr>\n      <th>431907</th>\n      <td>10.40.170.2</td>\n      <td>0</td>\n      <td>10.40.170.2</td>\n      <td>0</td>\n      <td>arp</td>\n      <td>INT</td>\n      <td>0.0</td>\n      <td>46</td>\n      <td>0</td>\n      <td>0</td>\n      <td>...</td>\n      <td>2</td>\n      <td>2</td>\n      <td>2</td>\n      <td>2</td>\n      <td>2</td>\n      <td>2</td>\n      <td>NaN</td>\n      <td>0</td>\n      <td>10.40.170.2:0</td>\n      <td>10.40.170.2:0</td>\n    </tr>\n    <tr>\n      <th>434534</th>\n      <td>10.40.170.2</td>\n      <td>0</td>\n      <td>10.40.170.2</td>\n      <td>0</td>\n      <td>arp</td>\n      <td>INT</td>\n      <td>0.0</td>\n      <td>46</td>\n      <td>0</td>\n      <td>0</td>\n      <td>...</td>\n      <td>2</td>\n      <td>2</td>\n      <td>2</td>\n      <td>2</td>\n      <td>2</td>\n      <td>2</td>\n      <td>NaN</td>\n      <td>0</td>\n      <td>10.40.170.2:0</td>\n      <td>10.40.170.2:0</td>\n    </tr>\n    <tr>\n      <th>434536</th>\n      <td>10.40.170.2</td>\n      <td>0</td>\n      <td>10.40.170.2</td>\n      <td>0</td>\n      <td>arp</td>\n      <td>INT</td>\n      <td>0.0</td>\n      <td>46</td>\n      <td>0</td>\n      <td>0</td>\n      <td>...</td>\n      <td>2</td>\n      <td>2</td>\n      <td>2</td>\n      <td>2</td>\n      <td>2</td>\n      <td>2</td>\n      <td>NaN</td>\n      <td>0</td>\n      <td>10.40.170.2:0</td>\n      <td>10.40.170.2:0</td>\n    </tr>\n    <tr>\n      <th>437075</th>\n      <td>10.40.170.2</td>\n      <td>0</td>\n      <td>10.40.170.2</td>\n      <td>0</td>\n      <td>arp</td>\n      <td>INT</td>\n      <td>0.0</td>\n      <td>46</td>\n      <td>0</td>\n      <td>0</td>\n      <td>...</td>\n      <td>2</td>\n      <td>2</td>\n      <td>2</td>\n      <td>2</td>\n      <td>2</td>\n      <td>2</td>\n      <td>NaN</td>\n      <td>0</td>\n      <td>10.40.170.2:0</td>\n      <td>10.40.170.2:0</td>\n    </tr>\n    <tr>\n      <th>437077</th>\n      <td>10.40.170.2</td>\n      <td>0</td>\n      <td>10.40.170.2</td>\n      <td>0</td>\n      <td>arp</td>\n      <td>INT</td>\n      <td>0.0</td>\n      <td>46</td>\n      <td>0</td>\n      <td>0</td>\n      <td>...</td>\n      <td>2</td>\n      <td>2</td>\n      <td>2</td>\n      <td>2</td>\n      <td>2</td>\n      <td>2</td>\n      <td>NaN</td>\n      <td>0</td>\n      <td>10.40.170.2:0</td>\n      <td>10.40.170.2:0</td>\n    </tr>\n  </tbody>\n</table>\n<p>216 rows × 51 columns</p>\n</div>",
      "text/plain": "                  0  1            2  3    4    5    6   7  8  9  ...  41  42  \\\n70      10.40.170.2  0  10.40.170.2  0  arp  INT  0.0  46  0  0  ...   1   1   \n1486    10.40.170.2  0  10.40.170.2  0  arp  INT  0.0  46  0  0  ...   1   1   \n2949    10.40.170.2  0  10.40.170.2  0  arp  INT  0.0  46  0  0  ...   1   1   \n4420    10.40.170.2  0  10.40.170.2  0  arp  INT  0.0  46  0  0  ...   1   1   \n5837    10.40.170.2  0  10.40.170.2  0  arp  INT  0.0  46  0  0  ...   1   1   \n...             ... ..          ... ..  ...  ...  ...  .. .. ..  ...  ..  ..   \n431907  10.40.170.2  0  10.40.170.2  0  arp  INT  0.0  46  0  0  ...   2   2   \n434534  10.40.170.2  0  10.40.170.2  0  arp  INT  0.0  46  0  0  ...   2   2   \n434536  10.40.170.2  0  10.40.170.2  0  arp  INT  0.0  46  0  0  ...   2   2   \n437075  10.40.170.2  0  10.40.170.2  0  arp  INT  0.0  46  0  0  ...   2   2   \n437077  10.40.170.2  0  10.40.170.2  0  arp  INT  0.0  46  0  0  ...   2   2   \n\n        43 44  45  46   47  48  src_ip_with_port  trg_ip_with_port  \n70       1  1   1   1  NaN   0     10.40.170.2:0     10.40.170.2:0  \n1486     1  1   1   1  NaN   0     10.40.170.2:0     10.40.170.2:0  \n2949     1  1   1   1  NaN   0     10.40.170.2:0     10.40.170.2:0  \n4420     1  1   1   1  NaN   0     10.40.170.2:0     10.40.170.2:0  \n5837     1  1   1   1  NaN   0     10.40.170.2:0     10.40.170.2:0  \n...     .. ..  ..  ..  ...  ..               ...               ...  \n431907   2  2   2   2  NaN   0     10.40.170.2:0     10.40.170.2:0  \n434534   2  2   2   2  NaN   0     10.40.170.2:0     10.40.170.2:0  \n434536   2  2   2   2  NaN   0     10.40.170.2:0     10.40.170.2:0  \n437075   2  2   2   2  NaN   0     10.40.170.2:0     10.40.170.2:0  \n437077   2  2   2   2  NaN   0     10.40.170.2:0     10.40.170.2:0  \n\n[216 rows x 51 columns]"
     },
     "execution_count": 63,
     "metadata": {},
     "output_type": "execute_result"
    }
   ],
   "source": [
    "sample_data_chunks[0]"
   ]
  },
  {
   "cell_type": "code",
   "execution_count": 64,
   "metadata": {},
   "outputs": [],
   "source": [
    "df_sample_data = pd.concat(sample_data_chunks, axis=0)"
   ]
  },
  {
   "cell_type": "code",
   "execution_count": 65,
   "metadata": {},
   "outputs": [
    {
     "data": {
      "text/html": "<div>\n<style scoped>\n    .dataframe tbody tr th:only-of-type {\n        vertical-align: middle;\n    }\n\n    .dataframe tbody tr th {\n        vertical-align: top;\n    }\n\n    .dataframe thead th {\n        text-align: right;\n    }\n</style>\n<table border=\"1\" class=\"dataframe\">\n  <thead>\n    <tr style=\"text-align: right;\">\n      <th></th>\n      <th>0</th>\n      <th>1</th>\n      <th>2</th>\n      <th>3</th>\n      <th>4</th>\n      <th>5</th>\n      <th>6</th>\n      <th>7</th>\n      <th>8</th>\n      <th>9</th>\n      <th>...</th>\n      <th>41</th>\n      <th>42</th>\n      <th>43</th>\n      <th>44</th>\n      <th>45</th>\n      <th>46</th>\n      <th>47</th>\n      <th>48</th>\n      <th>src_ip_with_port</th>\n      <th>trg_ip_with_port</th>\n    </tr>\n  </thead>\n  <tbody>\n    <tr>\n      <th>70</th>\n      <td>10.40.170.2</td>\n      <td>0</td>\n      <td>10.40.170.2</td>\n      <td>0</td>\n      <td>arp</td>\n      <td>INT</td>\n      <td>0.000000</td>\n      <td>46</td>\n      <td>0</td>\n      <td>0</td>\n      <td>...</td>\n      <td>1</td>\n      <td>1</td>\n      <td>1</td>\n      <td>1</td>\n      <td>1</td>\n      <td>1</td>\n      <td>NaN</td>\n      <td>0</td>\n      <td>10.40.170.2:0</td>\n      <td>10.40.170.2:0</td>\n    </tr>\n    <tr>\n      <th>1486</th>\n      <td>10.40.170.2</td>\n      <td>0</td>\n      <td>10.40.170.2</td>\n      <td>0</td>\n      <td>arp</td>\n      <td>INT</td>\n      <td>0.000000</td>\n      <td>46</td>\n      <td>0</td>\n      <td>0</td>\n      <td>...</td>\n      <td>1</td>\n      <td>1</td>\n      <td>1</td>\n      <td>1</td>\n      <td>1</td>\n      <td>1</td>\n      <td>NaN</td>\n      <td>0</td>\n      <td>10.40.170.2:0</td>\n      <td>10.40.170.2:0</td>\n    </tr>\n    <tr>\n      <th>2949</th>\n      <td>10.40.170.2</td>\n      <td>0</td>\n      <td>10.40.170.2</td>\n      <td>0</td>\n      <td>arp</td>\n      <td>INT</td>\n      <td>0.000000</td>\n      <td>46</td>\n      <td>0</td>\n      <td>0</td>\n      <td>...</td>\n      <td>1</td>\n      <td>1</td>\n      <td>1</td>\n      <td>1</td>\n      <td>1</td>\n      <td>1</td>\n      <td>NaN</td>\n      <td>0</td>\n      <td>10.40.170.2:0</td>\n      <td>10.40.170.2:0</td>\n    </tr>\n    <tr>\n      <th>4420</th>\n      <td>10.40.170.2</td>\n      <td>0</td>\n      <td>10.40.170.2</td>\n      <td>0</td>\n      <td>arp</td>\n      <td>INT</td>\n      <td>0.000000</td>\n      <td>46</td>\n      <td>0</td>\n      <td>0</td>\n      <td>...</td>\n      <td>1</td>\n      <td>1</td>\n      <td>1</td>\n      <td>1</td>\n      <td>1</td>\n      <td>1</td>\n      <td>NaN</td>\n      <td>0</td>\n      <td>10.40.170.2:0</td>\n      <td>10.40.170.2:0</td>\n    </tr>\n    <tr>\n      <th>5837</th>\n      <td>10.40.170.2</td>\n      <td>0</td>\n      <td>10.40.170.2</td>\n      <td>0</td>\n      <td>arp</td>\n      <td>INT</td>\n      <td>0.000000</td>\n      <td>46</td>\n      <td>0</td>\n      <td>0</td>\n      <td>...</td>\n      <td>1</td>\n      <td>1</td>\n      <td>1</td>\n      <td>1</td>\n      <td>1</td>\n      <td>1</td>\n      <td>NaN</td>\n      <td>0</td>\n      <td>10.40.170.2:0</td>\n      <td>10.40.170.2:0</td>\n    </tr>\n    <tr>\n      <th>...</th>\n      <td>...</td>\n      <td>...</td>\n      <td>...</td>\n      <td>...</td>\n      <td>...</td>\n      <td>...</td>\n      <td>...</td>\n      <td>...</td>\n      <td>...</td>\n      <td>...</td>\n      <td>...</td>\n      <td>...</td>\n      <td>...</td>\n      <td>...</td>\n      <td>...</td>\n      <td>...</td>\n      <td>...</td>\n      <td>...</td>\n      <td>...</td>\n      <td>...</td>\n      <td>...</td>\n    </tr>\n    <tr>\n      <th>201219</th>\n      <td>59.166.0.9</td>\n      <td>9980</td>\n      <td>149.171.126.2</td>\n      <td>6881</td>\n      <td>tcp</td>\n      <td>FIN</td>\n      <td>1.086515</td>\n      <td>13038</td>\n      <td>548216</td>\n      <td>31</td>\n      <td>...</td>\n      <td>5</td>\n      <td>1</td>\n      <td>3</td>\n      <td>1</td>\n      <td>1</td>\n      <td>5</td>\n      <td>NaN</td>\n      <td>0</td>\n      <td>59.166.0.9:9980</td>\n      <td>149.171.126.2:6881</td>\n    </tr>\n    <tr>\n      <th>138492</th>\n      <td>59.166.0.9</td>\n      <td>9985</td>\n      <td>149.171.126.1</td>\n      <td>111</td>\n      <td>udp</td>\n      <td>CON</td>\n      <td>0.004746</td>\n      <td>568</td>\n      <td>320</td>\n      <td>31</td>\n      <td>...</td>\n      <td>4</td>\n      <td>5</td>\n      <td>7</td>\n      <td>1</td>\n      <td>1</td>\n      <td>4</td>\n      <td>NaN</td>\n      <td>0</td>\n      <td>59.166.0.9:9985</td>\n      <td>149.171.126.1:111</td>\n    </tr>\n    <tr>\n      <th>181684</th>\n      <td>59.166.0.9</td>\n      <td>9990</td>\n      <td>149.171.126.4</td>\n      <td>6881</td>\n      <td>tcp</td>\n      <td>FIN</td>\n      <td>0.018546</td>\n      <td>1540</td>\n      <td>1644</td>\n      <td>31</td>\n      <td>...</td>\n      <td>7</td>\n      <td>8</td>\n      <td>9</td>\n      <td>6</td>\n      <td>1</td>\n      <td>7</td>\n      <td>NaN</td>\n      <td>0</td>\n      <td>59.166.0.9:9990</td>\n      <td>149.171.126.4:6881</td>\n    </tr>\n    <tr>\n      <th>29447</th>\n      <td>59.166.0.9</td>\n      <td>9994</td>\n      <td>149.171.126.2</td>\n      <td>42295</td>\n      <td>tcp</td>\n      <td>FIN</td>\n      <td>0.013097</td>\n      <td>2542</td>\n      <td>23516</td>\n      <td>31</td>\n      <td>...</td>\n      <td>4</td>\n      <td>2</td>\n      <td>2</td>\n      <td>1</td>\n      <td>1</td>\n      <td>2</td>\n      <td>NaN</td>\n      <td>0</td>\n      <td>59.166.0.9:9994</td>\n      <td>149.171.126.2:42295</td>\n    </tr>\n    <tr>\n      <th>435180</th>\n      <td>59.166.0.9</td>\n      <td>9996</td>\n      <td>149.171.126.8</td>\n      <td>53</td>\n      <td>udp</td>\n      <td>CON</td>\n      <td>0.001067</td>\n      <td>146</td>\n      <td>178</td>\n      <td>31</td>\n      <td>...</td>\n      <td>2</td>\n      <td>2</td>\n      <td>6</td>\n      <td>1</td>\n      <td>1</td>\n      <td>1</td>\n      <td>NaN</td>\n      <td>0</td>\n      <td>59.166.0.9:9996</td>\n      <td>149.171.126.8:53</td>\n    </tr>\n  </tbody>\n</table>\n<p>440044 rows × 51 columns</p>\n</div>",
      "text/plain": "                  0     1              2      3    4    5         6      7  \\\n70      10.40.170.2     0    10.40.170.2      0  arp  INT  0.000000     46   \n1486    10.40.170.2     0    10.40.170.2      0  arp  INT  0.000000     46   \n2949    10.40.170.2     0    10.40.170.2      0  arp  INT  0.000000     46   \n4420    10.40.170.2     0    10.40.170.2      0  arp  INT  0.000000     46   \n5837    10.40.170.2     0    10.40.170.2      0  arp  INT  0.000000     46   \n...             ...   ...            ...    ...  ...  ...       ...    ...   \n201219   59.166.0.9  9980  149.171.126.2   6881  tcp  FIN  1.086515  13038   \n138492   59.166.0.9  9985  149.171.126.1    111  udp  CON  0.004746    568   \n181684   59.166.0.9  9990  149.171.126.4   6881  tcp  FIN  0.018546   1540   \n29447    59.166.0.9  9994  149.171.126.2  42295  tcp  FIN  0.013097   2542   \n435180   59.166.0.9  9996  149.171.126.8     53  udp  CON  0.001067    146   \n\n             8   9  ...  41  42  43 44  45  46   47  48  src_ip_with_port  \\\n70           0   0  ...   1   1   1  1   1   1  NaN   0     10.40.170.2:0   \n1486         0   0  ...   1   1   1  1   1   1  NaN   0     10.40.170.2:0   \n2949         0   0  ...   1   1   1  1   1   1  NaN   0     10.40.170.2:0   \n4420         0   0  ...   1   1   1  1   1   1  NaN   0     10.40.170.2:0   \n5837         0   0  ...   1   1   1  1   1   1  NaN   0     10.40.170.2:0   \n...        ...  ..  ...  ..  ..  .. ..  ..  ..  ...  ..               ...   \n201219  548216  31  ...   5   1   3  1   1   5  NaN   0   59.166.0.9:9980   \n138492     320  31  ...   4   5   7  1   1   4  NaN   0   59.166.0.9:9985   \n181684    1644  31  ...   7   8   9  6   1   7  NaN   0   59.166.0.9:9990   \n29447    23516  31  ...   4   2   2  1   1   2  NaN   0   59.166.0.9:9994   \n435180     178  31  ...   2   2   6  1   1   1  NaN   0   59.166.0.9:9996   \n\n           trg_ip_with_port  \n70            10.40.170.2:0  \n1486          10.40.170.2:0  \n2949          10.40.170.2:0  \n4420          10.40.170.2:0  \n5837          10.40.170.2:0  \n...                     ...  \n201219   149.171.126.2:6881  \n138492    149.171.126.1:111  \n181684   149.171.126.4:6881  \n29447   149.171.126.2:42295  \n435180     149.171.126.8:53  \n\n[440044 rows x 51 columns]"
     },
     "execution_count": 65,
     "metadata": {},
     "output_type": "execute_result"
    }
   ],
   "source": [
    "df_sample_data"
   ]
  },
  {
   "cell_type": "code",
   "execution_count": 66,
   "metadata": {},
   "outputs": [
    {
     "data": {
      "text/plain": "240163"
     },
     "execution_count": 66,
     "metadata": {},
     "output_type": "execute_result"
    }
   ],
   "source": [
    "len(list(df_sample_data['src_ip_with_port'].unique()))"
   ]
  },
  {
   "cell_type": "code",
   "execution_count": 67,
   "metadata": {},
   "outputs": [
    {
     "data": {
      "text/plain": "87513"
     },
     "execution_count": 67,
     "metadata": {},
     "output_type": "execute_result"
    }
   ],
   "source": [
    "len(list(df_sample_data['trg_ip_with_port'].unique()))"
   ]
  },
  {
   "cell_type": "code",
   "execution_count": 68,
   "metadata": {},
   "outputs": [
    {
     "name": "stdout",
     "output_type": "stream",
     "text": [
      "240163\n",
      "327626\n"
     ]
    }
   ],
   "source": [
    "ip2id = dict()\n",
    "id2ip = dict()\n",
    "# add src node\n",
    "cnt_node = 0\n",
    "for ip in list(df_sample_data['src_ip_with_port'].unique()):\n",
    "    if ip not in ip2id:\n",
    "        ip2id[ip] = cnt_node\n",
    "        id2ip[cnt_node] = ip\n",
    "        cnt_node += 1\n",
    "print(len(ip2id))\n",
    "# add trg node\n",
    "for ip in list(df_sample_data['trg_ip_with_port'].unique()):\n",
    "    if ip not in ip2id:\n",
    "        ip2id[ip] = cnt_node\n",
    "        id2ip[cnt_node] = ip\n",
    "        cnt_node += 1\n",
    "print(len(ip2id))"
   ]
  },
  {
   "cell_type": "markdown",
   "metadata": {},
   "source": [
    "## Save the vocab file"
   ]
  },
  {
   "cell_type": "code",
   "execution_count": 74,
   "metadata": {},
   "outputs": [],
   "source": [
    "import pickle\n",
    "with open('vocab/dataset4_ip2id.pickle', 'wb') as handle:\n",
    "    pickle.dump(ip2id, handle, protocol=pickle.HIGHEST_PROTOCOL)\n",
    "with open('vocab/dataset4_id2ip.pickle', 'wb') as handle:\n",
    "    pickle.dump(id2ip, handle, protocol=pickle.HIGHEST_PROTOCOL)"
   ]
  },
  {
   "cell_type": "code",
   "execution_count": 69,
   "metadata": {},
   "outputs": [],
   "source": [
    "df_sample_data_groupby_srctrg = df_sample_data.groupby(['src_ip_with_port', 'trg_ip_with_port'])"
   ]
  },
  {
   "cell_type": "code",
   "execution_count": 71,
   "metadata": {},
   "outputs": [],
   "source": [
    "graph_data = []\n",
    "graph_data_with_label = []\n",
    "for nodeip, data_chunk in list(df_sample_data_groupby_srctrg):\n",
    "    src_node_ip = nodeip[0]\n",
    "    trg_node_ip = nodeip[1]\n",
    "    num_edges = len(data_chunk)\n",
    "    counter_label = Counter(data_chunk[48])\n",
    "    if counter_label[1] != 0:\n",
    "        current_label = 1\n",
    "    else:\n",
    "        current_label = 0\n",
    "    src_node_id = ip2id[src_node_ip]\n",
    "    trg_node_id = ip2id[trg_node_ip]\n",
    "    graph_data.append((src_node_id, trg_node_id, num_edges))\n",
    "    graph_data_with_label.append((src_node_id, trg_node_id, num_edges, current_label))"
   ]
  },
  {
   "cell_type": "code",
   "execution_count": 72,
   "metadata": {},
   "outputs": [
    {
     "data": {
      "text/plain": "[(0, 0, 216),\n (1, 2, 174),\n (1, 240163, 229),\n (2, 2, 216),\n (2, 3, 3),\n (3, 2, 4),\n (4, 240164, 960),\n (5, 72, 82),\n (6, 240165, 75),\n (7, 240166, 1),\n (8, 240166, 1),\n (9, 240166, 1),\n (10, 240166, 1),\n (11, 240166, 1),\n (12, 240166, 1),\n (13, 240166, 1),\n (14, 240166, 1),\n (15, 240166, 1),\n (16, 240166, 1),\n (17, 240166, 1)]"
     },
     "execution_count": 72,
     "metadata": {},
     "output_type": "execute_result"
    }
   ],
   "source": [
    "graph_data[:20]"
   ]
  },
  {
   "cell_type": "code",
   "execution_count": 77,
   "metadata": {},
   "outputs": [
    {
     "data": {
      "text/plain": "[(0, 0, 216, 0),\n (1, 2, 174, 0),\n (1, 240163, 229, 0),\n (2, 2, 216, 0),\n (2, 3, 3, 0),\n (3, 2, 4, 0),\n (4, 240164, 960, 0),\n (5, 72, 82, 0),\n (6, 240165, 75, 0),\n (7, 240166, 1, 0),\n (8, 240166, 1, 0),\n (9, 240166, 1, 0),\n (10, 240166, 1, 0),\n (11, 240166, 1, 0),\n (12, 240166, 1, 0),\n (13, 240166, 1, 0),\n (14, 240166, 1, 0),\n (15, 240166, 1, 0),\n (16, 240166, 1, 0),\n (17, 240166, 1, 0)]"
     },
     "execution_count": 77,
     "metadata": {},
     "output_type": "execute_result"
    }
   ],
   "source": [
    "graph_data_with_label[:20]"
   ]
  },
  {
   "cell_type": "code",
   "execution_count": 75,
   "metadata": {},
   "outputs": [
    {
     "name": "stdout",
     "output_type": "stream",
     "text": [
      "Totally 289185 lines of data (i.e. edges)\n"
     ]
    }
   ],
   "source": [
    "# write this edges into file\n",
    "cnt_line = 0\n",
    "with open(\"sample_data_dataset4.txt\", 'w') as f:\n",
    "    for edge_data in graph_data:\n",
    "        f.write(\"{} {} {}\".format(edge_data[0], edge_data[1], edge_data[2]))\n",
    "        f.write('\\n')\n",
    "        cnt_line += 1\n",
    "print(\"Totally {} lines of data (i.e. edges)\".format(cnt_line))"
   ]
  },
  {
   "cell_type": "code",
   "execution_count": null,
   "metadata": {},
   "outputs": [],
   "source": []
  },
  {
   "cell_type": "code",
   "execution_count": 78,
   "metadata": {},
   "outputs": [
    {
     "name": "stdout",
     "output_type": "stream",
     "text": [
      "Totally 289185 lines of data (i.e. edges)\n"
     ]
    }
   ],
   "source": [
    "# write this edges with label into file\n",
    "cnt_line = 0\n",
    "with open(\"sample_data_withlabel_dataset4.txt\", 'w') as f:\n",
    "    for edge_data in graph_data_with_label:\n",
    "        f.write(\"{} {} {} {}\".format(edge_data[0], edge_data[1], edge_data[2], edge_data[3]))\n",
    "        f.write('\\n')\n",
    "        cnt_line += 1\n",
    "print(\"Totally {} lines of data (i.e. edges)\".format(cnt_line))"
   ]
  },
  {
   "cell_type": "code",
   "execution_count": 52,
   "metadata": {},
   "outputs": [],
   "source": [
    "# which node are attackers?\n",
    "with open(\"src_node_label.txt\", 'w') as f:\n",
    "    for src_ip in df_sample_data['src_ip_with_port'].unique():\n",
    "        f.write(\"{} {}\\n\".format(src_ip, 0))"
   ]
  },
  {
   "cell_type": "code",
   "execution_count": null,
   "metadata": {},
   "outputs": [],
   "source": []
  }
 ],
 "metadata": {
  "kernelspec": {
   "display_name": "Python 3.7.4 64-bit",
   "name": "python374jvsc74a57bd020bbdedb0079e23a85211f14a09dbcc829fefc965ff02508ebf68fe08b48d387"
  },
  "language_info": {
   "codemirror_mode": {
    "name": "ipython",
    "version": 3
   },
   "file_extension": ".py",
   "mimetype": "text/x-python",
   "name": "python",
   "nbconvert_exporter": "python",
   "pygments_lexer": "ipython3",
   "version": "3.7.4"
  },
  "orig_nbformat": 3
 },
 "nbformat": 4,
 "nbformat_minor": 4
}